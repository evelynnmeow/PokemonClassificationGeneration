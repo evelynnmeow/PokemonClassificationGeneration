{
  "nbformat": 4,
  "nbformat_minor": 0,
  "metadata": {
    "colab": {
      "name": "gray_3_2_classes.ipynb",
      "provenance": [],
      "collapsed_sections": [],
      "authorship_tag": "ABX9TyOrlAafN+phZ/kEjbMwlcsY"
    },
    "kernelspec": {
      "name": "python3",
      "display_name": "Python 3"
    },
    "accelerator": "GPU"
  },
  "cells": [
    {
      "cell_type": "code",
      "metadata": {
        "colab": {
          "base_uri": "https://localhost:8080/",
          "height": 17
        },
        "id": "ih9VNDWini1q",
        "outputId": "31b6aa2e-985f-4a56-bc26-a73921306ff7"
      },
      "source": [
        "# Pokemon type classification \n",
        "# Part 4\n",
        "# JM \n",
        "# This notebook uses cnn to predict 2 & 3 classes of Pokemon using gray scale\n",
        "import numpy as np \n",
        "import pandas as pd \n",
        "import matplotlib.pyplot as plt\n",
        "import plotly.graph_objects as go\n",
        "from plotly.offline import init_notebook_mode, iplot\n",
        "import plotly.express as px\n",
        "init_notebook_mode(connected=True)\n",
        "from google.colab import drive\n",
        "import re\n",
        "import os\n",
        "from shutil import copyfile\n",
        "from sklearn.model_selection import train_test_split\n",
        "from shutil import copyfile, copy2\n",
        "from keras.preprocessing.image import ImageDataGenerator\n",
        "import keras\n",
        "from tensorflow.keras.preprocessing import image \n",
        "import tensorflow as tf"
      ],
      "execution_count": 1,
      "outputs": [
        {
          "output_type": "display_data",
          "data": {
            "text/html": [
              "        <script type=\"text/javascript\">\n",
              "        window.PlotlyConfig = {MathJaxConfig: 'local'};\n",
              "        if (window.MathJax) {MathJax.Hub.Config({SVG: {font: \"STIX-Web\"}});}\n",
              "        if (typeof require !== 'undefined') {\n",
              "        require.undef(\"plotly\");\n",
              "        requirejs.config({\n",
              "            paths: {\n",
              "                'plotly': ['https://cdn.plot.ly/plotly-latest.min']\n",
              "            }\n",
              "        });\n",
              "        require(['plotly'], function(Plotly) {\n",
              "            window._Plotly = Plotly;\n",
              "        });\n",
              "        }\n",
              "        </script>\n",
              "        "
            ]
          },
          "metadata": {
            "tags": []
          }
        }
      ]
    },
    {
      "cell_type": "code",
      "metadata": {
        "colab": {
          "base_uri": "https://localhost:8080/"
        },
        "id": "Xqa2d2c8nznV",
        "outputId": "eb0b42e1-22f5-458f-8a21-5453b00351df"
      },
      "source": [
        "drive.mount(\"/content/drive\", force_remount=True)"
      ],
      "execution_count": 2,
      "outputs": [
        {
          "output_type": "stream",
          "text": [
            "Mounted at /content/drive\n"
          ],
          "name": "stdout"
        }
      ]
    },
    {
      "cell_type": "code",
      "metadata": {
        "colab": {
          "base_uri": "https://localhost:8080/"
        },
        "id": "mE3Qcafjn_IT",
        "outputId": "393aab76-ebde-45bd-a4f8-15b7f69d7014"
      },
      "source": [
        "%cd /content/drive/My Drive/Pokemon/Pokemon/"
      ],
      "execution_count": 3,
      "outputs": [
        {
          "output_type": "stream",
          "text": [
            "/content/drive/My Drive/Pokemon/Pokemon\n"
          ],
          "name": "stdout"
        }
      ]
    },
    {
      "cell_type": "code",
      "metadata": {
        "id": "ueuKPGEqoDV_"
      },
      "source": [
        "# read in datasets\n",
        "pokemons = pd.read_csv('pokemon-images-and-types/pokemon.csv')\n",
        "numbers = []\n",
        "for i in range(1,pokemons.shape[0]+1):\n",
        "    numbers.append(i)\n",
        "pokemons['pkn'] = numbers\n",
        "IMG_DIR = 'pokemon-images-dataset/pokemon'\n",
        "from os import listdir\n",
        "from os.path import isfile, join\n",
        "onlyfiles = [f for f in listdir(IMG_DIR) if isfile(join(IMG_DIR, f))]"
      ],
      "execution_count": 4,
      "outputs": []
    },
    {
      "cell_type": "code",
      "metadata": {
        "colab": {
          "base_uri": "https://localhost:8080/",
          "height": 204
        },
        "id": "G5EDVetWoG-l",
        "outputId": "858271a0-039c-4c41-cd6e-545a4c8de58f"
      },
      "source": [
        "# merge datasets\n",
        "dataframe_img = pd.DataFrame([])\n",
        "images = []\n",
        "pokemon_number = []\n",
        "for img in onlyfiles:\n",
        "    if not re.search('-', img):\n",
        "        pkn = img.split('.')\n",
        "        n = re.sub(\"[^0-9]\", \"\", pkn[0])\n",
        "        path = IMG_DIR +'/' +str(img)\n",
        "        images.append(path)\n",
        "        pokemon_number.append(n)\n",
        "dataframe_img['images'] = images\n",
        "dataframe_img['pkn'] = pokemon_number\n",
        "dataframe_img['pkn'] = dataframe_img['pkn'].astype(int)\n",
        "dataframe_img['pkn'] = dataframe_img['pkn'].astype(int)\n",
        "result = pokemons.merge(dataframe_img, left_on='pkn', right_on='pkn')\n",
        "result.head()"
      ],
      "execution_count": 5,
      "outputs": [
        {
          "output_type": "execute_result",
          "data": {
            "text/html": [
              "<div>\n",
              "<style scoped>\n",
              "    .dataframe tbody tr th:only-of-type {\n",
              "        vertical-align: middle;\n",
              "    }\n",
              "\n",
              "    .dataframe tbody tr th {\n",
              "        vertical-align: top;\n",
              "    }\n",
              "\n",
              "    .dataframe thead th {\n",
              "        text-align: right;\n",
              "    }\n",
              "</style>\n",
              "<table border=\"1\" class=\"dataframe\">\n",
              "  <thead>\n",
              "    <tr style=\"text-align: right;\">\n",
              "      <th></th>\n",
              "      <th>Name</th>\n",
              "      <th>Type1</th>\n",
              "      <th>Type2</th>\n",
              "      <th>pkn</th>\n",
              "      <th>images</th>\n",
              "    </tr>\n",
              "  </thead>\n",
              "  <tbody>\n",
              "    <tr>\n",
              "      <th>0</th>\n",
              "      <td>bulbasaur</td>\n",
              "      <td>Grass</td>\n",
              "      <td>Poison</td>\n",
              "      <td>1</td>\n",
              "      <td>pokemon-images-dataset/pokemon/1.png</td>\n",
              "    </tr>\n",
              "    <tr>\n",
              "      <th>1</th>\n",
              "      <td>ivysaur</td>\n",
              "      <td>Grass</td>\n",
              "      <td>Poison</td>\n",
              "      <td>2</td>\n",
              "      <td>pokemon-images-dataset/pokemon/2.png</td>\n",
              "    </tr>\n",
              "    <tr>\n",
              "      <th>2</th>\n",
              "      <td>venusaur</td>\n",
              "      <td>Grass</td>\n",
              "      <td>Poison</td>\n",
              "      <td>3</td>\n",
              "      <td>pokemon-images-dataset/pokemon/3.png</td>\n",
              "    </tr>\n",
              "    <tr>\n",
              "      <th>3</th>\n",
              "      <td>charmander</td>\n",
              "      <td>Fire</td>\n",
              "      <td>NaN</td>\n",
              "      <td>4</td>\n",
              "      <td>pokemon-images-dataset/pokemon/4.png</td>\n",
              "    </tr>\n",
              "    <tr>\n",
              "      <th>4</th>\n",
              "      <td>charmeleon</td>\n",
              "      <td>Fire</td>\n",
              "      <td>NaN</td>\n",
              "      <td>5</td>\n",
              "      <td>pokemon-images-dataset/pokemon/5.png</td>\n",
              "    </tr>\n",
              "  </tbody>\n",
              "</table>\n",
              "</div>"
            ],
            "text/plain": [
              "         Name  Type1   Type2  pkn                                images\n",
              "0   bulbasaur  Grass  Poison    1  pokemon-images-dataset/pokemon/1.png\n",
              "1     ivysaur  Grass  Poison    2  pokemon-images-dataset/pokemon/2.png\n",
              "2    venusaur  Grass  Poison    3  pokemon-images-dataset/pokemon/3.png\n",
              "3  charmander   Fire     NaN    4  pokemon-images-dataset/pokemon/4.png\n",
              "4  charmeleon   Fire     NaN    5  pokemon-images-dataset/pokemon/5.png"
            ]
          },
          "metadata": {
            "tags": []
          },
          "execution_count": 5
        }
      ]
    },
    {
      "cell_type": "code",
      "metadata": {
        "id": "DeJjC5nJoJqD"
      },
      "source": [
        "# We will be focusing on water, grass, fire\n",
        "select = ['Water', 'Fire', 'Grass']\n",
        "result = result[result['Type1'].isin(select)]"
      ],
      "execution_count": 6,
      "outputs": []
    },
    {
      "cell_type": "code",
      "metadata": {
        "id": "p9ztsrR6oMg7"
      },
      "source": [
        "# train, test, validation split\n",
        "\n",
        "X_train, X_test, y_train, y_test = train_test_split(\n",
        "    result, result['Type1'],test_size = 0.4, random_state=919)\n",
        "\n",
        "X_test, X_val, y_test, y_val = train_test_split(\n",
        "    X_test, y_test, test_size = 0.5, random_state = 919)"
      ],
      "execution_count": 7,
      "outputs": []
    },
    {
      "cell_type": "code",
      "metadata": {
        "colab": {
          "base_uri": "https://localhost:8080/"
        },
        "id": "xAs3LgY1oMj0",
        "outputId": "2212da30-5995-4650-fc35-e088871806a5"
      },
      "source": [
        "# training set\n",
        "datagen = image.ImageDataGenerator()\n",
        "trainDf = pd.DataFrame(X_train) \n",
        "trainDf[\"Type1\"] = y_train \n",
        "train = datagen.flow_from_dataframe(trainDf, x_col = \"images\", y_col = \"Type1\", color_mode=\"grayscale\") "
      ],
      "execution_count": 8,
      "outputs": [
        {
          "output_type": "stream",
          "text": [
            "Found 128 validated image filenames belonging to 3 classes.\n"
          ],
          "name": "stdout"
        }
      ]
    },
    {
      "cell_type": "code",
      "metadata": {
        "colab": {
          "base_uri": "https://localhost:8080/"
        },
        "id": "YfKHpwr1oMmZ",
        "outputId": "2ed17735-057d-44ce-883a-7134d6835246"
      },
      "source": [
        "# test set\n",
        "testDf = pd.DataFrame(X_test) \n",
        "testDf[\"Type1\"] = y_test \n",
        "test = datagen.flow_from_dataframe(testDf, x_col = \"images\", y_col = \"Type1\", color_mode=\"grayscale\") "
      ],
      "execution_count": 9,
      "outputs": [
        {
          "output_type": "stream",
          "text": [
            "Found 43 validated image filenames belonging to 3 classes.\n"
          ],
          "name": "stdout"
        }
      ]
    },
    {
      "cell_type": "code",
      "metadata": {
        "colab": {
          "base_uri": "https://localhost:8080/"
        },
        "id": "bHnzbMD-oMpC",
        "outputId": "8f4c6035-539e-457d-dfde-75f388aa6618"
      },
      "source": [
        "# validation\n",
        "valDf = pd.DataFrame(X_val) \n",
        "valDf[\"Type1\"] = y_val \n",
        "val = datagen.flow_from_dataframe(valDf, x_col = \"images\", y_col = \"Type1\", color_mode=\"grayscale\") "
      ],
      "execution_count": 10,
      "outputs": [
        {
          "output_type": "stream",
          "text": [
            "Found 43 validated image filenames belonging to 3 classes.\n"
          ],
          "name": "stdout"
        }
      ]
    },
    {
      "cell_type": "code",
      "metadata": {
        "colab": {
          "base_uri": "https://localhost:8080/"
        },
        "id": "DP-lDWtvoMrd",
        "outputId": "27cc4cc5-60f2-4672-c215-2d38668fa3df"
      },
      "source": [
        "# CNN model for 3 classes\n",
        "from keras.models import Sequential\n",
        "from keras.layers import Conv2D, MaxPooling2D, Dropout, Flatten, Dense, Activation, BatchNormalization, Lambda\n",
        "from keras.preprocessing.image import ImageDataGenerator\n",
        "import tensorflow as tf\n",
        "def cnn_model_3():\n",
        "    model = Sequential()\n",
        "    IMAGE_WIDTH = 256\n",
        "    IMAGE_HEIGHT = 256\n",
        "    IMAGE_CHANNELS = 1\n",
        "    model.add(Lambda(lambda x: x, input_shape=(IMAGE_WIDTH, IMAGE_HEIGHT, IMAGE_CHANNELS)))\n",
        "    model.add(Conv2D(32, (2, 2), activation='relu'))\n",
        "    model.add(BatchNormalization())\n",
        "    model.add(MaxPooling2D(pool_size=(3, 3)))\n",
        "    model.add(Dropout(0.25))\n",
        "\n",
        "    model.add(Conv2D(64, (2, 2), activation='relu'))\n",
        "    model.add(BatchNormalization())\n",
        "    model.add(MaxPooling2D(pool_size=(3, 3)))\n",
        "    model.add(Dropout(0.25))\n",
        "\n",
        "    model.add(Conv2D(128, (2, 2), activation='relu'))\n",
        "    model.add(BatchNormalization())\n",
        "    model.add(MaxPooling2D(pool_size=(3, 3)))\n",
        "    model.add(Dropout(0.25))\n",
        "\n",
        "    model.add(Conv2D(256, (2, 2), activation='relu'))\n",
        "    model.add(BatchNormalization())\n",
        "    model.add(MaxPooling2D(pool_size=(3, 3)))\n",
        "    model.add(Dropout(0.25))\n",
        "\n",
        "    \n",
        "\n",
        "    model.add(Flatten())\n",
        "    model.add(Dense(1024, activation='relu'))\n",
        "    model.add(BatchNormalization())\n",
        "    model.add(Dropout(0.25))\n",
        "    model.add(Dense(512, activation='relu'))\n",
        "    model.add(BatchNormalization())\n",
        "    model.add(Dropout(0.25))\n",
        "    model.add(Dense(128, activation='relu'))\n",
        "    model.add(BatchNormalization())\n",
        "    model.add(Dropout(0.25))\n",
        "    model.add(Dense(64, activation='relu'))\n",
        "    model.add(BatchNormalization())\n",
        "    model.add(Dropout(0.25))\n",
        "    model.add(Dense(3, activation='softmax')) \n",
        "\n",
        "    model.compile(loss='categorical_crossentropy', optimizer='adam', metrics=['acc'])\n",
        "\n",
        "    model.summary()\n",
        "    return model\n",
        "model = cnn_model_3()\n",
        "model.summary()\n",
        "history = model.fit(train, epochs=70, validation_data=val)"
      ],
      "execution_count": 11,
      "outputs": [
        {
          "output_type": "stream",
          "text": [
            "Model: \"sequential\"\n",
            "_________________________________________________________________\n",
            "Layer (type)                 Output Shape              Param #   \n",
            "=================================================================\n",
            "lambda (Lambda)              (None, 256, 256, 1)       0         \n",
            "_________________________________________________________________\n",
            "conv2d (Conv2D)              (None, 255, 255, 32)      160       \n",
            "_________________________________________________________________\n",
            "batch_normalization (BatchNo (None, 255, 255, 32)      128       \n",
            "_________________________________________________________________\n",
            "max_pooling2d (MaxPooling2D) (None, 85, 85, 32)        0         \n",
            "_________________________________________________________________\n",
            "dropout (Dropout)            (None, 85, 85, 32)        0         \n",
            "_________________________________________________________________\n",
            "conv2d_1 (Conv2D)            (None, 84, 84, 64)        8256      \n",
            "_________________________________________________________________\n",
            "batch_normalization_1 (Batch (None, 84, 84, 64)        256       \n",
            "_________________________________________________________________\n",
            "max_pooling2d_1 (MaxPooling2 (None, 28, 28, 64)        0         \n",
            "_________________________________________________________________\n",
            "dropout_1 (Dropout)          (None, 28, 28, 64)        0         \n",
            "_________________________________________________________________\n",
            "conv2d_2 (Conv2D)            (None, 27, 27, 128)       32896     \n",
            "_________________________________________________________________\n",
            "batch_normalization_2 (Batch (None, 27, 27, 128)       512       \n",
            "_________________________________________________________________\n",
            "max_pooling2d_2 (MaxPooling2 (None, 9, 9, 128)         0         \n",
            "_________________________________________________________________\n",
            "dropout_2 (Dropout)          (None, 9, 9, 128)         0         \n",
            "_________________________________________________________________\n",
            "conv2d_3 (Conv2D)            (None, 8, 8, 256)         131328    \n",
            "_________________________________________________________________\n",
            "batch_normalization_3 (Batch (None, 8, 8, 256)         1024      \n",
            "_________________________________________________________________\n",
            "max_pooling2d_3 (MaxPooling2 (None, 2, 2, 256)         0         \n",
            "_________________________________________________________________\n",
            "dropout_3 (Dropout)          (None, 2, 2, 256)         0         \n",
            "_________________________________________________________________\n",
            "flatten (Flatten)            (None, 1024)              0         \n",
            "_________________________________________________________________\n",
            "dense (Dense)                (None, 1024)              1049600   \n",
            "_________________________________________________________________\n",
            "batch_normalization_4 (Batch (None, 1024)              4096      \n",
            "_________________________________________________________________\n",
            "dropout_4 (Dropout)          (None, 1024)              0         \n",
            "_________________________________________________________________\n",
            "dense_1 (Dense)              (None, 512)               524800    \n",
            "_________________________________________________________________\n",
            "batch_normalization_5 (Batch (None, 512)               2048      \n",
            "_________________________________________________________________\n",
            "dropout_5 (Dropout)          (None, 512)               0         \n",
            "_________________________________________________________________\n",
            "dense_2 (Dense)              (None, 128)               65664     \n",
            "_________________________________________________________________\n",
            "batch_normalization_6 (Batch (None, 128)               512       \n",
            "_________________________________________________________________\n",
            "dropout_6 (Dropout)          (None, 128)               0         \n",
            "_________________________________________________________________\n",
            "dense_3 (Dense)              (None, 64)                8256      \n",
            "_________________________________________________________________\n",
            "batch_normalization_7 (Batch (None, 64)                256       \n",
            "_________________________________________________________________\n",
            "dropout_7 (Dropout)          (None, 64)                0         \n",
            "_________________________________________________________________\n",
            "dense_4 (Dense)              (None, 3)                 195       \n",
            "=================================================================\n",
            "Total params: 1,829,987\n",
            "Trainable params: 1,825,571\n",
            "Non-trainable params: 4,416\n",
            "_________________________________________________________________\n",
            "Model: \"sequential\"\n",
            "_________________________________________________________________\n",
            "Layer (type)                 Output Shape              Param #   \n",
            "=================================================================\n",
            "lambda (Lambda)              (None, 256, 256, 1)       0         \n",
            "_________________________________________________________________\n",
            "conv2d (Conv2D)              (None, 255, 255, 32)      160       \n",
            "_________________________________________________________________\n",
            "batch_normalization (BatchNo (None, 255, 255, 32)      128       \n",
            "_________________________________________________________________\n",
            "max_pooling2d (MaxPooling2D) (None, 85, 85, 32)        0         \n",
            "_________________________________________________________________\n",
            "dropout (Dropout)            (None, 85, 85, 32)        0         \n",
            "_________________________________________________________________\n",
            "conv2d_1 (Conv2D)            (None, 84, 84, 64)        8256      \n",
            "_________________________________________________________________\n",
            "batch_normalization_1 (Batch (None, 84, 84, 64)        256       \n",
            "_________________________________________________________________\n",
            "max_pooling2d_1 (MaxPooling2 (None, 28, 28, 64)        0         \n",
            "_________________________________________________________________\n",
            "dropout_1 (Dropout)          (None, 28, 28, 64)        0         \n",
            "_________________________________________________________________\n",
            "conv2d_2 (Conv2D)            (None, 27, 27, 128)       32896     \n",
            "_________________________________________________________________\n",
            "batch_normalization_2 (Batch (None, 27, 27, 128)       512       \n",
            "_________________________________________________________________\n",
            "max_pooling2d_2 (MaxPooling2 (None, 9, 9, 128)         0         \n",
            "_________________________________________________________________\n",
            "dropout_2 (Dropout)          (None, 9, 9, 128)         0         \n",
            "_________________________________________________________________\n",
            "conv2d_3 (Conv2D)            (None, 8, 8, 256)         131328    \n",
            "_________________________________________________________________\n",
            "batch_normalization_3 (Batch (None, 8, 8, 256)         1024      \n",
            "_________________________________________________________________\n",
            "max_pooling2d_3 (MaxPooling2 (None, 2, 2, 256)         0         \n",
            "_________________________________________________________________\n",
            "dropout_3 (Dropout)          (None, 2, 2, 256)         0         \n",
            "_________________________________________________________________\n",
            "flatten (Flatten)            (None, 1024)              0         \n",
            "_________________________________________________________________\n",
            "dense (Dense)                (None, 1024)              1049600   \n",
            "_________________________________________________________________\n",
            "batch_normalization_4 (Batch (None, 1024)              4096      \n",
            "_________________________________________________________________\n",
            "dropout_4 (Dropout)          (None, 1024)              0         \n",
            "_________________________________________________________________\n",
            "dense_1 (Dense)              (None, 512)               524800    \n",
            "_________________________________________________________________\n",
            "batch_normalization_5 (Batch (None, 512)               2048      \n",
            "_________________________________________________________________\n",
            "dropout_5 (Dropout)          (None, 512)               0         \n",
            "_________________________________________________________________\n",
            "dense_2 (Dense)              (None, 128)               65664     \n",
            "_________________________________________________________________\n",
            "batch_normalization_6 (Batch (None, 128)               512       \n",
            "_________________________________________________________________\n",
            "dropout_6 (Dropout)          (None, 128)               0         \n",
            "_________________________________________________________________\n",
            "dense_3 (Dense)              (None, 64)                8256      \n",
            "_________________________________________________________________\n",
            "batch_normalization_7 (Batch (None, 64)                256       \n",
            "_________________________________________________________________\n",
            "dropout_7 (Dropout)          (None, 64)                0         \n",
            "_________________________________________________________________\n",
            "dense_4 (Dense)              (None, 3)                 195       \n",
            "=================================================================\n",
            "Total params: 1,829,987\n",
            "Trainable params: 1,825,571\n",
            "Non-trainable params: 4,416\n",
            "_________________________________________________________________\n",
            "Epoch 1/70\n",
            "4/4 [==============================] - 34s 9s/step - loss: 1.7905 - acc: 0.3125 - val_loss: 4.4618 - val_acc: 0.2326\n",
            "Epoch 2/70\n",
            "4/4 [==============================] - 1s 148ms/step - loss: 1.7152 - acc: 0.3984 - val_loss: 3.3716 - val_acc: 0.2326\n",
            "Epoch 3/70\n",
            "4/4 [==============================] - 1s 145ms/step - loss: 1.6407 - acc: 0.2891 - val_loss: 2.6124 - val_acc: 0.2326\n",
            "Epoch 4/70\n",
            "4/4 [==============================] - 1s 146ms/step - loss: 1.4545 - acc: 0.4219 - val_loss: 3.3249 - val_acc: 0.2326\n",
            "Epoch 5/70\n",
            "4/4 [==============================] - 1s 150ms/step - loss: 1.5321 - acc: 0.3359 - val_loss: 3.8347 - val_acc: 0.2326\n",
            "Epoch 6/70\n",
            "4/4 [==============================] - 1s 146ms/step - loss: 1.3051 - acc: 0.4688 - val_loss: 4.2328 - val_acc: 0.2326\n",
            "Epoch 7/70\n",
            "4/4 [==============================] - 1s 146ms/step - loss: 1.3865 - acc: 0.4141 - val_loss: 2.9695 - val_acc: 0.3488\n",
            "Epoch 8/70\n",
            "4/4 [==============================] - 1s 145ms/step - loss: 1.4452 - acc: 0.3906 - val_loss: 3.2875 - val_acc: 0.5116\n",
            "Epoch 9/70\n",
            "4/4 [==============================] - 1s 148ms/step - loss: 1.3452 - acc: 0.4219 - val_loss: 3.3541 - val_acc: 0.2558\n",
            "Epoch 10/70\n",
            "4/4 [==============================] - 1s 150ms/step - loss: 1.2345 - acc: 0.4297 - val_loss: 3.6283 - val_acc: 0.2326\n",
            "Epoch 11/70\n",
            "4/4 [==============================] - 1s 147ms/step - loss: 1.2675 - acc: 0.4141 - val_loss: 3.5514 - val_acc: 0.2326\n",
            "Epoch 12/70\n",
            "4/4 [==============================] - 1s 141ms/step - loss: 1.1426 - acc: 0.4922 - val_loss: 3.0032 - val_acc: 0.2326\n",
            "Epoch 13/70\n",
            "4/4 [==============================] - 1s 148ms/step - loss: 1.3364 - acc: 0.3906 - val_loss: 2.4177 - val_acc: 0.2558\n",
            "Epoch 14/70\n",
            "4/4 [==============================] - 1s 144ms/step - loss: 1.0569 - acc: 0.4609 - val_loss: 2.6846 - val_acc: 0.2326\n",
            "Epoch 15/70\n",
            "4/4 [==============================] - 1s 144ms/step - loss: 1.1100 - acc: 0.5078 - val_loss: 2.3483 - val_acc: 0.2558\n",
            "Epoch 16/70\n",
            "4/4 [==============================] - 1s 145ms/step - loss: 1.1851 - acc: 0.5391 - val_loss: 2.1779 - val_acc: 0.2558\n",
            "Epoch 17/70\n",
            "4/4 [==============================] - 1s 146ms/step - loss: 1.1426 - acc: 0.4844 - val_loss: 2.1019 - val_acc: 0.2558\n",
            "Epoch 18/70\n",
            "4/4 [==============================] - 1s 141ms/step - loss: 1.0237 - acc: 0.5547 - val_loss: 2.0080 - val_acc: 0.2791\n",
            "Epoch 19/70\n",
            "4/4 [==============================] - 1s 143ms/step - loss: 1.1687 - acc: 0.5078 - val_loss: 1.7509 - val_acc: 0.2558\n",
            "Epoch 20/70\n",
            "4/4 [==============================] - 1s 145ms/step - loss: 1.0516 - acc: 0.5312 - val_loss: 1.4147 - val_acc: 0.3721\n",
            "Epoch 21/70\n",
            "4/4 [==============================] - 1s 143ms/step - loss: 1.0238 - acc: 0.5703 - val_loss: 1.4061 - val_acc: 0.3488\n",
            "Epoch 22/70\n",
            "4/4 [==============================] - 1s 148ms/step - loss: 1.0943 - acc: 0.4609 - val_loss: 1.3381 - val_acc: 0.3721\n",
            "Epoch 23/70\n",
            "4/4 [==============================] - 1s 146ms/step - loss: 1.1783 - acc: 0.4844 - val_loss: 1.3026 - val_acc: 0.3953\n",
            "Epoch 24/70\n",
            "4/4 [==============================] - 1s 151ms/step - loss: 0.9268 - acc: 0.5547 - val_loss: 1.2268 - val_acc: 0.4651\n",
            "Epoch 25/70\n",
            "4/4 [==============================] - 1s 145ms/step - loss: 1.0077 - acc: 0.5156 - val_loss: 1.2275 - val_acc: 0.3256\n",
            "Epoch 26/70\n",
            "4/4 [==============================] - 1s 143ms/step - loss: 0.9853 - acc: 0.5781 - val_loss: 1.2261 - val_acc: 0.2558\n",
            "Epoch 27/70\n",
            "4/4 [==============================] - 1s 143ms/step - loss: 0.9893 - acc: 0.5781 - val_loss: 1.2105 - val_acc: 0.3721\n",
            "Epoch 28/70\n",
            "4/4 [==============================] - 1s 143ms/step - loss: 1.0055 - acc: 0.5469 - val_loss: 1.1682 - val_acc: 0.3721\n",
            "Epoch 29/70\n",
            "4/4 [==============================] - 1s 145ms/step - loss: 0.9797 - acc: 0.5703 - val_loss: 1.1314 - val_acc: 0.3953\n",
            "Epoch 30/70\n",
            "4/4 [==============================] - 1s 146ms/step - loss: 0.8593 - acc: 0.6016 - val_loss: 1.1156 - val_acc: 0.3721\n",
            "Epoch 31/70\n",
            "4/4 [==============================] - 1s 141ms/step - loss: 0.9968 - acc: 0.6094 - val_loss: 1.1056 - val_acc: 0.3488\n",
            "Epoch 32/70\n",
            "4/4 [==============================] - 1s 145ms/step - loss: 0.9424 - acc: 0.5938 - val_loss: 1.1330 - val_acc: 0.3023\n",
            "Epoch 33/70\n",
            "4/4 [==============================] - 1s 144ms/step - loss: 0.9201 - acc: 0.6172 - val_loss: 1.1742 - val_acc: 0.3256\n",
            "Epoch 34/70\n",
            "4/4 [==============================] - 1s 144ms/step - loss: 0.8893 - acc: 0.6250 - val_loss: 1.2649 - val_acc: 0.3488\n",
            "Epoch 35/70\n",
            "4/4 [==============================] - 1s 142ms/step - loss: 0.8477 - acc: 0.6172 - val_loss: 1.3636 - val_acc: 0.3488\n",
            "Epoch 36/70\n",
            "4/4 [==============================] - 1s 143ms/step - loss: 0.7244 - acc: 0.6875 - val_loss: 1.4252 - val_acc: 0.3256\n",
            "Epoch 37/70\n",
            "4/4 [==============================] - 1s 142ms/step - loss: 0.7635 - acc: 0.6641 - val_loss: 1.4771 - val_acc: 0.3256\n",
            "Epoch 38/70\n",
            "4/4 [==============================] - 1s 147ms/step - loss: 0.7372 - acc: 0.6875 - val_loss: 1.5328 - val_acc: 0.2791\n",
            "Epoch 39/70\n",
            "4/4 [==============================] - 1s 143ms/step - loss: 0.7831 - acc: 0.6719 - val_loss: 1.5927 - val_acc: 0.3023\n",
            "Epoch 40/70\n",
            "4/4 [==============================] - 1s 139ms/step - loss: 0.7584 - acc: 0.6641 - val_loss: 1.5008 - val_acc: 0.2791\n",
            "Epoch 41/70\n",
            "4/4 [==============================] - 1s 144ms/step - loss: 0.7644 - acc: 0.6719 - val_loss: 1.4611 - val_acc: 0.2558\n",
            "Epoch 42/70\n",
            "4/4 [==============================] - 1s 144ms/step - loss: 0.6973 - acc: 0.6562 - val_loss: 1.5335 - val_acc: 0.2558\n",
            "Epoch 43/70\n",
            "4/4 [==============================] - 1s 137ms/step - loss: 0.7067 - acc: 0.6953 - val_loss: 1.6271 - val_acc: 0.2326\n",
            "Epoch 44/70\n",
            "4/4 [==============================] - 1s 146ms/step - loss: 0.6795 - acc: 0.7188 - val_loss: 1.8658 - val_acc: 0.2558\n",
            "Epoch 45/70\n",
            "4/4 [==============================] - 1s 144ms/step - loss: 0.6206 - acc: 0.7656 - val_loss: 2.2371 - val_acc: 0.2326\n",
            "Epoch 46/70\n",
            "4/4 [==============================] - 1s 142ms/step - loss: 0.5202 - acc: 0.7734 - val_loss: 2.5807 - val_acc: 0.2558\n",
            "Epoch 47/70\n",
            "4/4 [==============================] - 1s 142ms/step - loss: 0.6486 - acc: 0.6953 - val_loss: 2.5670 - val_acc: 0.2558\n",
            "Epoch 48/70\n",
            "4/4 [==============================] - 1s 138ms/step - loss: 0.5922 - acc: 0.7891 - val_loss: 2.6911 - val_acc: 0.2326\n",
            "Epoch 49/70\n",
            "4/4 [==============================] - 1s 142ms/step - loss: 0.5403 - acc: 0.7891 - val_loss: 2.5682 - val_acc: 0.2558\n",
            "Epoch 50/70\n",
            "4/4 [==============================] - 1s 145ms/step - loss: 0.6219 - acc: 0.7500 - val_loss: 2.5053 - val_acc: 0.2558\n",
            "Epoch 51/70\n",
            "4/4 [==============================] - 1s 148ms/step - loss: 0.6131 - acc: 0.7109 - val_loss: 2.4673 - val_acc: 0.2791\n",
            "Epoch 52/70\n",
            "4/4 [==============================] - 1s 153ms/step - loss: 0.5606 - acc: 0.7891 - val_loss: 2.7726 - val_acc: 0.2558\n",
            "Epoch 53/70\n",
            "4/4 [==============================] - 1s 146ms/step - loss: 0.6949 - acc: 0.7031 - val_loss: 2.9696 - val_acc: 0.2791\n",
            "Epoch 54/70\n",
            "4/4 [==============================] - 1s 146ms/step - loss: 0.5966 - acc: 0.7422 - val_loss: 2.8526 - val_acc: 0.2791\n",
            "Epoch 55/70\n",
            "4/4 [==============================] - 1s 143ms/step - loss: 0.5431 - acc: 0.7812 - val_loss: 2.8789 - val_acc: 0.2791\n",
            "Epoch 56/70\n",
            "4/4 [==============================] - 1s 145ms/step - loss: 0.5346 - acc: 0.8047 - val_loss: 2.7961 - val_acc: 0.2558\n",
            "Epoch 57/70\n",
            "4/4 [==============================] - 1s 146ms/step - loss: 0.6040 - acc: 0.7578 - val_loss: 2.6745 - val_acc: 0.3023\n",
            "Epoch 58/70\n",
            "4/4 [==============================] - 1s 149ms/step - loss: 0.5202 - acc: 0.8047 - val_loss: 2.5877 - val_acc: 0.3256\n",
            "Epoch 59/70\n",
            "4/4 [==============================] - 1s 142ms/step - loss: 0.3947 - acc: 0.8672 - val_loss: 2.5047 - val_acc: 0.3023\n",
            "Epoch 60/70\n",
            "4/4 [==============================] - 1s 148ms/step - loss: 0.4138 - acc: 0.8516 - val_loss: 2.5976 - val_acc: 0.3023\n",
            "Epoch 61/70\n",
            "4/4 [==============================] - 1s 140ms/step - loss: 0.4333 - acc: 0.8359 - val_loss: 2.8185 - val_acc: 0.3023\n",
            "Epoch 62/70\n",
            "4/4 [==============================] - 1s 143ms/step - loss: 0.4693 - acc: 0.8047 - val_loss: 2.9222 - val_acc: 0.3256\n",
            "Epoch 63/70\n",
            "4/4 [==============================] - 1s 151ms/step - loss: 0.4265 - acc: 0.8438 - val_loss: 2.7016 - val_acc: 0.3488\n",
            "Epoch 64/70\n",
            "4/4 [==============================] - 1s 146ms/step - loss: 0.4269 - acc: 0.8281 - val_loss: 2.6153 - val_acc: 0.3023\n",
            "Epoch 65/70\n",
            "4/4 [==============================] - 1s 152ms/step - loss: 0.4388 - acc: 0.8516 - val_loss: 2.6672 - val_acc: 0.2791\n",
            "Epoch 66/70\n",
            "4/4 [==============================] - 1s 150ms/step - loss: 0.3759 - acc: 0.8594 - val_loss: 2.8013 - val_acc: 0.2791\n",
            "Epoch 67/70\n",
            "4/4 [==============================] - 1s 147ms/step - loss: 0.4101 - acc: 0.8203 - val_loss: 2.8095 - val_acc: 0.2326\n",
            "Epoch 68/70\n",
            "4/4 [==============================] - 1s 150ms/step - loss: 0.4021 - acc: 0.8438 - val_loss: 3.0151 - val_acc: 0.2558\n",
            "Epoch 69/70\n",
            "4/4 [==============================] - 1s 149ms/step - loss: 0.4182 - acc: 0.8281 - val_loss: 3.0487 - val_acc: 0.2558\n",
            "Epoch 70/70\n",
            "4/4 [==============================] - 1s 143ms/step - loss: 0.2641 - acc: 0.8984 - val_loss: 2.9144 - val_acc: 0.2791\n"
          ],
          "name": "stdout"
        }
      ]
    },
    {
      "cell_type": "code",
      "metadata": {
        "colab": {
          "base_uri": "https://localhost:8080/"
        },
        "id": "9Xx5nDQ-oMty",
        "outputId": "435cdd3a-062b-44c1-cc98-1a97a02b4fc0"
      },
      "source": [
        "predict = model.predict(test)"
      ],
      "execution_count": null,
      "outputs": [
        {
          "output_type": "stream",
          "text": [
            "WARNING:tensorflow:From <ipython-input-12-e98b8e9d4e9f>:1: Model.predict_generator (from tensorflow.python.keras.engine.training) is deprecated and will be removed in a future version.\n",
            "Instructions for updating:\n",
            "Please use Model.predict, which supports generators.\n"
          ],
          "name": "stdout"
        }
      ]
    },
    {
      "cell_type": "code",
      "metadata": {
        "colab": {
          "base_uri": "https://localhost:8080/",
          "height": 417
        },
        "id": "t0eJStEuoMxA",
        "outputId": "8d4960a3-df79-49f5-c6e4-41bff10c8bc2"
      },
      "source": [
        "# plot model performance\n",
        "import plotly.io as pio\n",
        "pio.renderers.default = 'colab'\n",
        "fig = go.Figure()\n",
        "epochs = []\n",
        "for i in range(len(history.history['acc'])):\n",
        "    epochs.append(i)\n",
        "fig.add_trace(go.Scatter(x=epochs,y=history.history['acc'], mode='lines',name='Training Accuracy'))\n",
        "fig.add_trace(go.Scatter(x=epochs,y=history.history['val_acc'], mode='lines',name='Validation Accuracy'))\n",
        "\n",
        "fig.update_layout(\n",
        "    {\n",
        "        'plot_bgcolor': 'rgba(0, 0, 0, 0)',\n",
        "        'paper_bgcolor': 'rgba(0, 0, 0, 0)',\n",
        "        'width': 500, \n",
        "        'height': 400,\n",
        "        'title': \"3-class CNN Model Performance (Gray Scale) \"\n",
        "\n",
        "})\n",
        "fig.update_xaxes(title_text='Number of Epoches')\n",
        "fig.update_yaxes(title_text='Accuracy')\n",
        "\n",
        "fig.show()"
      ],
      "execution_count": 12,
      "outputs": [
        {
          "output_type": "display_data",
          "data": {
            "text/html": [
              "<html>\n",
              "<head><meta charset=\"utf-8\" /></head>\n",
              "<body>\n",
              "    <div>\n",
              "            <script src=\"https://cdnjs.cloudflare.com/ajax/libs/mathjax/2.7.5/MathJax.js?config=TeX-AMS-MML_SVG\"></script><script type=\"text/javascript\">if (window.MathJax) {MathJax.Hub.Config({SVG: {font: \"STIX-Web\"}});}</script>\n",
              "                <script type=\"text/javascript\">window.PlotlyConfig = {MathJaxConfig: 'local'};</script>\n",
              "        <script src=\"https://cdn.plot.ly/plotly-latest.min.js\"></script>    \n",
              "            <div id=\"7ce08565-6820-461d-a13e-9a0d4c92da7b\" class=\"plotly-graph-div\" style=\"height:400px; width:500px;\"></div>\n",
              "            <script type=\"text/javascript\">\n",
              "                \n",
              "                    window.PLOTLYENV=window.PLOTLYENV || {};\n",
              "                    \n",
              "                if (document.getElementById(\"7ce08565-6820-461d-a13e-9a0d4c92da7b\")) {\n",
              "                    Plotly.newPlot(\n",
              "                        '7ce08565-6820-461d-a13e-9a0d4c92da7b',\n",
              "                        [{\"mode\": \"lines\", \"name\": \"Training Accuracy\", \"type\": \"scatter\", \"x\": [0, 1, 2, 3, 4, 5, 6, 7, 8, 9, 10, 11, 12, 13, 14, 15, 16, 17, 18, 19, 20, 21, 22, 23, 24, 25, 26, 27, 28, 29, 30, 31, 32, 33, 34, 35, 36, 37, 38, 39, 40, 41, 42, 43, 44, 45, 46, 47, 48, 49, 50, 51, 52, 53, 54, 55, 56, 57, 58, 59, 60, 61, 62, 63, 64, 65, 66, 67, 68, 69], \"y\": [0.3125, 0.3984375, 0.2890625, 0.421875, 0.3359375, 0.46875, 0.4140625, 0.390625, 0.421875, 0.4296875, 0.4140625, 0.4921875, 0.390625, 0.4609375, 0.5078125, 0.5390625, 0.484375, 0.5546875, 0.5078125, 0.53125, 0.5703125, 0.4609375, 0.484375, 0.5546875, 0.515625, 0.578125, 0.578125, 0.546875, 0.5703125, 0.6015625, 0.609375, 0.59375, 0.6171875, 0.625, 0.6171875, 0.6875, 0.6640625, 0.6875, 0.671875, 0.6640625, 0.671875, 0.65625, 0.6953125, 0.71875, 0.765625, 0.7734375, 0.6953125, 0.7890625, 0.7890625, 0.75, 0.7109375, 0.7890625, 0.703125, 0.7421875, 0.78125, 0.8046875, 0.7578125, 0.8046875, 0.8671875, 0.8515625, 0.8359375, 0.8046875, 0.84375, 0.828125, 0.8515625, 0.859375, 0.8203125, 0.84375, 0.828125, 0.8984375]}, {\"mode\": \"lines\", \"name\": \"Validation Accuracy\", \"type\": \"scatter\", \"x\": [0, 1, 2, 3, 4, 5, 6, 7, 8, 9, 10, 11, 12, 13, 14, 15, 16, 17, 18, 19, 20, 21, 22, 23, 24, 25, 26, 27, 28, 29, 30, 31, 32, 33, 34, 35, 36, 37, 38, 39, 40, 41, 42, 43, 44, 45, 46, 47, 48, 49, 50, 51, 52, 53, 54, 55, 56, 57, 58, 59, 60, 61, 62, 63, 64, 65, 66, 67, 68, 69], \"y\": [0.23255814611911774, 0.23255814611911774, 0.23255814611911774, 0.23255814611911774, 0.23255814611911774, 0.23255814611911774, 0.3488371968269348, 0.5116279125213623, 0.25581395626068115, 0.23255814611911774, 0.23255814611911774, 0.23255814611911774, 0.25581395626068115, 0.23255814611911774, 0.25581395626068115, 0.25581395626068115, 0.25581395626068115, 0.27906978130340576, 0.25581395626068115, 0.3720930218696594, 0.3488371968269348, 0.3720930218696594, 0.39534884691238403, 0.4651162922382355, 0.3255814015865326, 0.25581395626068115, 0.3720930218696594, 0.3720930218696594, 0.39534884691238403, 0.3720930218696594, 0.3488371968269348, 0.302325576543808, 0.3255814015865326, 0.3488371968269348, 0.3488371968269348, 0.3255814015865326, 0.3255814015865326, 0.27906978130340576, 0.302325576543808, 0.27906978130340576, 0.25581395626068115, 0.25581395626068115, 0.23255814611911774, 0.25581395626068115, 0.23255814611911774, 0.25581395626068115, 0.25581395626068115, 0.23255814611911774, 0.25581395626068115, 0.25581395626068115, 0.27906978130340576, 0.25581395626068115, 0.27906978130340576, 0.27906978130340576, 0.27906978130340576, 0.25581395626068115, 0.302325576543808, 0.3255814015865326, 0.302325576543808, 0.302325576543808, 0.302325576543808, 0.3255814015865326, 0.3488371968269348, 0.302325576543808, 0.27906978130340576, 0.27906978130340576, 0.23255814611911774, 0.25581395626068115, 0.25581395626068115, 0.27906978130340576]}],\n",
              "                        {\"height\": 400, \"paper_bgcolor\": \"rgba(0, 0, 0, 0)\", \"plot_bgcolor\": \"rgba(0, 0, 0, 0)\", \"template\": {\"data\": {\"bar\": [{\"error_x\": {\"color\": \"#2a3f5f\"}, \"error_y\": {\"color\": \"#2a3f5f\"}, \"marker\": {\"line\": {\"color\": \"#E5ECF6\", \"width\": 0.5}}, \"type\": \"bar\"}], \"barpolar\": [{\"marker\": {\"line\": {\"color\": \"#E5ECF6\", \"width\": 0.5}}, \"type\": \"barpolar\"}], \"carpet\": [{\"aaxis\": {\"endlinecolor\": \"#2a3f5f\", \"gridcolor\": \"white\", \"linecolor\": \"white\", \"minorgridcolor\": \"white\", \"startlinecolor\": \"#2a3f5f\"}, \"baxis\": {\"endlinecolor\": \"#2a3f5f\", \"gridcolor\": \"white\", \"linecolor\": \"white\", \"minorgridcolor\": \"white\", \"startlinecolor\": \"#2a3f5f\"}, \"type\": \"carpet\"}], \"choropleth\": [{\"colorbar\": {\"outlinewidth\": 0, \"ticks\": \"\"}, \"type\": \"choropleth\"}], \"contour\": [{\"colorbar\": {\"outlinewidth\": 0, \"ticks\": \"\"}, \"colorscale\": [[0.0, \"#0d0887\"], [0.1111111111111111, \"#46039f\"], [0.2222222222222222, \"#7201a8\"], [0.3333333333333333, \"#9c179e\"], [0.4444444444444444, \"#bd3786\"], [0.5555555555555556, \"#d8576b\"], [0.6666666666666666, \"#ed7953\"], [0.7777777777777778, \"#fb9f3a\"], [0.8888888888888888, \"#fdca26\"], [1.0, \"#f0f921\"]], \"type\": \"contour\"}], \"contourcarpet\": [{\"colorbar\": {\"outlinewidth\": 0, \"ticks\": \"\"}, \"type\": \"contourcarpet\"}], \"heatmap\": [{\"colorbar\": {\"outlinewidth\": 0, \"ticks\": \"\"}, \"colorscale\": [[0.0, \"#0d0887\"], [0.1111111111111111, \"#46039f\"], [0.2222222222222222, \"#7201a8\"], [0.3333333333333333, \"#9c179e\"], [0.4444444444444444, \"#bd3786\"], [0.5555555555555556, \"#d8576b\"], [0.6666666666666666, \"#ed7953\"], [0.7777777777777778, \"#fb9f3a\"], [0.8888888888888888, \"#fdca26\"], [1.0, \"#f0f921\"]], \"type\": \"heatmap\"}], \"heatmapgl\": [{\"colorbar\": {\"outlinewidth\": 0, \"ticks\": \"\"}, \"colorscale\": [[0.0, \"#0d0887\"], [0.1111111111111111, \"#46039f\"], [0.2222222222222222, \"#7201a8\"], [0.3333333333333333, \"#9c179e\"], [0.4444444444444444, \"#bd3786\"], [0.5555555555555556, \"#d8576b\"], [0.6666666666666666, \"#ed7953\"], [0.7777777777777778, \"#fb9f3a\"], [0.8888888888888888, \"#fdca26\"], [1.0, \"#f0f921\"]], \"type\": \"heatmapgl\"}], \"histogram\": [{\"marker\": {\"colorbar\": {\"outlinewidth\": 0, \"ticks\": \"\"}}, \"type\": \"histogram\"}], \"histogram2d\": [{\"colorbar\": {\"outlinewidth\": 0, \"ticks\": \"\"}, \"colorscale\": [[0.0, \"#0d0887\"], [0.1111111111111111, \"#46039f\"], [0.2222222222222222, \"#7201a8\"], [0.3333333333333333, \"#9c179e\"], [0.4444444444444444, \"#bd3786\"], [0.5555555555555556, \"#d8576b\"], [0.6666666666666666, \"#ed7953\"], [0.7777777777777778, \"#fb9f3a\"], [0.8888888888888888, \"#fdca26\"], [1.0, \"#f0f921\"]], \"type\": \"histogram2d\"}], \"histogram2dcontour\": [{\"colorbar\": {\"outlinewidth\": 0, \"ticks\": \"\"}, \"colorscale\": [[0.0, \"#0d0887\"], [0.1111111111111111, \"#46039f\"], [0.2222222222222222, \"#7201a8\"], [0.3333333333333333, \"#9c179e\"], [0.4444444444444444, \"#bd3786\"], [0.5555555555555556, \"#d8576b\"], [0.6666666666666666, \"#ed7953\"], [0.7777777777777778, \"#fb9f3a\"], [0.8888888888888888, \"#fdca26\"], [1.0, \"#f0f921\"]], \"type\": \"histogram2dcontour\"}], \"mesh3d\": [{\"colorbar\": {\"outlinewidth\": 0, \"ticks\": \"\"}, \"type\": \"mesh3d\"}], \"parcoords\": [{\"line\": {\"colorbar\": {\"outlinewidth\": 0, \"ticks\": \"\"}}, \"type\": \"parcoords\"}], \"pie\": [{\"automargin\": true, \"type\": \"pie\"}], \"scatter\": [{\"marker\": {\"colorbar\": {\"outlinewidth\": 0, \"ticks\": \"\"}}, \"type\": \"scatter\"}], \"scatter3d\": [{\"line\": {\"colorbar\": {\"outlinewidth\": 0, \"ticks\": \"\"}}, \"marker\": {\"colorbar\": {\"outlinewidth\": 0, \"ticks\": \"\"}}, \"type\": \"scatter3d\"}], \"scattercarpet\": [{\"marker\": {\"colorbar\": {\"outlinewidth\": 0, \"ticks\": \"\"}}, \"type\": \"scattercarpet\"}], \"scattergeo\": [{\"marker\": {\"colorbar\": {\"outlinewidth\": 0, \"ticks\": \"\"}}, \"type\": \"scattergeo\"}], \"scattergl\": [{\"marker\": {\"colorbar\": {\"outlinewidth\": 0, \"ticks\": \"\"}}, \"type\": \"scattergl\"}], \"scattermapbox\": [{\"marker\": {\"colorbar\": {\"outlinewidth\": 0, \"ticks\": \"\"}}, \"type\": \"scattermapbox\"}], \"scatterpolar\": [{\"marker\": {\"colorbar\": {\"outlinewidth\": 0, \"ticks\": \"\"}}, \"type\": \"scatterpolar\"}], \"scatterpolargl\": [{\"marker\": {\"colorbar\": {\"outlinewidth\": 0, \"ticks\": \"\"}}, \"type\": \"scatterpolargl\"}], \"scatterternary\": [{\"marker\": {\"colorbar\": {\"outlinewidth\": 0, \"ticks\": \"\"}}, \"type\": \"scatterternary\"}], \"surface\": [{\"colorbar\": {\"outlinewidth\": 0, \"ticks\": \"\"}, \"colorscale\": [[0.0, \"#0d0887\"], [0.1111111111111111, \"#46039f\"], [0.2222222222222222, \"#7201a8\"], [0.3333333333333333, \"#9c179e\"], [0.4444444444444444, \"#bd3786\"], [0.5555555555555556, \"#d8576b\"], [0.6666666666666666, \"#ed7953\"], [0.7777777777777778, \"#fb9f3a\"], [0.8888888888888888, \"#fdca26\"], [1.0, \"#f0f921\"]], \"type\": \"surface\"}], \"table\": [{\"cells\": {\"fill\": {\"color\": \"#EBF0F8\"}, \"line\": {\"color\": \"white\"}}, \"header\": {\"fill\": {\"color\": \"#C8D4E3\"}, \"line\": {\"color\": \"white\"}}, \"type\": \"table\"}]}, \"layout\": {\"annotationdefaults\": {\"arrowcolor\": \"#2a3f5f\", \"arrowhead\": 0, \"arrowwidth\": 1}, \"coloraxis\": {\"colorbar\": {\"outlinewidth\": 0, \"ticks\": \"\"}}, \"colorscale\": {\"diverging\": [[0, \"#8e0152\"], [0.1, \"#c51b7d\"], [0.2, \"#de77ae\"], [0.3, \"#f1b6da\"], [0.4, \"#fde0ef\"], [0.5, \"#f7f7f7\"], [0.6, \"#e6f5d0\"], [0.7, \"#b8e186\"], [0.8, \"#7fbc41\"], [0.9, \"#4d9221\"], [1, \"#276419\"]], \"sequential\": [[0.0, \"#0d0887\"], [0.1111111111111111, \"#46039f\"], [0.2222222222222222, \"#7201a8\"], [0.3333333333333333, \"#9c179e\"], [0.4444444444444444, \"#bd3786\"], [0.5555555555555556, \"#d8576b\"], [0.6666666666666666, \"#ed7953\"], [0.7777777777777778, \"#fb9f3a\"], [0.8888888888888888, \"#fdca26\"], [1.0, \"#f0f921\"]], \"sequentialminus\": [[0.0, \"#0d0887\"], [0.1111111111111111, \"#46039f\"], [0.2222222222222222, \"#7201a8\"], [0.3333333333333333, \"#9c179e\"], [0.4444444444444444, \"#bd3786\"], [0.5555555555555556, \"#d8576b\"], [0.6666666666666666, \"#ed7953\"], [0.7777777777777778, \"#fb9f3a\"], [0.8888888888888888, \"#fdca26\"], [1.0, \"#f0f921\"]]}, \"colorway\": [\"#636efa\", \"#EF553B\", \"#00cc96\", \"#ab63fa\", \"#FFA15A\", \"#19d3f3\", \"#FF6692\", \"#B6E880\", \"#FF97FF\", \"#FECB52\"], \"font\": {\"color\": \"#2a3f5f\"}, \"geo\": {\"bgcolor\": \"white\", \"lakecolor\": \"white\", \"landcolor\": \"#E5ECF6\", \"showlakes\": true, \"showland\": true, \"subunitcolor\": \"white\"}, \"hoverlabel\": {\"align\": \"left\"}, \"hovermode\": \"closest\", \"mapbox\": {\"style\": \"light\"}, \"paper_bgcolor\": \"white\", \"plot_bgcolor\": \"#E5ECF6\", \"polar\": {\"angularaxis\": {\"gridcolor\": \"white\", \"linecolor\": \"white\", \"ticks\": \"\"}, \"bgcolor\": \"#E5ECF6\", \"radialaxis\": {\"gridcolor\": \"white\", \"linecolor\": \"white\", \"ticks\": \"\"}}, \"scene\": {\"xaxis\": {\"backgroundcolor\": \"#E5ECF6\", \"gridcolor\": \"white\", \"gridwidth\": 2, \"linecolor\": \"white\", \"showbackground\": true, \"ticks\": \"\", \"zerolinecolor\": \"white\"}, \"yaxis\": {\"backgroundcolor\": \"#E5ECF6\", \"gridcolor\": \"white\", \"gridwidth\": 2, \"linecolor\": \"white\", \"showbackground\": true, \"ticks\": \"\", \"zerolinecolor\": \"white\"}, \"zaxis\": {\"backgroundcolor\": \"#E5ECF6\", \"gridcolor\": \"white\", \"gridwidth\": 2, \"linecolor\": \"white\", \"showbackground\": true, \"ticks\": \"\", \"zerolinecolor\": \"white\"}}, \"shapedefaults\": {\"line\": {\"color\": \"#2a3f5f\"}}, \"ternary\": {\"aaxis\": {\"gridcolor\": \"white\", \"linecolor\": \"white\", \"ticks\": \"\"}, \"baxis\": {\"gridcolor\": \"white\", \"linecolor\": \"white\", \"ticks\": \"\"}, \"bgcolor\": \"#E5ECF6\", \"caxis\": {\"gridcolor\": \"white\", \"linecolor\": \"white\", \"ticks\": \"\"}}, \"title\": {\"x\": 0.05}, \"xaxis\": {\"automargin\": true, \"gridcolor\": \"white\", \"linecolor\": \"white\", \"ticks\": \"\", \"title\": {\"standoff\": 15}, \"zerolinecolor\": \"white\", \"zerolinewidth\": 2}, \"yaxis\": {\"automargin\": true, \"gridcolor\": \"white\", \"linecolor\": \"white\", \"ticks\": \"\", \"title\": {\"standoff\": 15}, \"zerolinecolor\": \"white\", \"zerolinewidth\": 2}}}, \"title\": {\"text\": \"3-class CNN Model Performance (Gray Scale) \"}, \"width\": 500, \"xaxis\": {\"title\": {\"text\": \"Number of Epoches\"}}, \"yaxis\": {\"title\": {\"text\": \"Accuracy\"}}},\n",
              "                        {\"responsive\": true}\n",
              "                    ).then(function(){\n",
              "                            \n",
              "var gd = document.getElementById('7ce08565-6820-461d-a13e-9a0d4c92da7b');\n",
              "var x = new MutationObserver(function (mutations, observer) {{\n",
              "        var display = window.getComputedStyle(gd).display;\n",
              "        if (!display || display === 'none') {{\n",
              "            console.log([gd, 'removed!']);\n",
              "            Plotly.purge(gd);\n",
              "            observer.disconnect();\n",
              "        }}\n",
              "}});\n",
              "\n",
              "// Listen for the removal of the full notebook cells\n",
              "var notebookContainer = gd.closest('#notebook-container');\n",
              "if (notebookContainer) {{\n",
              "    x.observe(notebookContainer, {childList: true});\n",
              "}}\n",
              "\n",
              "// Listen for the clearing of the current output cell\n",
              "var outputEl = gd.closest('.output');\n",
              "if (outputEl) {{\n",
              "    x.observe(outputEl, {childList: true});\n",
              "}}\n",
              "\n",
              "                        })\n",
              "                };\n",
              "                \n",
              "            </script>\n",
              "        </div>\n",
              "</body>\n",
              "</html>"
            ]
          },
          "metadata": {
            "tags": []
          }
        }
      ]
    },
    {
      "cell_type": "code",
      "metadata": {
        "id": "3dPjLnXuoM2Q"
      },
      "source": [
        "pokemons = pd.read_csv('pokemon-images-and-types/pokemon.csv')\n",
        "numbers = []\n",
        "for i in range(1,pokemons.shape[0]+1):\n",
        "    numbers.append(i)\n",
        "pokemons['pkn'] = numbers\n",
        "IMG_DIR = 'pokemon-images-dataset/pokemon'\n",
        "from os import listdir\n",
        "from os.path import isfile, join\n",
        "onlyfiles = [f for f in listdir(IMG_DIR) if isfile(join(IMG_DIR, f))]"
      ],
      "execution_count": 13,
      "outputs": []
    },
    {
      "cell_type": "code",
      "metadata": {
        "colab": {
          "base_uri": "https://localhost:8080/",
          "height": 204
        },
        "id": "4shuZ-ZmsjoA",
        "outputId": "68380030-e47d-4c42-a0b5-6b1caf165830"
      },
      "source": [
        "dataframe_img = pd.DataFrame([])\n",
        "images = []\n",
        "pokemon_number = []\n",
        "for img in onlyfiles:\n",
        "    if not re.search('-', img):\n",
        "        pkn = img.split('.')\n",
        "        n = re.sub(\"[^0-9]\", \"\", pkn[0])\n",
        "        path = IMG_DIR +'/' +str(img)\n",
        "        images.append(path)\n",
        "        pokemon_number.append(n)\n",
        "dataframe_img['images'] = images\n",
        "dataframe_img['pkn'] = pokemon_number\n",
        "dataframe_img['pkn'] = dataframe_img['pkn'].astype(int)\n",
        "dataframe_img['pkn'] = dataframe_img['pkn'].astype(int)\n",
        "result = pokemons.merge(dataframe_img, left_on='pkn', right_on='pkn')\n",
        "result.head()"
      ],
      "execution_count": 14,
      "outputs": [
        {
          "output_type": "execute_result",
          "data": {
            "text/html": [
              "<div>\n",
              "<style scoped>\n",
              "    .dataframe tbody tr th:only-of-type {\n",
              "        vertical-align: middle;\n",
              "    }\n",
              "\n",
              "    .dataframe tbody tr th {\n",
              "        vertical-align: top;\n",
              "    }\n",
              "\n",
              "    .dataframe thead th {\n",
              "        text-align: right;\n",
              "    }\n",
              "</style>\n",
              "<table border=\"1\" class=\"dataframe\">\n",
              "  <thead>\n",
              "    <tr style=\"text-align: right;\">\n",
              "      <th></th>\n",
              "      <th>Name</th>\n",
              "      <th>Type1</th>\n",
              "      <th>Type2</th>\n",
              "      <th>pkn</th>\n",
              "      <th>images</th>\n",
              "    </tr>\n",
              "  </thead>\n",
              "  <tbody>\n",
              "    <tr>\n",
              "      <th>0</th>\n",
              "      <td>bulbasaur</td>\n",
              "      <td>Grass</td>\n",
              "      <td>Poison</td>\n",
              "      <td>1</td>\n",
              "      <td>pokemon-images-dataset/pokemon/1.png</td>\n",
              "    </tr>\n",
              "    <tr>\n",
              "      <th>1</th>\n",
              "      <td>ivysaur</td>\n",
              "      <td>Grass</td>\n",
              "      <td>Poison</td>\n",
              "      <td>2</td>\n",
              "      <td>pokemon-images-dataset/pokemon/2.png</td>\n",
              "    </tr>\n",
              "    <tr>\n",
              "      <th>2</th>\n",
              "      <td>venusaur</td>\n",
              "      <td>Grass</td>\n",
              "      <td>Poison</td>\n",
              "      <td>3</td>\n",
              "      <td>pokemon-images-dataset/pokemon/3.png</td>\n",
              "    </tr>\n",
              "    <tr>\n",
              "      <th>3</th>\n",
              "      <td>charmander</td>\n",
              "      <td>Fire</td>\n",
              "      <td>NaN</td>\n",
              "      <td>4</td>\n",
              "      <td>pokemon-images-dataset/pokemon/4.png</td>\n",
              "    </tr>\n",
              "    <tr>\n",
              "      <th>4</th>\n",
              "      <td>charmeleon</td>\n",
              "      <td>Fire</td>\n",
              "      <td>NaN</td>\n",
              "      <td>5</td>\n",
              "      <td>pokemon-images-dataset/pokemon/5.png</td>\n",
              "    </tr>\n",
              "  </tbody>\n",
              "</table>\n",
              "</div>"
            ],
            "text/plain": [
              "         Name  Type1   Type2  pkn                                images\n",
              "0   bulbasaur  Grass  Poison    1  pokemon-images-dataset/pokemon/1.png\n",
              "1     ivysaur  Grass  Poison    2  pokemon-images-dataset/pokemon/2.png\n",
              "2    venusaur  Grass  Poison    3  pokemon-images-dataset/pokemon/3.png\n",
              "3  charmander   Fire     NaN    4  pokemon-images-dataset/pokemon/4.png\n",
              "4  charmeleon   Fire     NaN    5  pokemon-images-dataset/pokemon/5.png"
            ]
          },
          "metadata": {
            "tags": []
          },
          "execution_count": 14
        }
      ]
    },
    {
      "cell_type": "code",
      "metadata": {
        "id": "Nka6aoKKsoWn"
      },
      "source": [
        "# We will be focusing on water, fire\n",
        "select = ['Water', 'Fire']\n",
        "result = result[result['Type1'].isin(select)]"
      ],
      "execution_count": 15,
      "outputs": []
    },
    {
      "cell_type": "code",
      "metadata": {
        "id": "NwiUb7bEsoeL"
      },
      "source": [
        "# train, test, validation split\n",
        "\n",
        "X_train, X_test, y_train, y_test = train_test_split(\n",
        "    result, result['Type1'],test_size = 0.4, random_state=919)\n",
        "\n",
        "X_test, X_val, y_test, y_val = train_test_split(\n",
        "    X_test, y_test, test_size = 0.5, random_state = 919)"
      ],
      "execution_count": 16,
      "outputs": []
    },
    {
      "cell_type": "code",
      "metadata": {
        "colab": {
          "base_uri": "https://localhost:8080/"
        },
        "id": "UKdaxEhlsogr",
        "outputId": "45a57094-d2d8-46ca-90dd-db797d019360"
      },
      "source": [
        "\n",
        "datagen = image.ImageDataGenerator()\n",
        "trainDf = pd.DataFrame(X_train) \n",
        "trainDf[\"Type1\"] = y_train \n",
        "train = datagen.flow_from_dataframe(trainDf, x_col = \"images\", y_col = \"Type1\", color_mode=\"grayscale\") "
      ],
      "execution_count": 17,
      "outputs": [
        {
          "output_type": "stream",
          "text": [
            "Found 90 validated image filenames belonging to 2 classes.\n"
          ],
          "name": "stdout"
        }
      ]
    },
    {
      "cell_type": "code",
      "metadata": {
        "colab": {
          "base_uri": "https://localhost:8080/"
        },
        "id": "s2UAdWZBsojW",
        "outputId": "f422b55f-5c62-41f8-d57e-6f900f4209dd"
      },
      "source": [
        "testDf = pd.DataFrame(X_test) \n",
        "testDf[\"Type1\"] = y_test \n",
        "test = datagen.flow_from_dataframe(testDf, x_col = \"images\", y_col = \"Type1\", color_mode=\"grayscale\",) "
      ],
      "execution_count": 18,
      "outputs": [
        {
          "output_type": "stream",
          "text": [
            "Found 30 validated image filenames belonging to 2 classes.\n"
          ],
          "name": "stdout"
        }
      ]
    },
    {
      "cell_type": "code",
      "metadata": {
        "colab": {
          "base_uri": "https://localhost:8080/"
        },
        "id": "TEu5HlxuswXj",
        "outputId": "a40b94b1-7772-4aa0-85e6-e2dc73245ac4"
      },
      "source": [
        "valDf = pd.DataFrame(X_val) \n",
        "valDf[\"Type1\"] = y_val \n",
        "val = datagen.flow_from_dataframe(valDf, x_col = \"images\", y_col = \"Type1\", color_mode=\"grayscale\") "
      ],
      "execution_count": 19,
      "outputs": [
        {
          "output_type": "stream",
          "text": [
            "Found 30 validated image filenames belonging to 2 classes.\n"
          ],
          "name": "stdout"
        }
      ]
    },
    {
      "cell_type": "code",
      "metadata": {
        "colab": {
          "base_uri": "https://localhost:8080/"
        },
        "id": "C4DR4Jius6Vg",
        "outputId": "5b491dee-51c8-4898-f4dc-1bc722a5253f"
      },
      "source": [
        "# CNN model for 2 classes\n",
        "from keras.models import Sequential\n",
        "from keras.layers import Conv2D, MaxPooling2D, Dropout, Flatten, Dense, Activation, BatchNormalization, Lambda\n",
        "from keras.preprocessing.image import ImageDataGenerator\n",
        "import tensorflow as tf\n",
        "def cnn_model_2():\n",
        "    model = Sequential()\n",
        "    IMAGE_WIDTH = 256\n",
        "    IMAGE_HEIGHT = 256\n",
        "    IMAGE_CHANNELS = 1\n",
        "    model.add(Lambda(lambda x: x, input_shape=(IMAGE_WIDTH, IMAGE_HEIGHT, IMAGE_CHANNELS)))\n",
        "    model.add(Conv2D(32, (2, 2), activation='relu'))\n",
        "    model.add(BatchNormalization())\n",
        "    model.add(MaxPooling2D(pool_size=(3, 3)))\n",
        "    model.add(Dropout(0.25))\n",
        "\n",
        "    model.add(Conv2D(64, (2, 2), activation='relu'))\n",
        "    model.add(BatchNormalization())\n",
        "    model.add(MaxPooling2D(pool_size=(3, 3)))\n",
        "    model.add(Dropout(0.25))\n",
        "\n",
        "    model.add(Conv2D(128, (2, 2), activation='relu'))\n",
        "    model.add(BatchNormalization())\n",
        "    model.add(MaxPooling2D(pool_size=(3, 3)))\n",
        "    model.add(Dropout(0.25))\n",
        "\n",
        "    model.add(Conv2D(256, (2, 2), activation='relu'))\n",
        "    model.add(BatchNormalization())\n",
        "    model.add(MaxPooling2D(pool_size=(3, 3)))\n",
        "    model.add(Dropout(0.25))\n",
        "\n",
        "    \n",
        "\n",
        "    model.add(Flatten())\n",
        "    model.add(Dense(1024, activation='relu'))\n",
        "    model.add(BatchNormalization())\n",
        "    model.add(Dropout(0.25))\n",
        "    model.add(Dense(512, activation='relu'))\n",
        "    model.add(BatchNormalization())\n",
        "    model.add(Dropout(0.25))\n",
        "    model.add(Dense(128, activation='relu'))\n",
        "    model.add(BatchNormalization())\n",
        "    model.add(Dropout(0.25))\n",
        "    model.add(Dense(64, activation='relu'))\n",
        "    model.add(BatchNormalization())\n",
        "    model.add(Dropout(0.25))\n",
        "    model.add(Dense(2, activation='sigmoid')) \n",
        "\n",
        "    model.compile(loss='binary_crossentropy', optimizer='adam', metrics=['acc'])\n",
        "\n",
        "    model.summary()\n",
        "    return model\n",
        "model = cnn_model_2()\n",
        "model.summary()\n",
        "history = model.fit(train, epochs=70, validation_data=val)"
      ],
      "execution_count": 20,
      "outputs": [
        {
          "output_type": "stream",
          "text": [
            "Model: \"sequential_1\"\n",
            "_________________________________________________________________\n",
            "Layer (type)                 Output Shape              Param #   \n",
            "=================================================================\n",
            "lambda_1 (Lambda)            (None, 256, 256, 1)       0         \n",
            "_________________________________________________________________\n",
            "conv2d_4 (Conv2D)            (None, 255, 255, 32)      160       \n",
            "_________________________________________________________________\n",
            "batch_normalization_8 (Batch (None, 255, 255, 32)      128       \n",
            "_________________________________________________________________\n",
            "max_pooling2d_4 (MaxPooling2 (None, 85, 85, 32)        0         \n",
            "_________________________________________________________________\n",
            "dropout_8 (Dropout)          (None, 85, 85, 32)        0         \n",
            "_________________________________________________________________\n",
            "conv2d_5 (Conv2D)            (None, 84, 84, 64)        8256      \n",
            "_________________________________________________________________\n",
            "batch_normalization_9 (Batch (None, 84, 84, 64)        256       \n",
            "_________________________________________________________________\n",
            "max_pooling2d_5 (MaxPooling2 (None, 28, 28, 64)        0         \n",
            "_________________________________________________________________\n",
            "dropout_9 (Dropout)          (None, 28, 28, 64)        0         \n",
            "_________________________________________________________________\n",
            "conv2d_6 (Conv2D)            (None, 27, 27, 128)       32896     \n",
            "_________________________________________________________________\n",
            "batch_normalization_10 (Batc (None, 27, 27, 128)       512       \n",
            "_________________________________________________________________\n",
            "max_pooling2d_6 (MaxPooling2 (None, 9, 9, 128)         0         \n",
            "_________________________________________________________________\n",
            "dropout_10 (Dropout)         (None, 9, 9, 128)         0         \n",
            "_________________________________________________________________\n",
            "conv2d_7 (Conv2D)            (None, 8, 8, 256)         131328    \n",
            "_________________________________________________________________\n",
            "batch_normalization_11 (Batc (None, 8, 8, 256)         1024      \n",
            "_________________________________________________________________\n",
            "max_pooling2d_7 (MaxPooling2 (None, 2, 2, 256)         0         \n",
            "_________________________________________________________________\n",
            "dropout_11 (Dropout)         (None, 2, 2, 256)         0         \n",
            "_________________________________________________________________\n",
            "flatten_1 (Flatten)          (None, 1024)              0         \n",
            "_________________________________________________________________\n",
            "dense_5 (Dense)              (None, 1024)              1049600   \n",
            "_________________________________________________________________\n",
            "batch_normalization_12 (Batc (None, 1024)              4096      \n",
            "_________________________________________________________________\n",
            "dropout_12 (Dropout)         (None, 1024)              0         \n",
            "_________________________________________________________________\n",
            "dense_6 (Dense)              (None, 512)               524800    \n",
            "_________________________________________________________________\n",
            "batch_normalization_13 (Batc (None, 512)               2048      \n",
            "_________________________________________________________________\n",
            "dropout_13 (Dropout)         (None, 512)               0         \n",
            "_________________________________________________________________\n",
            "dense_7 (Dense)              (None, 128)               65664     \n",
            "_________________________________________________________________\n",
            "batch_normalization_14 (Batc (None, 128)               512       \n",
            "_________________________________________________________________\n",
            "dropout_14 (Dropout)         (None, 128)               0         \n",
            "_________________________________________________________________\n",
            "dense_8 (Dense)              (None, 64)                8256      \n",
            "_________________________________________________________________\n",
            "batch_normalization_15 (Batc (None, 64)                256       \n",
            "_________________________________________________________________\n",
            "dropout_15 (Dropout)         (None, 64)                0         \n",
            "_________________________________________________________________\n",
            "dense_9 (Dense)              (None, 2)                 130       \n",
            "=================================================================\n",
            "Total params: 1,829,922\n",
            "Trainable params: 1,825,506\n",
            "Non-trainable params: 4,416\n",
            "_________________________________________________________________\n",
            "Model: \"sequential_1\"\n",
            "_________________________________________________________________\n",
            "Layer (type)                 Output Shape              Param #   \n",
            "=================================================================\n",
            "lambda_1 (Lambda)            (None, 256, 256, 1)       0         \n",
            "_________________________________________________________________\n",
            "conv2d_4 (Conv2D)            (None, 255, 255, 32)      160       \n",
            "_________________________________________________________________\n",
            "batch_normalization_8 (Batch (None, 255, 255, 32)      128       \n",
            "_________________________________________________________________\n",
            "max_pooling2d_4 (MaxPooling2 (None, 85, 85, 32)        0         \n",
            "_________________________________________________________________\n",
            "dropout_8 (Dropout)          (None, 85, 85, 32)        0         \n",
            "_________________________________________________________________\n",
            "conv2d_5 (Conv2D)            (None, 84, 84, 64)        8256      \n",
            "_________________________________________________________________\n",
            "batch_normalization_9 (Batch (None, 84, 84, 64)        256       \n",
            "_________________________________________________________________\n",
            "max_pooling2d_5 (MaxPooling2 (None, 28, 28, 64)        0         \n",
            "_________________________________________________________________\n",
            "dropout_9 (Dropout)          (None, 28, 28, 64)        0         \n",
            "_________________________________________________________________\n",
            "conv2d_6 (Conv2D)            (None, 27, 27, 128)       32896     \n",
            "_________________________________________________________________\n",
            "batch_normalization_10 (Batc (None, 27, 27, 128)       512       \n",
            "_________________________________________________________________\n",
            "max_pooling2d_6 (MaxPooling2 (None, 9, 9, 128)         0         \n",
            "_________________________________________________________________\n",
            "dropout_10 (Dropout)         (None, 9, 9, 128)         0         \n",
            "_________________________________________________________________\n",
            "conv2d_7 (Conv2D)            (None, 8, 8, 256)         131328    \n",
            "_________________________________________________________________\n",
            "batch_normalization_11 (Batc (None, 8, 8, 256)         1024      \n",
            "_________________________________________________________________\n",
            "max_pooling2d_7 (MaxPooling2 (None, 2, 2, 256)         0         \n",
            "_________________________________________________________________\n",
            "dropout_11 (Dropout)         (None, 2, 2, 256)         0         \n",
            "_________________________________________________________________\n",
            "flatten_1 (Flatten)          (None, 1024)              0         \n",
            "_________________________________________________________________\n",
            "dense_5 (Dense)              (None, 1024)              1049600   \n",
            "_________________________________________________________________\n",
            "batch_normalization_12 (Batc (None, 1024)              4096      \n",
            "_________________________________________________________________\n",
            "dropout_12 (Dropout)         (None, 1024)              0         \n",
            "_________________________________________________________________\n",
            "dense_6 (Dense)              (None, 512)               524800    \n",
            "_________________________________________________________________\n",
            "batch_normalization_13 (Batc (None, 512)               2048      \n",
            "_________________________________________________________________\n",
            "dropout_13 (Dropout)         (None, 512)               0         \n",
            "_________________________________________________________________\n",
            "dense_7 (Dense)              (None, 128)               65664     \n",
            "_________________________________________________________________\n",
            "batch_normalization_14 (Batc (None, 128)               512       \n",
            "_________________________________________________________________\n",
            "dropout_14 (Dropout)         (None, 128)               0         \n",
            "_________________________________________________________________\n",
            "dense_8 (Dense)              (None, 64)                8256      \n",
            "_________________________________________________________________\n",
            "batch_normalization_15 (Batc (None, 64)                256       \n",
            "_________________________________________________________________\n",
            "dropout_15 (Dropout)         (None, 64)                0         \n",
            "_________________________________________________________________\n",
            "dense_9 (Dense)              (None, 2)                 130       \n",
            "=================================================================\n",
            "Total params: 1,829,922\n",
            "Trainable params: 1,825,506\n",
            "Non-trainable params: 4,416\n",
            "_________________________________________________________________\n",
            "Epoch 1/70\n",
            "3/3 [==============================] - 3s 1s/step - loss: 0.9374 - acc: 0.4778 - val_loss: 0.7120 - val_acc: 0.5667\n",
            "Epoch 2/70\n",
            "3/3 [==============================] - 0s 144ms/step - loss: 0.8777 - acc: 0.5556 - val_loss: 1.1439 - val_acc: 0.4667\n",
            "Epoch 3/70\n",
            "3/3 [==============================] - 0s 150ms/step - loss: 0.9752 - acc: 0.4889 - val_loss: 2.3679 - val_acc: 0.4333\n",
            "Epoch 4/70\n",
            "3/3 [==============================] - 0s 137ms/step - loss: 0.7609 - acc: 0.5889 - val_loss: 3.9925 - val_acc: 0.4333\n",
            "Epoch 5/70\n",
            "3/3 [==============================] - 0s 130ms/step - loss: 0.8077 - acc: 0.5667 - val_loss: 4.6373 - val_acc: 0.4333\n",
            "Epoch 6/70\n",
            "3/3 [==============================] - 0s 135ms/step - loss: 0.7155 - acc: 0.5778 - val_loss: 5.4902 - val_acc: 0.4333\n",
            "Epoch 7/70\n",
            "3/3 [==============================] - 0s 150ms/step - loss: 0.7811 - acc: 0.6000 - val_loss: 6.1584 - val_acc: 0.4333\n",
            "Epoch 8/70\n",
            "3/3 [==============================] - 0s 129ms/step - loss: 0.7404 - acc: 0.6222 - val_loss: 6.6282 - val_acc: 0.4333\n",
            "Epoch 9/70\n",
            "3/3 [==============================] - 0s 126ms/step - loss: 0.6987 - acc: 0.6556 - val_loss: 6.4598 - val_acc: 0.4333\n",
            "Epoch 10/70\n",
            "3/3 [==============================] - 0s 132ms/step - loss: 0.8266 - acc: 0.5889 - val_loss: 6.2519 - val_acc: 0.4333\n",
            "Epoch 11/70\n",
            "3/3 [==============================] - 0s 140ms/step - loss: 0.6768 - acc: 0.6667 - val_loss: 5.7511 - val_acc: 0.4333\n",
            "Epoch 12/70\n",
            "3/3 [==============================] - 0s 132ms/step - loss: 0.6980 - acc: 0.6556 - val_loss: 5.1182 - val_acc: 0.4333\n",
            "Epoch 13/70\n",
            "3/3 [==============================] - 0s 131ms/step - loss: 0.6867 - acc: 0.6556 - val_loss: 4.1958 - val_acc: 0.4333\n",
            "Epoch 14/70\n",
            "3/3 [==============================] - 0s 131ms/step - loss: 0.6621 - acc: 0.6556 - val_loss: 4.0174 - val_acc: 0.4333\n",
            "Epoch 15/70\n",
            "3/3 [==============================] - 0s 134ms/step - loss: 0.6573 - acc: 0.6667 - val_loss: 3.9319 - val_acc: 0.4333\n",
            "Epoch 16/70\n",
            "3/3 [==============================] - 0s 134ms/step - loss: 0.5969 - acc: 0.7222 - val_loss: 3.7926 - val_acc: 0.4333\n",
            "Epoch 17/70\n",
            "3/3 [==============================] - 0s 128ms/step - loss: 0.6704 - acc: 0.6667 - val_loss: 3.5646 - val_acc: 0.4333\n",
            "Epoch 18/70\n",
            "3/3 [==============================] - 0s 135ms/step - loss: 0.6412 - acc: 0.6667 - val_loss: 3.0542 - val_acc: 0.4000\n",
            "Epoch 19/70\n",
            "3/3 [==============================] - 0s 144ms/step - loss: 0.6228 - acc: 0.7778 - val_loss: 2.5820 - val_acc: 0.4000\n",
            "Epoch 20/70\n",
            "3/3 [==============================] - 0s 134ms/step - loss: 0.5253 - acc: 0.8222 - val_loss: 2.0661 - val_acc: 0.4000\n",
            "Epoch 21/70\n",
            "3/3 [==============================] - 0s 130ms/step - loss: 0.5819 - acc: 0.7667 - val_loss: 1.5983 - val_acc: 0.4333\n",
            "Epoch 22/70\n",
            "3/3 [==============================] - 0s 138ms/step - loss: 0.5646 - acc: 0.7111 - val_loss: 1.4954 - val_acc: 0.4667\n",
            "Epoch 23/70\n",
            "3/3 [==============================] - 0s 136ms/step - loss: 0.4921 - acc: 0.7889 - val_loss: 1.4758 - val_acc: 0.5000\n",
            "Epoch 24/70\n",
            "3/3 [==============================] - 0s 136ms/step - loss: 0.5077 - acc: 0.7889 - val_loss: 1.3158 - val_acc: 0.5000\n",
            "Epoch 25/70\n",
            "3/3 [==============================] - 0s 132ms/step - loss: 0.5496 - acc: 0.6889 - val_loss: 1.3156 - val_acc: 0.4667\n",
            "Epoch 26/70\n",
            "3/3 [==============================] - 0s 135ms/step - loss: 0.4864 - acc: 0.7778 - val_loss: 1.2281 - val_acc: 0.5000\n",
            "Epoch 27/70\n",
            "3/3 [==============================] - 0s 134ms/step - loss: 0.4547 - acc: 0.8333 - val_loss: 1.1321 - val_acc: 0.4667\n",
            "Epoch 28/70\n",
            "3/3 [==============================] - 0s 138ms/step - loss: 0.5593 - acc: 0.7667 - val_loss: 1.0864 - val_acc: 0.4667\n",
            "Epoch 29/70\n",
            "3/3 [==============================] - 0s 133ms/step - loss: 0.4935 - acc: 0.7667 - val_loss: 1.0954 - val_acc: 0.4000\n",
            "Epoch 30/70\n",
            "3/3 [==============================] - 0s 132ms/step - loss: 0.5105 - acc: 0.7778 - val_loss: 1.1132 - val_acc: 0.5000\n",
            "Epoch 31/70\n",
            "3/3 [==============================] - 0s 149ms/step - loss: 0.4300 - acc: 0.8111 - val_loss: 1.1074 - val_acc: 0.5000\n",
            "Epoch 32/70\n",
            "3/3 [==============================] - 0s 139ms/step - loss: 0.5432 - acc: 0.7667 - val_loss: 1.0480 - val_acc: 0.4667\n",
            "Epoch 33/70\n",
            "3/3 [==============================] - 0s 145ms/step - loss: 0.5123 - acc: 0.8111 - val_loss: 1.0246 - val_acc: 0.5000\n",
            "Epoch 34/70\n",
            "3/3 [==============================] - 0s 137ms/step - loss: 0.4459 - acc: 0.7667 - val_loss: 0.9932 - val_acc: 0.5333\n",
            "Epoch 35/70\n",
            "3/3 [==============================] - 0s 136ms/step - loss: 0.4143 - acc: 0.8333 - val_loss: 0.9770 - val_acc: 0.5333\n",
            "Epoch 36/70\n",
            "3/3 [==============================] - 0s 147ms/step - loss: 0.4241 - acc: 0.8111 - val_loss: 0.9746 - val_acc: 0.5667\n",
            "Epoch 37/70\n",
            "3/3 [==============================] - 0s 136ms/step - loss: 0.3877 - acc: 0.8556 - val_loss: 0.9838 - val_acc: 0.5333\n",
            "Epoch 38/70\n",
            "3/3 [==============================] - 0s 132ms/step - loss: 0.3414 - acc: 0.8556 - val_loss: 0.9853 - val_acc: 0.5333\n",
            "Epoch 39/70\n",
            "3/3 [==============================] - 0s 148ms/step - loss: 0.3616 - acc: 0.8778 - val_loss: 1.0059 - val_acc: 0.5333\n",
            "Epoch 40/70\n",
            "3/3 [==============================] - 0s 145ms/step - loss: 0.3603 - acc: 0.8667 - val_loss: 1.0531 - val_acc: 0.5333\n",
            "Epoch 41/70\n",
            "3/3 [==============================] - 0s 142ms/step - loss: 0.3409 - acc: 0.9000 - val_loss: 1.0663 - val_acc: 0.5333\n",
            "Epoch 42/70\n",
            "3/3 [==============================] - 0s 141ms/step - loss: 0.2768 - acc: 0.9222 - val_loss: 1.1170 - val_acc: 0.5333\n",
            "Epoch 43/70\n",
            "3/3 [==============================] - 0s 137ms/step - loss: 0.3101 - acc: 0.9000 - val_loss: 1.1798 - val_acc: 0.5333\n",
            "Epoch 44/70\n",
            "3/3 [==============================] - 0s 146ms/step - loss: 0.2482 - acc: 0.9333 - val_loss: 1.2512 - val_acc: 0.5333\n",
            "Epoch 45/70\n",
            "3/3 [==============================] - 0s 148ms/step - loss: 0.2659 - acc: 0.8556 - val_loss: 1.2608 - val_acc: 0.5333\n",
            "Epoch 46/70\n",
            "3/3 [==============================] - 0s 151ms/step - loss: 0.2547 - acc: 0.9111 - val_loss: 1.2708 - val_acc: 0.5333\n",
            "Epoch 47/70\n",
            "3/3 [==============================] - 0s 150ms/step - loss: 0.2744 - acc: 0.8889 - val_loss: 1.2503 - val_acc: 0.5333\n",
            "Epoch 48/70\n",
            "3/3 [==============================] - 0s 140ms/step - loss: 0.2124 - acc: 0.9333 - val_loss: 1.2872 - val_acc: 0.5333\n",
            "Epoch 49/70\n",
            "3/3 [==============================] - 0s 151ms/step - loss: 0.3027 - acc: 0.9111 - val_loss: 1.3383 - val_acc: 0.5333\n",
            "Epoch 50/70\n",
            "3/3 [==============================] - 0s 154ms/step - loss: 0.2490 - acc: 0.9111 - val_loss: 1.3924 - val_acc: 0.5333\n",
            "Epoch 51/70\n",
            "3/3 [==============================] - 0s 150ms/step - loss: 0.2359 - acc: 0.9444 - val_loss: 1.3715 - val_acc: 0.5667\n",
            "Epoch 52/70\n",
            "3/3 [==============================] - 0s 148ms/step - loss: 0.2605 - acc: 0.8778 - val_loss: 1.3350 - val_acc: 0.5667\n",
            "Epoch 53/70\n",
            "3/3 [==============================] - 0s 140ms/step - loss: 0.2471 - acc: 0.9000 - val_loss: 1.3323 - val_acc: 0.5667\n",
            "Epoch 54/70\n",
            "3/3 [==============================] - 0s 135ms/step - loss: 0.1921 - acc: 0.9444 - val_loss: 1.3734 - val_acc: 0.5667\n",
            "Epoch 55/70\n",
            "3/3 [==============================] - 0s 140ms/step - loss: 0.2137 - acc: 0.9222 - val_loss: 1.4665 - val_acc: 0.5667\n",
            "Epoch 56/70\n",
            "3/3 [==============================] - 0s 141ms/step - loss: 0.1772 - acc: 0.9444 - val_loss: 1.5522 - val_acc: 0.5333\n",
            "Epoch 57/70\n",
            "3/3 [==============================] - 0s 143ms/step - loss: 0.2012 - acc: 0.9444 - val_loss: 1.6447 - val_acc: 0.5000\n",
            "Epoch 58/70\n",
            "3/3 [==============================] - 0s 142ms/step - loss: 0.2316 - acc: 0.9111 - val_loss: 1.6998 - val_acc: 0.5000\n",
            "Epoch 59/70\n",
            "3/3 [==============================] - 0s 132ms/step - loss: 0.1826 - acc: 0.9444 - val_loss: 1.7291 - val_acc: 0.5000\n",
            "Epoch 60/70\n",
            "3/3 [==============================] - 0s 137ms/step - loss: 0.1902 - acc: 0.9444 - val_loss: 1.7044 - val_acc: 0.5000\n",
            "Epoch 61/70\n",
            "3/3 [==============================] - 0s 145ms/step - loss: 0.1666 - acc: 0.9444 - val_loss: 1.7864 - val_acc: 0.5000\n",
            "Epoch 62/70\n",
            "3/3 [==============================] - 0s 145ms/step - loss: 0.1664 - acc: 0.9444 - val_loss: 1.9542 - val_acc: 0.5000\n",
            "Epoch 63/70\n",
            "3/3 [==============================] - 0s 140ms/step - loss: 0.1341 - acc: 0.9556 - val_loss: 2.1142 - val_acc: 0.5000\n",
            "Epoch 64/70\n",
            "3/3 [==============================] - 0s 154ms/step - loss: 0.1535 - acc: 0.9444 - val_loss: 2.2217 - val_acc: 0.5000\n",
            "Epoch 65/70\n",
            "3/3 [==============================] - 0s 139ms/step - loss: 0.2271 - acc: 0.9333 - val_loss: 2.2564 - val_acc: 0.5000\n",
            "Epoch 66/70\n",
            "3/3 [==============================] - 0s 145ms/step - loss: 0.1173 - acc: 0.9778 - val_loss: 2.2571 - val_acc: 0.5000\n",
            "Epoch 67/70\n",
            "3/3 [==============================] - 0s 150ms/step - loss: 0.1538 - acc: 0.9667 - val_loss: 2.2203 - val_acc: 0.5000\n",
            "Epoch 68/70\n",
            "3/3 [==============================] - 0s 135ms/step - loss: 0.1588 - acc: 0.9556 - val_loss: 2.2107 - val_acc: 0.5000\n",
            "Epoch 69/70\n",
            "3/3 [==============================] - 0s 144ms/step - loss: 0.1744 - acc: 0.9333 - val_loss: 2.1661 - val_acc: 0.5000\n",
            "Epoch 70/70\n",
            "3/3 [==============================] - 0s 150ms/step - loss: 0.1239 - acc: 0.9778 - val_loss: 2.1132 - val_acc: 0.5000\n"
          ],
          "name": "stdout"
        }
      ]
    },
    {
      "cell_type": "code",
      "metadata": {
        "colab": {
          "base_uri": "https://localhost:8080/",
          "height": 417
        },
        "id": "D2gIxSdFs6dW",
        "outputId": "07faa84d-770f-41c7-c3dc-bb5e14e8e163"
      },
      "source": [
        "# plot model performance\n",
        "import plotly.io as pio\n",
        "pio.renderers.default = 'colab'\n",
        "fig = go.Figure()\n",
        "epochs = []\n",
        "for i in range(len(history.history['acc'])):\n",
        "    epochs.append(i)\n",
        "fig.add_trace(go.Scatter(x=epochs,y=history.history['acc'], mode='lines',name='Training Accuracy'))\n",
        "fig.add_trace(go.Scatter(x=epochs,y=history.history['val_acc'], mode='lines',name='Validation Accuracy'))\n",
        "\n",
        "fig.update_layout(\n",
        "    {\n",
        "        'plot_bgcolor': 'rgba(0, 0, 0, 0)',\n",
        "        'paper_bgcolor': 'rgba(0, 0, 0, 0)',\n",
        "        'width': 500, \n",
        "        'height': 400,\n",
        "        'title': \"2-class CNN Model Performance (Gray Scale) \"\n",
        "\n",
        "})\n",
        "fig.update_xaxes(title_text='Number of Epoches')\n",
        "fig.update_yaxes(title_text='Accuracy')\n",
        "\n",
        "fig.show()"
      ],
      "execution_count": 21,
      "outputs": [
        {
          "output_type": "display_data",
          "data": {
            "text/html": [
              "<html>\n",
              "<head><meta charset=\"utf-8\" /></head>\n",
              "<body>\n",
              "    <div>\n",
              "            <script src=\"https://cdnjs.cloudflare.com/ajax/libs/mathjax/2.7.5/MathJax.js?config=TeX-AMS-MML_SVG\"></script><script type=\"text/javascript\">if (window.MathJax) {MathJax.Hub.Config({SVG: {font: \"STIX-Web\"}});}</script>\n",
              "                <script type=\"text/javascript\">window.PlotlyConfig = {MathJaxConfig: 'local'};</script>\n",
              "        <script src=\"https://cdn.plot.ly/plotly-latest.min.js\"></script>    \n",
              "            <div id=\"efa48b21-9a1a-4e92-9d6c-f3cfe889ba0b\" class=\"plotly-graph-div\" style=\"height:400px; width:500px;\"></div>\n",
              "            <script type=\"text/javascript\">\n",
              "                \n",
              "                    window.PLOTLYENV=window.PLOTLYENV || {};\n",
              "                    \n",
              "                if (document.getElementById(\"efa48b21-9a1a-4e92-9d6c-f3cfe889ba0b\")) {\n",
              "                    Plotly.newPlot(\n",
              "                        'efa48b21-9a1a-4e92-9d6c-f3cfe889ba0b',\n",
              "                        [{\"mode\": \"lines\", \"name\": \"Training Accuracy\", \"type\": \"scatter\", \"x\": [0, 1, 2, 3, 4, 5, 6, 7, 8, 9, 10, 11, 12, 13, 14, 15, 16, 17, 18, 19, 20, 21, 22, 23, 24, 25, 26, 27, 28, 29, 30, 31, 32, 33, 34, 35, 36, 37, 38, 39, 40, 41, 42, 43, 44, 45, 46, 47, 48, 49, 50, 51, 52, 53, 54, 55, 56, 57, 58, 59, 60, 61, 62, 63, 64, 65, 66, 67, 68, 69], \"y\": [0.47777777910232544, 0.5555555820465088, 0.4888888895511627, 0.5888888835906982, 0.5666666626930237, 0.5777778029441833, 0.6000000238418579, 0.6222222447395325, 0.6555555462837219, 0.5888888835906982, 0.6666666865348816, 0.6555555462837219, 0.6555555462837219, 0.6555555462837219, 0.6666666865348816, 0.7222222089767456, 0.6666666865348816, 0.6666666865348816, 0.7777777910232544, 0.8222222328186035, 0.7666666507720947, 0.7111111283302307, 0.7888888716697693, 0.7888888716697693, 0.6888889074325562, 0.7777777910232544, 0.8333333134651184, 0.7666666507720947, 0.7666666507720947, 0.7777777910232544, 0.8111110925674438, 0.7666666507720947, 0.8111110925674438, 0.7666666507720947, 0.8333333134651184, 0.8111110925674438, 0.855555534362793, 0.855555534362793, 0.8777777552604675, 0.8666666746139526, 0.8999999761581421, 0.9222221970558167, 0.8999999761581421, 0.9333333373069763, 0.855555534362793, 0.9111111164093018, 0.8888888955116272, 0.9333333373069763, 0.9111111164093018, 0.9111111164093018, 0.9444444179534912, 0.8777777552604675, 0.8999999761581421, 0.9444444179534912, 0.9222221970558167, 0.9444444179534912, 0.9444444179534912, 0.9111111164093018, 0.9444444179534912, 0.9444444179534912, 0.9444444179534912, 0.9444444179534912, 0.9555555582046509, 0.9444444179534912, 0.9333333373069763, 0.9777777791023254, 0.9666666388511658, 0.9555555582046509, 0.9333333373069763, 0.9777777791023254]}, {\"mode\": \"lines\", \"name\": \"Validation Accuracy\", \"type\": \"scatter\", \"x\": [0, 1, 2, 3, 4, 5, 6, 7, 8, 9, 10, 11, 12, 13, 14, 15, 16, 17, 18, 19, 20, 21, 22, 23, 24, 25, 26, 27, 28, 29, 30, 31, 32, 33, 34, 35, 36, 37, 38, 39, 40, 41, 42, 43, 44, 45, 46, 47, 48, 49, 50, 51, 52, 53, 54, 55, 56, 57, 58, 59, 60, 61, 62, 63, 64, 65, 66, 67, 68, 69], \"y\": [0.5666666626930237, 0.46666666865348816, 0.4333333373069763, 0.4333333373069763, 0.4333333373069763, 0.4333333373069763, 0.4333333373069763, 0.4333333373069763, 0.4333333373069763, 0.4333333373069763, 0.4333333373069763, 0.4333333373069763, 0.4333333373069763, 0.4333333373069763, 0.4333333373069763, 0.4333333373069763, 0.4333333373069763, 0.4000000059604645, 0.4000000059604645, 0.4000000059604645, 0.4333333373069763, 0.46666666865348816, 0.5, 0.5, 0.46666666865348816, 0.5, 0.46666666865348816, 0.46666666865348816, 0.4000000059604645, 0.5, 0.5, 0.46666666865348816, 0.5, 0.5333333611488342, 0.5333333611488342, 0.5666666626930237, 0.5333333611488342, 0.5333333611488342, 0.5333333611488342, 0.5333333611488342, 0.5333333611488342, 0.5333333611488342, 0.5333333611488342, 0.5333333611488342, 0.5333333611488342, 0.5333333611488342, 0.5333333611488342, 0.5333333611488342, 0.5333333611488342, 0.5333333611488342, 0.5666666626930237, 0.5666666626930237, 0.5666666626930237, 0.5666666626930237, 0.5666666626930237, 0.5333333611488342, 0.5, 0.5, 0.5, 0.5, 0.5, 0.5, 0.5, 0.5, 0.5, 0.5, 0.5, 0.5, 0.5, 0.5]}],\n",
              "                        {\"height\": 400, \"paper_bgcolor\": \"rgba(0, 0, 0, 0)\", \"plot_bgcolor\": \"rgba(0, 0, 0, 0)\", \"template\": {\"data\": {\"bar\": [{\"error_x\": {\"color\": \"#2a3f5f\"}, \"error_y\": {\"color\": \"#2a3f5f\"}, \"marker\": {\"line\": {\"color\": \"#E5ECF6\", \"width\": 0.5}}, \"type\": \"bar\"}], \"barpolar\": [{\"marker\": {\"line\": {\"color\": \"#E5ECF6\", \"width\": 0.5}}, \"type\": \"barpolar\"}], \"carpet\": [{\"aaxis\": {\"endlinecolor\": \"#2a3f5f\", \"gridcolor\": \"white\", \"linecolor\": \"white\", \"minorgridcolor\": \"white\", \"startlinecolor\": \"#2a3f5f\"}, \"baxis\": {\"endlinecolor\": \"#2a3f5f\", \"gridcolor\": \"white\", \"linecolor\": \"white\", \"minorgridcolor\": \"white\", \"startlinecolor\": \"#2a3f5f\"}, \"type\": \"carpet\"}], \"choropleth\": [{\"colorbar\": {\"outlinewidth\": 0, \"ticks\": \"\"}, \"type\": \"choropleth\"}], \"contour\": [{\"colorbar\": {\"outlinewidth\": 0, \"ticks\": \"\"}, \"colorscale\": [[0.0, \"#0d0887\"], [0.1111111111111111, \"#46039f\"], [0.2222222222222222, \"#7201a8\"], [0.3333333333333333, \"#9c179e\"], [0.4444444444444444, \"#bd3786\"], [0.5555555555555556, \"#d8576b\"], [0.6666666666666666, \"#ed7953\"], [0.7777777777777778, \"#fb9f3a\"], [0.8888888888888888, \"#fdca26\"], [1.0, \"#f0f921\"]], \"type\": \"contour\"}], \"contourcarpet\": [{\"colorbar\": {\"outlinewidth\": 0, \"ticks\": \"\"}, \"type\": \"contourcarpet\"}], \"heatmap\": [{\"colorbar\": {\"outlinewidth\": 0, \"ticks\": \"\"}, \"colorscale\": [[0.0, \"#0d0887\"], [0.1111111111111111, \"#46039f\"], [0.2222222222222222, \"#7201a8\"], [0.3333333333333333, \"#9c179e\"], [0.4444444444444444, \"#bd3786\"], [0.5555555555555556, \"#d8576b\"], [0.6666666666666666, \"#ed7953\"], [0.7777777777777778, \"#fb9f3a\"], [0.8888888888888888, \"#fdca26\"], [1.0, \"#f0f921\"]], \"type\": \"heatmap\"}], \"heatmapgl\": [{\"colorbar\": {\"outlinewidth\": 0, \"ticks\": \"\"}, \"colorscale\": [[0.0, \"#0d0887\"], [0.1111111111111111, \"#46039f\"], [0.2222222222222222, \"#7201a8\"], [0.3333333333333333, \"#9c179e\"], [0.4444444444444444, \"#bd3786\"], [0.5555555555555556, \"#d8576b\"], [0.6666666666666666, \"#ed7953\"], [0.7777777777777778, \"#fb9f3a\"], [0.8888888888888888, \"#fdca26\"], [1.0, \"#f0f921\"]], \"type\": \"heatmapgl\"}], \"histogram\": [{\"marker\": {\"colorbar\": {\"outlinewidth\": 0, \"ticks\": \"\"}}, \"type\": \"histogram\"}], \"histogram2d\": [{\"colorbar\": {\"outlinewidth\": 0, \"ticks\": \"\"}, \"colorscale\": [[0.0, \"#0d0887\"], [0.1111111111111111, \"#46039f\"], [0.2222222222222222, \"#7201a8\"], [0.3333333333333333, \"#9c179e\"], [0.4444444444444444, \"#bd3786\"], [0.5555555555555556, \"#d8576b\"], [0.6666666666666666, \"#ed7953\"], [0.7777777777777778, \"#fb9f3a\"], [0.8888888888888888, \"#fdca26\"], [1.0, \"#f0f921\"]], \"type\": \"histogram2d\"}], \"histogram2dcontour\": [{\"colorbar\": {\"outlinewidth\": 0, \"ticks\": \"\"}, \"colorscale\": [[0.0, \"#0d0887\"], [0.1111111111111111, \"#46039f\"], [0.2222222222222222, \"#7201a8\"], [0.3333333333333333, \"#9c179e\"], [0.4444444444444444, \"#bd3786\"], [0.5555555555555556, \"#d8576b\"], [0.6666666666666666, \"#ed7953\"], [0.7777777777777778, \"#fb9f3a\"], [0.8888888888888888, \"#fdca26\"], [1.0, \"#f0f921\"]], \"type\": \"histogram2dcontour\"}], \"mesh3d\": [{\"colorbar\": {\"outlinewidth\": 0, \"ticks\": \"\"}, \"type\": \"mesh3d\"}], \"parcoords\": [{\"line\": {\"colorbar\": {\"outlinewidth\": 0, \"ticks\": \"\"}}, \"type\": \"parcoords\"}], \"pie\": [{\"automargin\": true, \"type\": \"pie\"}], \"scatter\": [{\"marker\": {\"colorbar\": {\"outlinewidth\": 0, \"ticks\": \"\"}}, \"type\": \"scatter\"}], \"scatter3d\": [{\"line\": {\"colorbar\": {\"outlinewidth\": 0, \"ticks\": \"\"}}, \"marker\": {\"colorbar\": {\"outlinewidth\": 0, \"ticks\": \"\"}}, \"type\": \"scatter3d\"}], \"scattercarpet\": [{\"marker\": {\"colorbar\": {\"outlinewidth\": 0, \"ticks\": \"\"}}, \"type\": \"scattercarpet\"}], \"scattergeo\": [{\"marker\": {\"colorbar\": {\"outlinewidth\": 0, \"ticks\": \"\"}}, \"type\": \"scattergeo\"}], \"scattergl\": [{\"marker\": {\"colorbar\": {\"outlinewidth\": 0, \"ticks\": \"\"}}, \"type\": \"scattergl\"}], \"scattermapbox\": [{\"marker\": {\"colorbar\": {\"outlinewidth\": 0, \"ticks\": \"\"}}, \"type\": \"scattermapbox\"}], \"scatterpolar\": [{\"marker\": {\"colorbar\": {\"outlinewidth\": 0, \"ticks\": \"\"}}, \"type\": \"scatterpolar\"}], \"scatterpolargl\": [{\"marker\": {\"colorbar\": {\"outlinewidth\": 0, \"ticks\": \"\"}}, \"type\": \"scatterpolargl\"}], \"scatterternary\": [{\"marker\": {\"colorbar\": {\"outlinewidth\": 0, \"ticks\": \"\"}}, \"type\": \"scatterternary\"}], \"surface\": [{\"colorbar\": {\"outlinewidth\": 0, \"ticks\": \"\"}, \"colorscale\": [[0.0, \"#0d0887\"], [0.1111111111111111, \"#46039f\"], [0.2222222222222222, \"#7201a8\"], [0.3333333333333333, \"#9c179e\"], [0.4444444444444444, \"#bd3786\"], [0.5555555555555556, \"#d8576b\"], [0.6666666666666666, \"#ed7953\"], [0.7777777777777778, \"#fb9f3a\"], [0.8888888888888888, \"#fdca26\"], [1.0, \"#f0f921\"]], \"type\": \"surface\"}], \"table\": [{\"cells\": {\"fill\": {\"color\": \"#EBF0F8\"}, \"line\": {\"color\": \"white\"}}, \"header\": {\"fill\": {\"color\": \"#C8D4E3\"}, \"line\": {\"color\": \"white\"}}, \"type\": \"table\"}]}, \"layout\": {\"annotationdefaults\": {\"arrowcolor\": \"#2a3f5f\", \"arrowhead\": 0, \"arrowwidth\": 1}, \"coloraxis\": {\"colorbar\": {\"outlinewidth\": 0, \"ticks\": \"\"}}, \"colorscale\": {\"diverging\": [[0, \"#8e0152\"], [0.1, \"#c51b7d\"], [0.2, \"#de77ae\"], [0.3, \"#f1b6da\"], [0.4, \"#fde0ef\"], [0.5, \"#f7f7f7\"], [0.6, \"#e6f5d0\"], [0.7, \"#b8e186\"], [0.8, \"#7fbc41\"], [0.9, \"#4d9221\"], [1, \"#276419\"]], \"sequential\": [[0.0, \"#0d0887\"], [0.1111111111111111, \"#46039f\"], [0.2222222222222222, \"#7201a8\"], [0.3333333333333333, \"#9c179e\"], [0.4444444444444444, \"#bd3786\"], [0.5555555555555556, \"#d8576b\"], [0.6666666666666666, \"#ed7953\"], [0.7777777777777778, \"#fb9f3a\"], [0.8888888888888888, \"#fdca26\"], [1.0, \"#f0f921\"]], \"sequentialminus\": [[0.0, \"#0d0887\"], [0.1111111111111111, \"#46039f\"], [0.2222222222222222, \"#7201a8\"], [0.3333333333333333, \"#9c179e\"], [0.4444444444444444, \"#bd3786\"], [0.5555555555555556, \"#d8576b\"], [0.6666666666666666, \"#ed7953\"], [0.7777777777777778, \"#fb9f3a\"], [0.8888888888888888, \"#fdca26\"], [1.0, \"#f0f921\"]]}, \"colorway\": [\"#636efa\", \"#EF553B\", \"#00cc96\", \"#ab63fa\", \"#FFA15A\", \"#19d3f3\", \"#FF6692\", \"#B6E880\", \"#FF97FF\", \"#FECB52\"], \"font\": {\"color\": \"#2a3f5f\"}, \"geo\": {\"bgcolor\": \"white\", \"lakecolor\": \"white\", \"landcolor\": \"#E5ECF6\", \"showlakes\": true, \"showland\": true, \"subunitcolor\": \"white\"}, \"hoverlabel\": {\"align\": \"left\"}, \"hovermode\": \"closest\", \"mapbox\": {\"style\": \"light\"}, \"paper_bgcolor\": \"white\", \"plot_bgcolor\": \"#E5ECF6\", \"polar\": {\"angularaxis\": {\"gridcolor\": \"white\", \"linecolor\": \"white\", \"ticks\": \"\"}, \"bgcolor\": \"#E5ECF6\", \"radialaxis\": {\"gridcolor\": \"white\", \"linecolor\": \"white\", \"ticks\": \"\"}}, \"scene\": {\"xaxis\": {\"backgroundcolor\": \"#E5ECF6\", \"gridcolor\": \"white\", \"gridwidth\": 2, \"linecolor\": \"white\", \"showbackground\": true, \"ticks\": \"\", \"zerolinecolor\": \"white\"}, \"yaxis\": {\"backgroundcolor\": \"#E5ECF6\", \"gridcolor\": \"white\", \"gridwidth\": 2, \"linecolor\": \"white\", \"showbackground\": true, \"ticks\": \"\", \"zerolinecolor\": \"white\"}, \"zaxis\": {\"backgroundcolor\": \"#E5ECF6\", \"gridcolor\": \"white\", \"gridwidth\": 2, \"linecolor\": \"white\", \"showbackground\": true, \"ticks\": \"\", \"zerolinecolor\": \"white\"}}, \"shapedefaults\": {\"line\": {\"color\": \"#2a3f5f\"}}, \"ternary\": {\"aaxis\": {\"gridcolor\": \"white\", \"linecolor\": \"white\", \"ticks\": \"\"}, \"baxis\": {\"gridcolor\": \"white\", \"linecolor\": \"white\", \"ticks\": \"\"}, \"bgcolor\": \"#E5ECF6\", \"caxis\": {\"gridcolor\": \"white\", \"linecolor\": \"white\", \"ticks\": \"\"}}, \"title\": {\"x\": 0.05}, \"xaxis\": {\"automargin\": true, \"gridcolor\": \"white\", \"linecolor\": \"white\", \"ticks\": \"\", \"title\": {\"standoff\": 15}, \"zerolinecolor\": \"white\", \"zerolinewidth\": 2}, \"yaxis\": {\"automargin\": true, \"gridcolor\": \"white\", \"linecolor\": \"white\", \"ticks\": \"\", \"title\": {\"standoff\": 15}, \"zerolinecolor\": \"white\", \"zerolinewidth\": 2}}}, \"title\": {\"text\": \"2-class CNN Model Performance (Gray Scale) \"}, \"width\": 500, \"xaxis\": {\"title\": {\"text\": \"Number of Epoches\"}}, \"yaxis\": {\"title\": {\"text\": \"Accuracy\"}}},\n",
              "                        {\"responsive\": true}\n",
              "                    ).then(function(){\n",
              "                            \n",
              "var gd = document.getElementById('efa48b21-9a1a-4e92-9d6c-f3cfe889ba0b');\n",
              "var x = new MutationObserver(function (mutations, observer) {{\n",
              "        var display = window.getComputedStyle(gd).display;\n",
              "        if (!display || display === 'none') {{\n",
              "            console.log([gd, 'removed!']);\n",
              "            Plotly.purge(gd);\n",
              "            observer.disconnect();\n",
              "        }}\n",
              "}});\n",
              "\n",
              "// Listen for the removal of the full notebook cells\n",
              "var notebookContainer = gd.closest('#notebook-container');\n",
              "if (notebookContainer) {{\n",
              "    x.observe(notebookContainer, {childList: true});\n",
              "}}\n",
              "\n",
              "// Listen for the clearing of the current output cell\n",
              "var outputEl = gd.closest('.output');\n",
              "if (outputEl) {{\n",
              "    x.observe(outputEl, {childList: true});\n",
              "}}\n",
              "\n",
              "                        })\n",
              "                };\n",
              "                \n",
              "            </script>\n",
              "        </div>\n",
              "</body>\n",
              "</html>"
            ]
          },
          "metadata": {
            "tags": []
          }
        }
      ]
    },
    {
      "cell_type": "code",
      "metadata": {
        "id": "0CsAOErUs6fb"
      },
      "source": [
        ""
      ],
      "execution_count": null,
      "outputs": []
    },
    {
      "cell_type": "code",
      "metadata": {
        "id": "9UbAhlIJs6hq"
      },
      "source": [
        ""
      ],
      "execution_count": null,
      "outputs": []
    },
    {
      "cell_type": "code",
      "metadata": {
        "id": "e0vxk9PIs6jx"
      },
      "source": [
        ""
      ],
      "execution_count": null,
      "outputs": []
    },
    {
      "cell_type": "code",
      "metadata": {
        "id": "mGeE-IHMs6l1"
      },
      "source": [
        ""
      ],
      "execution_count": null,
      "outputs": []
    },
    {
      "cell_type": "code",
      "metadata": {
        "id": "FizCMtODs6oK"
      },
      "source": [
        ""
      ],
      "execution_count": null,
      "outputs": []
    },
    {
      "cell_type": "code",
      "metadata": {
        "id": "P9SqUwhJswZ4"
      },
      "source": [
        ""
      ],
      "execution_count": null,
      "outputs": []
    }
  ]
}