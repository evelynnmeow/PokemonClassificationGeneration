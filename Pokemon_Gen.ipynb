{
  "nbformat": 4,
  "nbformat_minor": 0,
  "metadata": {
    "colab": {
      "name": "Pokemon_Gen.ipynb",
      "provenance": [],
      "collapsed_sections": [],
      "authorship_tag": "ABX9TyNUWUG4ZfoxOIr4xzRICnrl"
    },
    "kernelspec": {
      "name": "python3",
      "display_name": "Python 3"
    }
  },
  "cells": [
    {
      "cell_type": "code",
      "metadata": {
        "id": "VNvSMgcGSxSc"
      },
      "source": [
        "# This notebook classifies the generation of Pokemon based on their images\n",
        "# JM\n",
        "# ANLY 590 Final Project\n",
        "import numpy as np \n",
        "import pandas as pd \n",
        "\n",
        "import tensorflow as tf \n",
        "import re\n",
        "from keras import backend as K \n",
        "from tensorflow.keras.preprocessing.sequence import pad_sequences \n",
        "import tensorflow.keras.layers as L \n",
        "from tensorflow.keras.optimizers import Adam \n",
        "\n",
        "from tensorflow.keras.losses import SparseCategoricalCrossentropy \n",
        "from sklearn.model_selection import train_test_split \n",
        "from tensorflow.keras.preprocessing import image \n",
        "from PIL import Image \n",
        "\n",
        "from keras.models import Sequential \n",
        "from keras.layers import Conv2D, MaxPooling2D \n",
        "from keras.layers import Activation, Dropout, Flatten, Dense, BatchNormalization \n",
        "from google.colab import drive\n"
      ],
      "execution_count": null,
      "outputs": []
    },
    {
      "cell_type": "code",
      "metadata": {
        "colab": {
          "base_uri": "https://localhost:8080/"
        },
        "id": "NP3zEhc2T7Bs",
        "outputId": "baa0c32d-b3db-4440-ddda-c6a8961fd491"
      },
      "source": [
        "drive.mount(\"/content/drive\", force_remount=True)"
      ],
      "execution_count": null,
      "outputs": [
        {
          "output_type": "stream",
          "text": [
            "Mounted at /content/drive\n"
          ],
          "name": "stdout"
        }
      ]
    },
    {
      "cell_type": "code",
      "metadata": {
        "colab": {
          "base_uri": "https://localhost:8080/"
        },
        "id": "NQ1E6acUULGS",
        "outputId": "ac7205a6-5395-4f50-eab0-a3e4659968dd"
      },
      "source": [
        "%cd /content/drive/My Drive/Pokemon/Pokemon/"
      ],
      "execution_count": null,
      "outputs": [
        {
          "output_type": "stream",
          "text": [
            "/content/drive/My Drive/Pokemon/Pokemon\n"
          ],
          "name": "stdout"
        }
      ]
    },
    {
      "cell_type": "code",
      "metadata": {
        "id": "x9Xha3MkUNYP"
      },
      "source": [
        "# read in the data\n",
        "pokemons = pd.read_csv('pokemon-images-and-types/pokemon.csv')\n",
        "numbers = []\n",
        "for i in range(1,pokemons.shape[0]+1):\n",
        "    numbers.append(i)\n",
        "pokemons['pkn'] = numbers\n",
        "IMG_DIR = 'pokemon-images-dataset/pokemon'\n",
        "from os import listdir\n",
        "from os.path import isfile, join\n",
        "onlyfiles = [f for f in listdir(IMG_DIR) if isfile(join(IMG_DIR, f))]"
      ],
      "execution_count": null,
      "outputs": []
    },
    {
      "cell_type": "code",
      "metadata": {
        "colab": {
          "base_uri": "https://localhost:8080/",
          "height": 204
        },
        "id": "gSsJr65nVPUb",
        "outputId": "01d41a90-ea67-43e6-8423-968017aa0826"
      },
      "source": [
        "# Add generations for each pokemon\n",
        "gen = [] \n",
        "length = len(pokemons) \n",
        "\n",
        "for i in range(0, length):\n",
        "    if i<=150:\n",
        "        gen.append(1)\n",
        "    elif i<=250:\n",
        "        gen.append(2)\n",
        "    elif i<=385:\n",
        "        gen.append(3)\n",
        "    elif i<=492:\n",
        "        gen.append(4)\n",
        "    elif i<=648:\n",
        "        gen.append(5)\n",
        "    elif i<=720:\n",
        "        gen.append(6)\n",
        "    else:\n",
        "        gen.append(7)\n",
        "        \n",
        "\n",
        "        \n",
        "pokemons[\"Gen\"] = gen \n",
        "\n",
        "pokemons[\"Gen\"] = pokemons[\"Gen\"].astype(str) \n",
        "\n",
        "\n",
        "\n",
        "pokemons.head() "
      ],
      "execution_count": null,
      "outputs": [
        {
          "output_type": "execute_result",
          "data": {
            "text/html": [
              "<div>\n",
              "<style scoped>\n",
              "    .dataframe tbody tr th:only-of-type {\n",
              "        vertical-align: middle;\n",
              "    }\n",
              "\n",
              "    .dataframe tbody tr th {\n",
              "        vertical-align: top;\n",
              "    }\n",
              "\n",
              "    .dataframe thead th {\n",
              "        text-align: right;\n",
              "    }\n",
              "</style>\n",
              "<table border=\"1\" class=\"dataframe\">\n",
              "  <thead>\n",
              "    <tr style=\"text-align: right;\">\n",
              "      <th></th>\n",
              "      <th>Name</th>\n",
              "      <th>Type1</th>\n",
              "      <th>Type2</th>\n",
              "      <th>pkn</th>\n",
              "      <th>Gen</th>\n",
              "    </tr>\n",
              "  </thead>\n",
              "  <tbody>\n",
              "    <tr>\n",
              "      <th>0</th>\n",
              "      <td>bulbasaur</td>\n",
              "      <td>Grass</td>\n",
              "      <td>Poison</td>\n",
              "      <td>1</td>\n",
              "      <td>1</td>\n",
              "    </tr>\n",
              "    <tr>\n",
              "      <th>1</th>\n",
              "      <td>ivysaur</td>\n",
              "      <td>Grass</td>\n",
              "      <td>Poison</td>\n",
              "      <td>2</td>\n",
              "      <td>1</td>\n",
              "    </tr>\n",
              "    <tr>\n",
              "      <th>2</th>\n",
              "      <td>venusaur</td>\n",
              "      <td>Grass</td>\n",
              "      <td>Poison</td>\n",
              "      <td>3</td>\n",
              "      <td>1</td>\n",
              "    </tr>\n",
              "    <tr>\n",
              "      <th>3</th>\n",
              "      <td>charmander</td>\n",
              "      <td>Fire</td>\n",
              "      <td>NaN</td>\n",
              "      <td>4</td>\n",
              "      <td>1</td>\n",
              "    </tr>\n",
              "    <tr>\n",
              "      <th>4</th>\n",
              "      <td>charmeleon</td>\n",
              "      <td>Fire</td>\n",
              "      <td>NaN</td>\n",
              "      <td>5</td>\n",
              "      <td>1</td>\n",
              "    </tr>\n",
              "  </tbody>\n",
              "</table>\n",
              "</div>"
            ],
            "text/plain": [
              "         Name  Type1   Type2  pkn Gen\n",
              "0   bulbasaur  Grass  Poison    1   1\n",
              "1     ivysaur  Grass  Poison    2   1\n",
              "2    venusaur  Grass  Poison    3   1\n",
              "3  charmander   Fire     NaN    4   1\n",
              "4  charmeleon   Fire     NaN    5   1"
            ]
          },
          "metadata": {
            "tags": []
          },
          "execution_count": 9
        }
      ]
    },
    {
      "cell_type": "code",
      "metadata": {
        "id": "XyZojAHwVmXN"
      },
      "source": [
        "numbers = []\n",
        "for i in range(1,pokemons.shape[0]+1):\n",
        "    numbers.append(i)\n",
        "pokemons['pkn'] = numbers\n",
        "IMG_DIR = 'pokemon-images-dataset/pokemon'\n",
        "from os import listdir\n",
        "from os.path import isfile, join\n",
        "onlyfiles = [f for f in listdir(IMG_DIR) if isfile(join(IMG_DIR, f))]"
      ],
      "execution_count": null,
      "outputs": []
    },
    {
      "cell_type": "code",
      "metadata": {
        "colab": {
          "base_uri": "https://localhost:8080/",
          "height": 204
        },
        "id": "4PBqD3XpV8rc",
        "outputId": "74eadb90-4766-4376-a13d-97b36e1b0de9"
      },
      "source": [
        "import re\n",
        "dataframe_img = pd.DataFrame([])\n",
        "images = []\n",
        "pokemon_number = []\n",
        "for img in onlyfiles:\n",
        "    if not re.search('-', img):\n",
        "        pkn = img.split('.')\n",
        "        n = re.sub(\"[^0-9]\", \"\", pkn[0])\n",
        "        path = IMG_DIR +'/' +str(img)\n",
        "        images.append(path)\n",
        "        pokemon_number.append(n)\n",
        "dataframe_img['images'] = images\n",
        "dataframe_img['pkn'] = pokemon_number\n",
        "dataframe_img['pkn'] = dataframe_img['pkn'].astype(int)\n",
        "dataframe_img['pkn'] = dataframe_img['pkn'].astype(int)\n",
        "result = pokemons.merge(dataframe_img, left_on='pkn', right_on='pkn')\n",
        "result.head()"
      ],
      "execution_count": null,
      "outputs": [
        {
          "output_type": "execute_result",
          "data": {
            "text/html": [
              "<div>\n",
              "<style scoped>\n",
              "    .dataframe tbody tr th:only-of-type {\n",
              "        vertical-align: middle;\n",
              "    }\n",
              "\n",
              "    .dataframe tbody tr th {\n",
              "        vertical-align: top;\n",
              "    }\n",
              "\n",
              "    .dataframe thead th {\n",
              "        text-align: right;\n",
              "    }\n",
              "</style>\n",
              "<table border=\"1\" class=\"dataframe\">\n",
              "  <thead>\n",
              "    <tr style=\"text-align: right;\">\n",
              "      <th></th>\n",
              "      <th>Name</th>\n",
              "      <th>Type1</th>\n",
              "      <th>Type2</th>\n",
              "      <th>pkn</th>\n",
              "      <th>Gen</th>\n",
              "      <th>images</th>\n",
              "    </tr>\n",
              "  </thead>\n",
              "  <tbody>\n",
              "    <tr>\n",
              "      <th>0</th>\n",
              "      <td>bulbasaur</td>\n",
              "      <td>Grass</td>\n",
              "      <td>Poison</td>\n",
              "      <td>1</td>\n",
              "      <td>1</td>\n",
              "      <td>pokemon-images-dataset/pokemon/1.png</td>\n",
              "    </tr>\n",
              "    <tr>\n",
              "      <th>1</th>\n",
              "      <td>ivysaur</td>\n",
              "      <td>Grass</td>\n",
              "      <td>Poison</td>\n",
              "      <td>2</td>\n",
              "      <td>1</td>\n",
              "      <td>pokemon-images-dataset/pokemon/2.png</td>\n",
              "    </tr>\n",
              "    <tr>\n",
              "      <th>2</th>\n",
              "      <td>venusaur</td>\n",
              "      <td>Grass</td>\n",
              "      <td>Poison</td>\n",
              "      <td>3</td>\n",
              "      <td>1</td>\n",
              "      <td>pokemon-images-dataset/pokemon/3.png</td>\n",
              "    </tr>\n",
              "    <tr>\n",
              "      <th>3</th>\n",
              "      <td>charmander</td>\n",
              "      <td>Fire</td>\n",
              "      <td>NaN</td>\n",
              "      <td>4</td>\n",
              "      <td>1</td>\n",
              "      <td>pokemon-images-dataset/pokemon/4.png</td>\n",
              "    </tr>\n",
              "    <tr>\n",
              "      <th>4</th>\n",
              "      <td>charmeleon</td>\n",
              "      <td>Fire</td>\n",
              "      <td>NaN</td>\n",
              "      <td>5</td>\n",
              "      <td>1</td>\n",
              "      <td>pokemon-images-dataset/pokemon/5.png</td>\n",
              "    </tr>\n",
              "  </tbody>\n",
              "</table>\n",
              "</div>"
            ],
            "text/plain": [
              "         Name  Type1   Type2  pkn Gen                                images\n",
              "0   bulbasaur  Grass  Poison    1   1  pokemon-images-dataset/pokemon/1.png\n",
              "1     ivysaur  Grass  Poison    2   1  pokemon-images-dataset/pokemon/2.png\n",
              "2    venusaur  Grass  Poison    3   1  pokemon-images-dataset/pokemon/3.png\n",
              "3  charmander   Fire     NaN    4   1  pokemon-images-dataset/pokemon/4.png\n",
              "4  charmeleon   Fire     NaN    5   1  pokemon-images-dataset/pokemon/5.png"
            ]
          },
          "metadata": {
            "tags": []
          },
          "execution_count": 11
        }
      ]
    },
    {
      "cell_type": "code",
      "metadata": {
        "id": "T7y6dUmDWFj_"
      },
      "source": [
        "# split training and test set\n",
        "imageTrain, imageTest, genTrain, genTest = train_test_split(result[\"images\"], result[\"Gen\"], test_size = 0.3, random_state = 919)\n",
        "\n",
        "imageTrain, imageVal, genTrain, genVal = train_test_split(imageTrain, genTrain, test_size = 0.4, random_state = 919)"
      ],
      "execution_count": null,
      "outputs": []
    },
    {
      "cell_type": "code",
      "metadata": {
        "colab": {
          "base_uri": "https://localhost:8080/"
        },
        "id": "i6axYzCFWiM2",
        "outputId": "2cabde74-4237-4d03-91ba-03bdc70d6570"
      },
      "source": [
        "datagen = image.ImageDataGenerator()\n",
        "trainDf = pd.DataFrame(imageTrain) \n",
        "trainDf[\"Gen\"] = genTrain \n",
        "train = datagen.flow_from_dataframe(trainDf, x_col = \"images\", y_col = \"Gen\") "
      ],
      "execution_count": null,
      "outputs": [
        {
          "output_type": "stream",
          "text": [
            "Found 297 validated image filenames belonging to 6 classes.\n"
          ],
          "name": "stdout"
        }
      ]
    },
    {
      "cell_type": "code",
      "metadata": {
        "colab": {
          "base_uri": "https://localhost:8080/"
        },
        "id": "wPmFvAyvYnT6",
        "outputId": "b559aed6-f708-4c20-d5df-eb2ec1d17fb8"
      },
      "source": [
        "testDf = pd.DataFrame(imageTest) \n",
        "testDf[\"Gen\"] = genTest \n",
        "test = datagen.flow_from_dataframe(testDf, x_col = \"images\", y_col = \"Gen\") "
      ],
      "execution_count": null,
      "outputs": [
        {
          "output_type": "stream",
          "text": [
            "Found 213 validated image filenames belonging to 6 classes.\n"
          ],
          "name": "stdout"
        }
      ]
    },
    {
      "cell_type": "code",
      "metadata": {
        "colab": {
          "base_uri": "https://localhost:8080/"
        },
        "id": "-8c6fJBeYxic",
        "outputId": "b53d3c46-4f5c-4d8e-f5ac-bc59d21ea1df"
      },
      "source": [
        "valDf = pd.DataFrame(imageVal) \n",
        "valDf[\"Gen\"] = genVal \n",
        "val = datagen.flow_from_dataframe(valDf, x_col = \"images\", y_col = \"Gen\") "
      ],
      "execution_count": null,
      "outputs": [
        {
          "output_type": "stream",
          "text": [
            "Found 198 validated image filenames belonging to 6 classes.\n"
          ],
          "name": "stdout"
        }
      ]
    },
    {
      "cell_type": "code",
      "metadata": {
        "colab": {
          "base_uri": "https://localhost:8080/"
        },
        "id": "OPty8lTEY7lz",
        "outputId": "7eb52717-d7df-467d-d529-9976c17e8cb4"
      },
      "source": [
        "\n",
        " \n",
        "WIDTH = 256 \n",
        "HEIGHT = 256\n",
        "CHANNELS = 3 \n",
        "\n",
        "model = Sequential() \n",
        "model.add(L.Lambda(lambda x: x, input_shape = (WIDTH, HEIGHT, CHANNELS))) \n",
        "model.add(Conv2D(32, (2, 2))) \n",
        "model.add(BatchNormalization()) \n",
        "model.add(Activation('relu'))\n",
        "model.add(MaxPooling2D(pool_size=(2, 2))) \n",
        "\n",
        "model.add(Conv2D(32, (2, 2))) \n",
        "model.add(Activation('relu')) \n",
        "model.add(MaxPooling2D(pool_size=(2, 2))) \n",
        "\n",
        "model.add(Conv2D(64, (2, 2))) \n",
        "model.add(Activation('relu')) \n",
        "model.add(MaxPooling2D(pool_size=(2, 2)))\n",
        "\n",
        "model.add(Conv2D(128, (2, 2))) \n",
        "model.add(Activation('relu')) \n",
        "model.add(MaxPooling2D(pool_size=(2, 2))) \n",
        "\n",
        "model.add(Conv2D(256, (2, 2))) \n",
        "model.add(Activation('relu')) \n",
        "model.add(MaxPooling2D(pool_size=(2, 2))) \n",
        "model.add(Flatten()) \n",
        "model.add(Dense(1024, activation='relu'))\n",
        "model.add(BatchNormalization())\n",
        "model.add(Dropout(0.25))\n",
        "model.add(Dense(512, activation='relu'))\n",
        "model.add(BatchNormalization())\n",
        "model.add(Dropout(0.25))\n",
        "model.add(Dense(128, activation='relu'))\n",
        "model.add(BatchNormalization())\n",
        "model.add(Dropout(0.25))\n",
        "model.add(Dense(64, activation='relu'))\n",
        "model.add(BatchNormalization())\n",
        "model.add(Dropout(0.25))\n",
        "model.add(Dense(1, activation='sigmoid')) \n",
        "\n",
        "model.compile(loss = 'binary_crossentropy', \n",
        "              optimizer='Adam', metrics=['acc'])\n",
        "\n",
        "history = model.fit(train, epochs = 50, validation_data=val) "
      ],
      "execution_count": null,
      "outputs": [
        {
          "output_type": "stream",
          "text": [
            "WARNING:tensorflow:From <ipython-input-16-9333f78f7129>:47: Model.fit_generator (from tensorflow.python.keras.engine.training) is deprecated and will be removed in a future version.\n",
            "Instructions for updating:\n",
            "Please use Model.fit, which supports generators.\n",
            "Epoch 1/50\n",
            "10/10 [==============================] - 27s 3s/step - loss: 0.8904 - acc: 0.5707 - val_loss: 18.6599 - val_acc: 0.1667\n",
            "Epoch 2/50\n",
            "10/10 [==============================] - 28s 3s/step - loss: 0.7880 - acc: 0.5258 - val_loss: 0.7578 - val_acc: 0.8232\n",
            "Epoch 3/50\n",
            "10/10 [==============================] - 26s 3s/step - loss: 0.7210 - acc: 0.5864 - val_loss: 0.6352 - val_acc: 0.7593\n",
            "Epoch 4/50\n",
            "10/10 [==============================] - 26s 3s/step - loss: 0.7279 - acc: 0.5640 - val_loss: 0.6532 - val_acc: 0.8165\n",
            "Epoch 5/50\n",
            "10/10 [==============================] - 26s 3s/step - loss: 0.6761 - acc: 0.6044 - val_loss: 0.9936 - val_acc: 0.4226\n",
            "Epoch 6/50\n",
            "10/10 [==============================] - 26s 3s/step - loss: 0.6263 - acc: 0.6627 - val_loss: 3.1322 - val_acc: 0.1667\n",
            "Epoch 7/50\n",
            "10/10 [==============================] - 26s 3s/step - loss: 0.6167 - acc: 0.6740 - val_loss: 2.5832 - val_acc: 0.1700\n",
            "Epoch 8/50\n",
            "10/10 [==============================] - 26s 3s/step - loss: 0.6076 - acc: 0.6964 - val_loss: 2.2079 - val_acc: 0.1667\n",
            "Epoch 9/50\n",
            "10/10 [==============================] - 28s 3s/step - loss: 0.5970 - acc: 0.7054 - val_loss: 0.4974 - val_acc: 0.8300\n",
            "Epoch 10/50\n",
            "10/10 [==============================] - 26s 3s/step - loss: 0.5687 - acc: 0.7233 - val_loss: 0.6944 - val_acc: 0.8333\n",
            "Epoch 11/50\n",
            "10/10 [==============================] - 26s 3s/step - loss: 0.5700 - acc: 0.7256 - val_loss: 0.5818 - val_acc: 0.8333\n",
            "Epoch 12/50\n",
            "10/10 [==============================] - 27s 3s/step - loss: 0.5456 - acc: 0.7727 - val_loss: 0.7102 - val_acc: 0.8333\n",
            "Epoch 13/50\n",
            "10/10 [==============================] - 26s 3s/step - loss: 0.5343 - acc: 0.7817 - val_loss: 0.6365 - val_acc: 0.8333\n",
            "Epoch 14/50\n",
            "10/10 [==============================] - 26s 3s/step - loss: 0.5463 - acc: 0.7682 - val_loss: 0.7552 - val_acc: 0.8333\n",
            "Epoch 15/50\n",
            "10/10 [==============================] - 26s 3s/step - loss: 0.5232 - acc: 0.7884 - val_loss: 0.6781 - val_acc: 0.8333\n",
            "Epoch 16/50\n",
            "10/10 [==============================] - 26s 3s/step - loss: 0.5202 - acc: 0.7952 - val_loss: 0.7176 - val_acc: 0.8333\n",
            "Epoch 17/50\n",
            "10/10 [==============================] - 26s 3s/step - loss: 0.5187 - acc: 0.8019 - val_loss: 0.6058 - val_acc: 0.8333\n",
            "Epoch 18/50\n",
            "10/10 [==============================] - 26s 3s/step - loss: 0.5197 - acc: 0.7907 - val_loss: 0.4945 - val_acc: 0.8333\n",
            "Epoch 19/50\n",
            "10/10 [==============================] - 26s 3s/step - loss: 0.5064 - acc: 0.8109 - val_loss: 0.4649 - val_acc: 0.8333\n",
            "Epoch 20/50\n",
            "10/10 [==============================] - 26s 3s/step - loss: 0.5107 - acc: 0.7907 - val_loss: 0.4586 - val_acc: 0.8333\n",
            "Epoch 21/50\n",
            "10/10 [==============================] - 28s 3s/step - loss: 0.4964 - acc: 0.8131 - val_loss: 0.4705 - val_acc: 0.8333\n",
            "Epoch 22/50\n",
            "10/10 [==============================] - 26s 3s/step - loss: 0.5006 - acc: 0.8154 - val_loss: 0.4713 - val_acc: 0.8333\n",
            "Epoch 23/50\n",
            "10/10 [==============================] - 27s 3s/step - loss: 0.4943 - acc: 0.8154 - val_loss: 0.4623 - val_acc: 0.8333\n",
            "Epoch 24/50\n",
            "10/10 [==============================] - 26s 3s/step - loss: 0.4928 - acc: 0.8244 - val_loss: 0.4562 - val_acc: 0.8333\n",
            "Epoch 25/50\n",
            "10/10 [==============================] - 26s 3s/step - loss: 0.4880 - acc: 0.8244 - val_loss: 0.4646 - val_acc: 0.8333\n",
            "Epoch 26/50\n",
            "10/10 [==============================] - 26s 3s/step - loss: 0.4897 - acc: 0.8176 - val_loss: 0.4572 - val_acc: 0.8333\n",
            "Epoch 27/50\n",
            "10/10 [==============================] - 26s 3s/step - loss: 0.4909 - acc: 0.8221 - val_loss: 0.4537 - val_acc: 0.8333\n",
            "Epoch 28/50\n",
            "10/10 [==============================] - 26s 3s/step - loss: 0.4806 - acc: 0.8288 - val_loss: 0.4533 - val_acc: 0.8333\n",
            "Epoch 29/50\n",
            "10/10 [==============================] - 26s 3s/step - loss: 0.4859 - acc: 0.8221 - val_loss: 0.4556 - val_acc: 0.8333\n",
            "Epoch 30/50\n",
            "10/10 [==============================] - 27s 3s/step - loss: 0.4843 - acc: 0.8221 - val_loss: 0.4525 - val_acc: 0.8333\n",
            "Epoch 31/50\n",
            "10/10 [==============================] - 26s 3s/step - loss: 0.4873 - acc: 0.8154 - val_loss: 0.4543 - val_acc: 0.8333\n",
            "Epoch 32/50\n",
            "10/10 [==============================] - 27s 3s/step - loss: 0.4857 - acc: 0.8221 - val_loss: 0.4554 - val_acc: 0.8333\n",
            "Epoch 33/50\n",
            "10/10 [==============================] - 26s 3s/step - loss: 0.4818 - acc: 0.8266 - val_loss: 0.4573 - val_acc: 0.8333\n",
            "Epoch 34/50\n",
            "10/10 [==============================] - 27s 3s/step - loss: 0.4796 - acc: 0.8221 - val_loss: 0.4531 - val_acc: 0.8333\n",
            "Epoch 35/50\n",
            "10/10 [==============================] - 26s 3s/step - loss: 0.4782 - acc: 0.8311 - val_loss: 0.4522 - val_acc: 0.8333\n",
            "Epoch 36/50\n",
            "10/10 [==============================] - 26s 3s/step - loss: 0.4753 - acc: 0.8311 - val_loss: 0.4546 - val_acc: 0.8333\n",
            "Epoch 37/50\n",
            "10/10 [==============================] - 26s 3s/step - loss: 0.4777 - acc: 0.8311 - val_loss: 0.4560 - val_acc: 0.8333\n",
            "Epoch 38/50\n",
            "10/10 [==============================] - 26s 3s/step - loss: 0.4771 - acc: 0.8311 - val_loss: 0.4530 - val_acc: 0.8333\n",
            "Epoch 39/50\n",
            "10/10 [==============================] - 28s 3s/step - loss: 0.4839 - acc: 0.8266 - val_loss: 0.4518 - val_acc: 0.8333\n",
            "Epoch 40/50\n",
            "10/10 [==============================] - 26s 3s/step - loss: 0.4808 - acc: 0.8221 - val_loss: 0.4516 - val_acc: 0.8333\n",
            "Epoch 41/50\n",
            "10/10 [==============================] - 26s 3s/step - loss: 0.4746 - acc: 0.8333 - val_loss: 0.4522 - val_acc: 0.8333\n",
            "Epoch 42/50\n",
            "10/10 [==============================] - 26s 3s/step - loss: 0.4767 - acc: 0.8266 - val_loss: 0.4526 - val_acc: 0.8333\n",
            "Epoch 43/50\n",
            "10/10 [==============================] - 26s 3s/step - loss: 0.4787 - acc: 0.8266 - val_loss: 0.4518 - val_acc: 0.8333\n",
            "Epoch 44/50\n",
            "10/10 [==============================] - 26s 3s/step - loss: 0.4774 - acc: 0.8244 - val_loss: 0.4519 - val_acc: 0.8333\n",
            "Epoch 45/50\n",
            "10/10 [==============================] - 27s 3s/step - loss: 0.4740 - acc: 0.8266 - val_loss: 0.4518 - val_acc: 0.8333\n",
            "Epoch 46/50\n",
            "10/10 [==============================] - 26s 3s/step - loss: 0.4708 - acc: 0.8333 - val_loss: 0.4546 - val_acc: 0.8333\n",
            "Epoch 47/50\n",
            "10/10 [==============================] - 27s 3s/step - loss: 0.4735 - acc: 0.8333 - val_loss: 0.4524 - val_acc: 0.8333\n",
            "Epoch 48/50\n",
            "10/10 [==============================] - 27s 3s/step - loss: 0.4711 - acc: 0.8288 - val_loss: 0.4530 - val_acc: 0.8333\n",
            "Epoch 49/50\n",
            "10/10 [==============================] - 27s 3s/step - loss: 0.4701 - acc: 0.8311 - val_loss: 0.4531 - val_acc: 0.8333\n",
            "Epoch 50/50\n",
            "10/10 [==============================] - 27s 3s/step - loss: 0.4705 - acc: 0.8333 - val_loss: 0.4516 - val_acc: 0.8333\n"
          ],
          "name": "stdout"
        }
      ]
    },
    {
      "cell_type": "code",
      "metadata": {
        "id": "u84pVue4aJkC",
        "colab": {
          "base_uri": "https://localhost:8080/"
        },
        "outputId": "5b1a6a52-7729-4fc8-84a6-f5df05ea3b8b"
      },
      "source": [
        "predict = model.predict(test)"
      ],
      "execution_count": null,
      "outputs": [
        {
          "output_type": "stream",
          "text": [
            "WARNING:tensorflow:From <ipython-input-17-e98b8e9d4e9f>:1: Model.predict_generator (from tensorflow.python.keras.engine.training) is deprecated and will be removed in a future version.\n",
            "Instructions for updating:\n",
            "Please use Model.predict, which supports generators.\n"
          ],
          "name": "stdout"
        }
      ]
    },
    {
      "cell_type": "code",
      "metadata": {
        "colab": {
          "base_uri": "https://localhost:8080/"
        },
        "id": "sXHJjd_fa_j8",
        "outputId": "577a4f36-e779-4b6e-c06c-309fb284979c"
      },
      "source": [
        "loss, accuracy = model.evaluate(test)\n",
        "print(accuracy)"
      ],
      "execution_count": null,
      "outputs": [
        {
          "output_type": "stream",
          "text": [
            "7/7 [==============================] - 4s 606ms/step - loss: 0.4517 - acc: 0.8333\n",
            "0.8333333134651184\n"
          ],
          "name": "stdout"
        }
      ]
    }
  ]
}