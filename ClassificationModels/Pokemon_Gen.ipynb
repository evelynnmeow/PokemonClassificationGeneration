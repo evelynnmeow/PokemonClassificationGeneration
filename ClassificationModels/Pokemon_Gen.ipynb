{
  "nbformat": 4,
  "nbformat_minor": 0,
  "metadata": {
    "colab": {
      "name": "Pokemon_Gen.ipynb",
      "provenance": [],
      "collapsed_sections": []
    },
    "kernelspec": {
      "name": "python3",
      "display_name": "Python 3"
    }
  },
  "cells": [
    {
      "cell_type": "code",
      "metadata": {
        "id": "VNvSMgcGSxSc"
      },
      "source": [
        "import numpy as np \n",
        "import pandas as pd \n",
        "\n",
        "import tensorflow as tf \n",
        "import re\n",
        "from keras import backend as K \n",
        "from tensorflow.keras.preprocessing.sequence import pad_sequences \n",
        "import tensorflow.keras.layers as L \n",
        "from tensorflow.keras.optimizers import Adam \n",
        "\n",
        "from tensorflow.keras.losses import SparseCategoricalCrossentropy \n",
        "from sklearn.model_selection import train_test_split \n",
        "from tensorflow.keras.preprocessing import image \n",
        "from PIL import Image \n",
        "\n",
        "from keras.models import Sequential \n",
        "from keras.layers import Conv2D, MaxPooling2D \n",
        "from keras.layers import Activation, Dropout, Flatten, Dense, BatchNormalization \n",
        "from google.colab import drive\n"
      ],
      "execution_count": null,
      "outputs": []
    },
    {
      "cell_type": "code",
      "metadata": {
        "colab": {
          "base_uri": "https://localhost:8080/"
        },
        "id": "NP3zEhc2T7Bs",
        "outputId": "255c512b-f185-4c79-9e98-c27b357333d1"
      },
      "source": [
        "drive.mount(\"/content/drive\", force_remount=True)"
      ],
      "execution_count": null,
      "outputs": [
        {
          "output_type": "stream",
          "text": [
            "Mounted at /content/drive\n"
          ],
          "name": "stdout"
        }
      ]
    },
    {
      "cell_type": "code",
      "metadata": {
        "colab": {
          "base_uri": "https://localhost:8080/"
        },
        "id": "NQ1E6acUULGS",
        "outputId": "6c461b0b-5ab1-4269-ff0c-2e81369ba5c1"
      },
      "source": [
        "%cd /content/drive/My Drive/Pokemon/Pokemon/"
      ],
      "execution_count": null,
      "outputs": [
        {
          "output_type": "stream",
          "text": [
            "/content/drive/My Drive/Pokemon/Pokemon\n"
          ],
          "name": "stdout"
        }
      ]
    },
    {
      "cell_type": "code",
      "metadata": {
        "id": "x9Xha3MkUNYP"
      },
      "source": [
        "pokemons = pd.read_csv('pokemon-images-and-types/pokemon.csv')\n",
        "numbers = []\n",
        "for i in range(1,pokemons.shape[0]+1):\n",
        "    numbers.append(i)\n",
        "pokemons['pkn'] = numbers\n",
        "IMG_DIR = 'pokemon-images-dataset/pokemon'\n",
        "from os import listdir\n",
        "from os.path import isfile, join\n",
        "onlyfiles = [f for f in listdir(IMG_DIR) if isfile(join(IMG_DIR, f))]"
      ],
      "execution_count": null,
      "outputs": []
    },
    {
      "cell_type": "code",
      "metadata": {
        "colab": {
          "base_uri": "https://localhost:8080/",
          "height": 204
        },
        "id": "d14Bh5jWUYS4",
        "outputId": "45f30422-7b9a-47af-b3d4-5f3dcef860c4"
      },
      "source": [
        "# Since we will need type2, we will fill it with type1 if it is na\n",
        "def dualTypeMaker(type1, type2):\n",
        "    if pd.isnull(type2):\n",
        "        return type1 \n",
        "    return type2 \n",
        "\n",
        "pokemons[\"Type2\"] = pokemons.apply(lambda x: dualTypeMaker(x[\"Type1\"], x[\"Type2\"]), axis = 1) \n",
        "pokemons.head()"
      ],
      "execution_count": null,
      "outputs": [
        {
          "output_type": "execute_result",
          "data": {
            "text/html": [
              "<div>\n",
              "<style scoped>\n",
              "    .dataframe tbody tr th:only-of-type {\n",
              "        vertical-align: middle;\n",
              "    }\n",
              "\n",
              "    .dataframe tbody tr th {\n",
              "        vertical-align: top;\n",
              "    }\n",
              "\n",
              "    .dataframe thead th {\n",
              "        text-align: right;\n",
              "    }\n",
              "</style>\n",
              "<table border=\"1\" class=\"dataframe\">\n",
              "  <thead>\n",
              "    <tr style=\"text-align: right;\">\n",
              "      <th></th>\n",
              "      <th>Name</th>\n",
              "      <th>Type1</th>\n",
              "      <th>Type2</th>\n",
              "      <th>pkn</th>\n",
              "    </tr>\n",
              "  </thead>\n",
              "  <tbody>\n",
              "    <tr>\n",
              "      <th>0</th>\n",
              "      <td>bulbasaur</td>\n",
              "      <td>Grass</td>\n",
              "      <td>Poison</td>\n",
              "      <td>1</td>\n",
              "    </tr>\n",
              "    <tr>\n",
              "      <th>1</th>\n",
              "      <td>ivysaur</td>\n",
              "      <td>Grass</td>\n",
              "      <td>Poison</td>\n",
              "      <td>2</td>\n",
              "    </tr>\n",
              "    <tr>\n",
              "      <th>2</th>\n",
              "      <td>venusaur</td>\n",
              "      <td>Grass</td>\n",
              "      <td>Poison</td>\n",
              "      <td>3</td>\n",
              "    </tr>\n",
              "    <tr>\n",
              "      <th>3</th>\n",
              "      <td>charmander</td>\n",
              "      <td>Fire</td>\n",
              "      <td>Fire</td>\n",
              "      <td>4</td>\n",
              "    </tr>\n",
              "    <tr>\n",
              "      <th>4</th>\n",
              "      <td>charmeleon</td>\n",
              "      <td>Fire</td>\n",
              "      <td>Fire</td>\n",
              "      <td>5</td>\n",
              "    </tr>\n",
              "  </tbody>\n",
              "</table>\n",
              "</div>"
            ],
            "text/plain": [
              "         Name  Type1   Type2  pkn\n",
              "0   bulbasaur  Grass  Poison    1\n",
              "1     ivysaur  Grass  Poison    2\n",
              "2    venusaur  Grass  Poison    3\n",
              "3  charmander   Fire    Fire    4\n",
              "4  charmeleon   Fire    Fire    5"
            ]
          },
          "metadata": {
            "tags": []
          },
          "execution_count": 16
        }
      ]
    },
    {
      "cell_type": "code",
      "metadata": {
        "colab": {
          "base_uri": "https://localhost:8080/",
          "height": 459
        },
        "id": "gSsJr65nVPUb",
        "outputId": "fe1aff19-a941-4c9c-d3dc-0b89e50f4253"
      },
      "source": [
        "# Add generations to the dataframe\n",
        "gen = [] \n",
        "length = len(pokemon) \n",
        "\n",
        "for i in range(0, length):\n",
        "    if i<=150:\n",
        "        gen.append(1)\n",
        "    elif i<=250:\n",
        "        gen.append(2)\n",
        "    elif i<=385:\n",
        "        gen.append(3)\n",
        "    elif i<=492:\n",
        "        gen.append(4)\n",
        "    elif i<=648:\n",
        "        gen.append(5)\n",
        "    elif i<=720:\n",
        "        gen.append(6)\n",
        "    else:\n",
        "        gen.append(7)\n",
        "        \n",
        "\n",
        "boarderPokemon = [\"mew\", \"chikorita\", \"celebi\", \"treecko\", \"deoxys-normal\", \"turtwig\", \"arceus\", \"victini\", \"genesect\", \"chespin\",\n",
        "                 \"volcanion\", \"rowlet\", \"melmetal\"]\n",
        "        \n",
        "pokemons[\"Gen\"] = gen \n",
        "\n",
        "pokemons[\"Gen\"] = pokemons[\"Gen\"].astype(str) \n",
        "\n",
        "print(\"Name, Generation\\n\") \n",
        "\n",
        "\n",
        "for i in range(0, length):\n",
        "    if pokemons[\"Name\"][i] in boarderPokemon: \n",
        "        print(pokemons[\"Name\"][i], \", \", pokemons[\"Gen\"][i]) \n",
        "\n",
        "pokemons.head() "
      ],
      "execution_count": null,
      "outputs": [
        {
          "output_type": "stream",
          "text": [
            "Name, Generation\n",
            "\n",
            "mew ,  1\n",
            "chikorita ,  2\n",
            "celebi ,  2\n",
            "treecko ,  3\n",
            "deoxys-normal ,  3\n",
            "turtwig ,  4\n",
            "arceus ,  4\n",
            "victini ,  5\n",
            "genesect ,  5\n",
            "chespin ,  6\n",
            "volcanion ,  6\n",
            "rowlet ,  7\n",
            "melmetal ,  7\n"
          ],
          "name": "stdout"
        },
        {
          "output_type": "execute_result",
          "data": {
            "text/html": [
              "<div>\n",
              "<style scoped>\n",
              "    .dataframe tbody tr th:only-of-type {\n",
              "        vertical-align: middle;\n",
              "    }\n",
              "\n",
              "    .dataframe tbody tr th {\n",
              "        vertical-align: top;\n",
              "    }\n",
              "\n",
              "    .dataframe thead th {\n",
              "        text-align: right;\n",
              "    }\n",
              "</style>\n",
              "<table border=\"1\" class=\"dataframe\">\n",
              "  <thead>\n",
              "    <tr style=\"text-align: right;\">\n",
              "      <th></th>\n",
              "      <th>Name</th>\n",
              "      <th>Type1</th>\n",
              "      <th>Type2</th>\n",
              "      <th>pkn</th>\n",
              "      <th>Gen</th>\n",
              "    </tr>\n",
              "  </thead>\n",
              "  <tbody>\n",
              "    <tr>\n",
              "      <th>0</th>\n",
              "      <td>bulbasaur</td>\n",
              "      <td>Grass</td>\n",
              "      <td>Poison</td>\n",
              "      <td>1</td>\n",
              "      <td>1</td>\n",
              "    </tr>\n",
              "    <tr>\n",
              "      <th>1</th>\n",
              "      <td>ivysaur</td>\n",
              "      <td>Grass</td>\n",
              "      <td>Poison</td>\n",
              "      <td>2</td>\n",
              "      <td>1</td>\n",
              "    </tr>\n",
              "    <tr>\n",
              "      <th>2</th>\n",
              "      <td>venusaur</td>\n",
              "      <td>Grass</td>\n",
              "      <td>Poison</td>\n",
              "      <td>3</td>\n",
              "      <td>1</td>\n",
              "    </tr>\n",
              "    <tr>\n",
              "      <th>3</th>\n",
              "      <td>charmander</td>\n",
              "      <td>Fire</td>\n",
              "      <td>Fire</td>\n",
              "      <td>4</td>\n",
              "      <td>1</td>\n",
              "    </tr>\n",
              "    <tr>\n",
              "      <th>4</th>\n",
              "      <td>charmeleon</td>\n",
              "      <td>Fire</td>\n",
              "      <td>Fire</td>\n",
              "      <td>5</td>\n",
              "      <td>1</td>\n",
              "    </tr>\n",
              "  </tbody>\n",
              "</table>\n",
              "</div>"
            ],
            "text/plain": [
              "         Name  Type1   Type2  pkn Gen\n",
              "0   bulbasaur  Grass  Poison    1   1\n",
              "1     ivysaur  Grass  Poison    2   1\n",
              "2    venusaur  Grass  Poison    3   1\n",
              "3  charmander   Fire    Fire    4   1\n",
              "4  charmeleon   Fire    Fire    5   1"
            ]
          },
          "metadata": {
            "tags": []
          },
          "execution_count": 21
        }
      ]
    },
    {
      "cell_type": "code",
      "metadata": {
        "id": "XyZojAHwVmXN"
      },
      "source": [
        "numbers = []\n",
        "for i in range(1,pokemons.shape[0]+1):\n",
        "    numbers.append(i)\n",
        "pokemons['pkn'] = numbers\n",
        "IMG_DIR = 'pokemon-images-dataset/pokemon'\n",
        "from os import listdir\n",
        "from os.path import isfile, join\n",
        "onlyfiles = [f for f in listdir(IMG_DIR) if isfile(join(IMG_DIR, f))]"
      ],
      "execution_count": null,
      "outputs": []
    },
    {
      "cell_type": "code",
      "metadata": {
        "colab": {
          "base_uri": "https://localhost:8080/",
          "height": 204
        },
        "id": "4PBqD3XpV8rc",
        "outputId": "e902f0a1-f67b-4aae-93fc-ebeddfd55f75"
      },
      "source": [
        "import re\n",
        "dataframe_img = pd.DataFrame([])\n",
        "images = []\n",
        "pokemon_number = []\n",
        "for img in onlyfiles:\n",
        "    if not re.search('-', img):\n",
        "        pkn = img.split('.')\n",
        "        n = re.sub(\"[^0-9]\", \"\", pkn[0])\n",
        "        path = IMG_DIR +'/' +str(img)\n",
        "        images.append(path)\n",
        "        pokemon_number.append(n)\n",
        "dataframe_img['images'] = images\n",
        "dataframe_img['pkn'] = pokemon_number\n",
        "dataframe_img['pkn'] = dataframe_img['pkn'].astype(int)\n",
        "dataframe_img['pkn'] = dataframe_img['pkn'].astype(int)\n",
        "result = pokemons.merge(dataframe_img, left_on='pkn', right_on='pkn')\n",
        "result.head()"
      ],
      "execution_count": null,
      "outputs": [
        {
          "output_type": "execute_result",
          "data": {
            "text/html": [
              "<div>\n",
              "<style scoped>\n",
              "    .dataframe tbody tr th:only-of-type {\n",
              "        vertical-align: middle;\n",
              "    }\n",
              "\n",
              "    .dataframe tbody tr th {\n",
              "        vertical-align: top;\n",
              "    }\n",
              "\n",
              "    .dataframe thead th {\n",
              "        text-align: right;\n",
              "    }\n",
              "</style>\n",
              "<table border=\"1\" class=\"dataframe\">\n",
              "  <thead>\n",
              "    <tr style=\"text-align: right;\">\n",
              "      <th></th>\n",
              "      <th>Name</th>\n",
              "      <th>Type1</th>\n",
              "      <th>Type2</th>\n",
              "      <th>Gen</th>\n",
              "      <th>pkn</th>\n",
              "      <th>images</th>\n",
              "    </tr>\n",
              "  </thead>\n",
              "  <tbody>\n",
              "    <tr>\n",
              "      <th>0</th>\n",
              "      <td>bulbasaur</td>\n",
              "      <td>Grass</td>\n",
              "      <td>Poison</td>\n",
              "      <td>1</td>\n",
              "      <td>1</td>\n",
              "      <td>pokemon-images-dataset/pokemon/1.png</td>\n",
              "    </tr>\n",
              "    <tr>\n",
              "      <th>1</th>\n",
              "      <td>ivysaur</td>\n",
              "      <td>Grass</td>\n",
              "      <td>Poison</td>\n",
              "      <td>1</td>\n",
              "      <td>2</td>\n",
              "      <td>pokemon-images-dataset/pokemon/2.png</td>\n",
              "    </tr>\n",
              "    <tr>\n",
              "      <th>2</th>\n",
              "      <td>venusaur</td>\n",
              "      <td>Grass</td>\n",
              "      <td>Poison</td>\n",
              "      <td>1</td>\n",
              "      <td>3</td>\n",
              "      <td>pokemon-images-dataset/pokemon/3.png</td>\n",
              "    </tr>\n",
              "    <tr>\n",
              "      <th>3</th>\n",
              "      <td>charmander</td>\n",
              "      <td>Fire</td>\n",
              "      <td>Fire</td>\n",
              "      <td>1</td>\n",
              "      <td>4</td>\n",
              "      <td>pokemon-images-dataset/pokemon/4.png</td>\n",
              "    </tr>\n",
              "    <tr>\n",
              "      <th>4</th>\n",
              "      <td>charmeleon</td>\n",
              "      <td>Fire</td>\n",
              "      <td>Fire</td>\n",
              "      <td>1</td>\n",
              "      <td>5</td>\n",
              "      <td>pokemon-images-dataset/pokemon/5.png</td>\n",
              "    </tr>\n",
              "  </tbody>\n",
              "</table>\n",
              "</div>"
            ],
            "text/plain": [
              "         Name  Type1   Type2 Gen  pkn                                images\n",
              "0   bulbasaur  Grass  Poison   1    1  pokemon-images-dataset/pokemon/1.png\n",
              "1     ivysaur  Grass  Poison   1    2  pokemon-images-dataset/pokemon/2.png\n",
              "2    venusaur  Grass  Poison   1    3  pokemon-images-dataset/pokemon/3.png\n",
              "3  charmander   Fire    Fire   1    4  pokemon-images-dataset/pokemon/4.png\n",
              "4  charmeleon   Fire    Fire   1    5  pokemon-images-dataset/pokemon/5.png"
            ]
          },
          "metadata": {
            "tags": []
          },
          "execution_count": 13
        }
      ]
    },
    {
      "cell_type": "code",
      "metadata": {
        "id": "T7y6dUmDWFj_"
      },
      "source": [
        "imageTrain, imageTest, genTrain, genTest = train_test_split(result[\"images\"], result[\"Gen\"], test_size = 0.3, random_state = 919)\n",
        "\n",
        "imageTrain, imageVal, genTrain, genVal = train_test_split(imageTrain, genTrain, test_size = 0.4, random_state = 919)"
      ],
      "execution_count": null,
      "outputs": []
    },
    {
      "cell_type": "code",
      "metadata": {
        "colab": {
          "base_uri": "https://localhost:8080/"
        },
        "id": "i6axYzCFWiM2",
        "outputId": "79963887-6a8e-4f2c-f679-9fc0aff77efb"
      },
      "source": [
        "datagen = image.ImageDataGenerator()\n",
        "trainDf = pd.DataFrame(imageTrain) \n",
        "trainDf[\"Gen\"] = genTrain \n",
        "train = datagen.flow_from_dataframe(trainDf, x_col = \"images\", y_col = \"Gen\") "
      ],
      "execution_count": null,
      "outputs": [
        {
          "output_type": "stream",
          "text": [
            "Found 297 validated image filenames belonging to 6 classes.\n"
          ],
          "name": "stdout"
        }
      ]
    },
    {
      "cell_type": "code",
      "metadata": {
        "colab": {
          "base_uri": "https://localhost:8080/"
        },
        "id": "wPmFvAyvYnT6",
        "outputId": "69c13e22-911d-4554-b749-db4a071bd29e"
      },
      "source": [
        "testDf = pd.DataFrame(imageTest) \n",
        "testDf[\"Gen\"] = genTest \n",
        "test = datagen.flow_from_dataframe(testDf, x_col = \"images\", y_col = \"Gen\") "
      ],
      "execution_count": null,
      "outputs": [
        {
          "output_type": "stream",
          "text": [
            "Found 213 validated image filenames belonging to 6 classes.\n"
          ],
          "name": "stdout"
        }
      ]
    },
    {
      "cell_type": "code",
      "metadata": {
        "colab": {
          "base_uri": "https://localhost:8080/"
        },
        "id": "-8c6fJBeYxic",
        "outputId": "5bd38e6e-3c94-4ea9-e958-b9d36a6ba532"
      },
      "source": [
        "valDf = pd.DataFrame(imageVal) \n",
        "valDf[\"Gen\"] = genVal \n",
        "val = datagen.flow_from_dataframe(valDf, x_col = \"images\", y_col = \"Gen\") "
      ],
      "execution_count": null,
      "outputs": [
        {
          "output_type": "stream",
          "text": [
            "Found 198 validated image filenames belonging to 6 classes.\n"
          ],
          "name": "stdout"
        }
      ]
    },
    {
      "cell_type": "code",
      "metadata": {
        "colab": {
          "base_uri": "https://localhost:8080/"
        },
        "id": "OPty8lTEY7lz",
        "outputId": "f3170073-4abe-422f-a727-efeef214b801"
      },
      "source": [
        "\n",
        "\n",
        "\n",
        "batchSize = 8 #The number of items in each batch\n",
        "width = 256 #The width of the images\n",
        "height = 256 #The height of the images\n",
        "channels = 3 #The number of channels (RGB)\n",
        "\n",
        "model = Sequential() \n",
        "model.add(L.Lambda(lambda x: x, input_shape = (width, height, channels))) #Put the input into a lambda, because it would not work for some reason in the Conv2D\n",
        "model.add(Conv2D(32, (3, 3))) \n",
        "model.add(BatchNormalization()) \n",
        "model.add(Activation('relu'))\n",
        "model.add(MaxPooling2D(pool_size=(2, 2))) \n",
        "\n",
        "model.add(Conv2D(32, (3, 3))) \n",
        "model.add(Activation('relu')) \n",
        "model.add(MaxPooling2D(pool_size=(2, 2))) \n",
        "\n",
        "model.add(Conv2D(64, (3, 3))) \n",
        "model.add(Activation('relu')) \n",
        "model.add(MaxPooling2D(pool_size=(2, 2))) \n",
        "model.add(Flatten()) \n",
        "model.add(Dense(64)) \n",
        "model.add(Activation('relu')) \n",
        "model.add(Dropout(0.2)) \n",
        "model.add(Dense(1)) \n",
        "model.add(Activation('sigmoid')) \n",
        "\n",
        "model.compile(loss = 'binary_crossentropy', \n",
        "              optimizer='adam', metrics=['acc'])\n",
        "\n",
        "history = model.fit_generator(train, epochs = 5, validation_data=val) "
      ],
      "execution_count": null,
      "outputs": [
        {
          "output_type": "stream",
          "text": [
            "Epoch 1/5\n",
            "10/10 [==============================] - 47s 5s/step - loss: 3.3865 - acc: 0.7637 - val_loss: 0.6397 - val_acc: 0.8333\n",
            "Epoch 2/5\n",
            "10/10 [==============================] - 30s 3s/step - loss: 0.5936 - acc: 0.8333 - val_loss: 1.2088 - val_acc: 0.8333\n",
            "Epoch 3/5\n",
            "10/10 [==============================] - 31s 3s/step - loss: 0.5013 - acc: 0.8333 - val_loss: 0.5120 - val_acc: 0.8333\n",
            "Epoch 4/5\n",
            "10/10 [==============================] - 30s 3s/step - loss: 0.4842 - acc: 0.8333 - val_loss: 0.6513 - val_acc: 0.8333\n",
            "Epoch 5/5\n",
            "10/10 [==============================] - 30s 3s/step - loss: 0.4759 - acc: 0.8333 - val_loss: 0.5033 - val_acc: 0.8333\n"
          ],
          "name": "stdout"
        }
      ]
    },
    {
      "cell_type": "code",
      "metadata": {
        "colab": {
          "base_uri": "https://localhost:8080/"
        },
        "id": "u84pVue4aJkC",
        "outputId": "b0d69267-2a70-4b95-8a85-4ad168a9a5d8"
      },
      "source": [
        "predict = model.predict_generator(test)"
      ],
      "execution_count": null,
      "outputs": [
        {
          "output_type": "stream",
          "text": [
            "WARNING:tensorflow:From <ipython-input-35-e98b8e9d4e9f>:1: Model.predict_generator (from tensorflow.python.keras.engine.training) is deprecated and will be removed in a future version.\n",
            "Instructions for updating:\n",
            "Please use Model.predict, which supports generators.\n"
          ],
          "name": "stdout"
        }
      ]
    },
    {
      "cell_type": "code",
      "metadata": {
        "colab": {
          "base_uri": "https://localhost:8080/",
          "height": 417
        },
        "id": "I1yaU2dlaKOL",
        "outputId": "6be31fbb-5d14-4558-8882-aad87d4d6fd3"
      },
      "source": [
        "import plotly.io as pio\n",
        "pio.renderers.default = 'colab'\n",
        "import plotly.graph_objects as go\n",
        "fig = go.Figure()\n",
        "epochs = []\n",
        "for i in range(len(history.history['acc'])):\n",
        "    epochs.append(i)\n",
        "fig.add_trace(go.Scatter(x=epochs,y=history.history['acc'], mode='lines',name='Training Accuracy'))\n",
        "fig.add_trace(go.Scatter(x=epochs,y=history.history['val_acc'], mode='lines',name='Validation Accuracy'))\n",
        "fig.update_layout({\n",
        "        'plot_bgcolor': 'rgba(0, 0, 0, 0)',\n",
        "        'paper_bgcolor': 'rgba(0, 0, 0, 0)',\n",
        "        'width': 500, \n",
        "        'height': 400\n",
        "\n",
        "})\n",
        "fig.show()"
      ],
      "execution_count": null,
      "outputs": [
        {
          "output_type": "display_data",
          "data": {
            "text/html": [
              "<html>\n",
              "<head><meta charset=\"utf-8\" /></head>\n",
              "<body>\n",
              "    <div>\n",
              "            <script src=\"https://cdnjs.cloudflare.com/ajax/libs/mathjax/2.7.5/MathJax.js?config=TeX-AMS-MML_SVG\"></script><script type=\"text/javascript\">if (window.MathJax) {MathJax.Hub.Config({SVG: {font: \"STIX-Web\"}});}</script>\n",
              "                <script type=\"text/javascript\">window.PlotlyConfig = {MathJaxConfig: 'local'};</script>\n",
              "        <script src=\"https://cdn.plot.ly/plotly-latest.min.js\"></script>    \n",
              "            <div id=\"7f707e27-30b4-4bfa-8007-303e3a55427a\" class=\"plotly-graph-div\" style=\"height:400px; width:500px;\"></div>\n",
              "            <script type=\"text/javascript\">\n",
              "                \n",
              "                    window.PLOTLYENV=window.PLOTLYENV || {};\n",
              "                    \n",
              "                if (document.getElementById(\"7f707e27-30b4-4bfa-8007-303e3a55427a\")) {\n",
              "                    Plotly.newPlot(\n",
              "                        '7f707e27-30b4-4bfa-8007-303e3a55427a',\n",
              "                        [{\"mode\": \"lines\", \"name\": \"Training Accuracy\", \"type\": \"scatter\", \"x\": [0, 1, 2, 3, 4], \"y\": [0.7637486457824707, 0.8333333730697632, 0.8333333730697632, 0.8333333730697632, 0.8333333730697632]}, {\"mode\": \"lines\", \"name\": \"Validation Accuracy\", \"type\": \"scatter\", \"x\": [0, 1, 2, 3, 4], \"y\": [0.8333333134651184, 0.8333333134651184, 0.8333333134651184, 0.8333333134651184, 0.8333333134651184]}],\n",
              "                        {\"height\": 400, \"paper_bgcolor\": \"rgba(0, 0, 0, 0)\", \"plot_bgcolor\": \"rgba(0, 0, 0, 0)\", \"template\": {\"data\": {\"bar\": [{\"error_x\": {\"color\": \"#2a3f5f\"}, \"error_y\": {\"color\": \"#2a3f5f\"}, \"marker\": {\"line\": {\"color\": \"#E5ECF6\", \"width\": 0.5}}, \"type\": \"bar\"}], \"barpolar\": [{\"marker\": {\"line\": {\"color\": \"#E5ECF6\", \"width\": 0.5}}, \"type\": \"barpolar\"}], \"carpet\": [{\"aaxis\": {\"endlinecolor\": \"#2a3f5f\", \"gridcolor\": \"white\", \"linecolor\": \"white\", \"minorgridcolor\": \"white\", \"startlinecolor\": \"#2a3f5f\"}, \"baxis\": {\"endlinecolor\": \"#2a3f5f\", \"gridcolor\": \"white\", \"linecolor\": \"white\", \"minorgridcolor\": \"white\", \"startlinecolor\": \"#2a3f5f\"}, \"type\": \"carpet\"}], \"choropleth\": [{\"colorbar\": {\"outlinewidth\": 0, \"ticks\": \"\"}, \"type\": \"choropleth\"}], \"contour\": [{\"colorbar\": {\"outlinewidth\": 0, \"ticks\": \"\"}, \"colorscale\": [[0.0, \"#0d0887\"], [0.1111111111111111, \"#46039f\"], [0.2222222222222222, \"#7201a8\"], [0.3333333333333333, \"#9c179e\"], [0.4444444444444444, \"#bd3786\"], [0.5555555555555556, \"#d8576b\"], [0.6666666666666666, \"#ed7953\"], [0.7777777777777778, \"#fb9f3a\"], [0.8888888888888888, \"#fdca26\"], [1.0, \"#f0f921\"]], \"type\": \"contour\"}], \"contourcarpet\": [{\"colorbar\": {\"outlinewidth\": 0, \"ticks\": \"\"}, \"type\": \"contourcarpet\"}], \"heatmap\": [{\"colorbar\": {\"outlinewidth\": 0, \"ticks\": \"\"}, \"colorscale\": [[0.0, \"#0d0887\"], [0.1111111111111111, \"#46039f\"], [0.2222222222222222, \"#7201a8\"], [0.3333333333333333, \"#9c179e\"], [0.4444444444444444, \"#bd3786\"], [0.5555555555555556, \"#d8576b\"], [0.6666666666666666, \"#ed7953\"], [0.7777777777777778, \"#fb9f3a\"], [0.8888888888888888, \"#fdca26\"], [1.0, \"#f0f921\"]], \"type\": \"heatmap\"}], \"heatmapgl\": [{\"colorbar\": {\"outlinewidth\": 0, \"ticks\": \"\"}, \"colorscale\": [[0.0, \"#0d0887\"], [0.1111111111111111, \"#46039f\"], [0.2222222222222222, \"#7201a8\"], [0.3333333333333333, \"#9c179e\"], [0.4444444444444444, \"#bd3786\"], [0.5555555555555556, \"#d8576b\"], [0.6666666666666666, \"#ed7953\"], [0.7777777777777778, \"#fb9f3a\"], [0.8888888888888888, \"#fdca26\"], [1.0, \"#f0f921\"]], \"type\": \"heatmapgl\"}], \"histogram\": [{\"marker\": {\"colorbar\": {\"outlinewidth\": 0, \"ticks\": \"\"}}, \"type\": \"histogram\"}], \"histogram2d\": [{\"colorbar\": {\"outlinewidth\": 0, \"ticks\": \"\"}, \"colorscale\": [[0.0, \"#0d0887\"], [0.1111111111111111, \"#46039f\"], [0.2222222222222222, \"#7201a8\"], [0.3333333333333333, \"#9c179e\"], [0.4444444444444444, \"#bd3786\"], [0.5555555555555556, \"#d8576b\"], [0.6666666666666666, \"#ed7953\"], [0.7777777777777778, \"#fb9f3a\"], [0.8888888888888888, \"#fdca26\"], [1.0, \"#f0f921\"]], \"type\": \"histogram2d\"}], \"histogram2dcontour\": [{\"colorbar\": {\"outlinewidth\": 0, \"ticks\": \"\"}, \"colorscale\": [[0.0, \"#0d0887\"], [0.1111111111111111, \"#46039f\"], [0.2222222222222222, \"#7201a8\"], [0.3333333333333333, \"#9c179e\"], [0.4444444444444444, \"#bd3786\"], [0.5555555555555556, \"#d8576b\"], [0.6666666666666666, \"#ed7953\"], [0.7777777777777778, \"#fb9f3a\"], [0.8888888888888888, \"#fdca26\"], [1.0, \"#f0f921\"]], \"type\": \"histogram2dcontour\"}], \"mesh3d\": [{\"colorbar\": {\"outlinewidth\": 0, \"ticks\": \"\"}, \"type\": \"mesh3d\"}], \"parcoords\": [{\"line\": {\"colorbar\": {\"outlinewidth\": 0, \"ticks\": \"\"}}, \"type\": \"parcoords\"}], \"pie\": [{\"automargin\": true, \"type\": \"pie\"}], \"scatter\": [{\"marker\": {\"colorbar\": {\"outlinewidth\": 0, \"ticks\": \"\"}}, \"type\": \"scatter\"}], \"scatter3d\": [{\"line\": {\"colorbar\": {\"outlinewidth\": 0, \"ticks\": \"\"}}, \"marker\": {\"colorbar\": {\"outlinewidth\": 0, \"ticks\": \"\"}}, \"type\": \"scatter3d\"}], \"scattercarpet\": [{\"marker\": {\"colorbar\": {\"outlinewidth\": 0, \"ticks\": \"\"}}, \"type\": \"scattercarpet\"}], \"scattergeo\": [{\"marker\": {\"colorbar\": {\"outlinewidth\": 0, \"ticks\": \"\"}}, \"type\": \"scattergeo\"}], \"scattergl\": [{\"marker\": {\"colorbar\": {\"outlinewidth\": 0, \"ticks\": \"\"}}, \"type\": \"scattergl\"}], \"scattermapbox\": [{\"marker\": {\"colorbar\": {\"outlinewidth\": 0, \"ticks\": \"\"}}, \"type\": \"scattermapbox\"}], \"scatterpolar\": [{\"marker\": {\"colorbar\": {\"outlinewidth\": 0, \"ticks\": \"\"}}, \"type\": \"scatterpolar\"}], \"scatterpolargl\": [{\"marker\": {\"colorbar\": {\"outlinewidth\": 0, \"ticks\": \"\"}}, \"type\": \"scatterpolargl\"}], \"scatterternary\": [{\"marker\": {\"colorbar\": {\"outlinewidth\": 0, \"ticks\": \"\"}}, \"type\": \"scatterternary\"}], \"surface\": [{\"colorbar\": {\"outlinewidth\": 0, \"ticks\": \"\"}, \"colorscale\": [[0.0, \"#0d0887\"], [0.1111111111111111, \"#46039f\"], [0.2222222222222222, \"#7201a8\"], [0.3333333333333333, \"#9c179e\"], [0.4444444444444444, \"#bd3786\"], [0.5555555555555556, \"#d8576b\"], [0.6666666666666666, \"#ed7953\"], [0.7777777777777778, \"#fb9f3a\"], [0.8888888888888888, \"#fdca26\"], [1.0, \"#f0f921\"]], \"type\": \"surface\"}], \"table\": [{\"cells\": {\"fill\": {\"color\": \"#EBF0F8\"}, \"line\": {\"color\": \"white\"}}, \"header\": {\"fill\": {\"color\": \"#C8D4E3\"}, \"line\": {\"color\": \"white\"}}, \"type\": \"table\"}]}, \"layout\": {\"annotationdefaults\": {\"arrowcolor\": \"#2a3f5f\", \"arrowhead\": 0, \"arrowwidth\": 1}, \"coloraxis\": {\"colorbar\": {\"outlinewidth\": 0, \"ticks\": \"\"}}, \"colorscale\": {\"diverging\": [[0, \"#8e0152\"], [0.1, \"#c51b7d\"], [0.2, \"#de77ae\"], [0.3, \"#f1b6da\"], [0.4, \"#fde0ef\"], [0.5, \"#f7f7f7\"], [0.6, \"#e6f5d0\"], [0.7, \"#b8e186\"], [0.8, \"#7fbc41\"], [0.9, \"#4d9221\"], [1, \"#276419\"]], \"sequential\": [[0.0, \"#0d0887\"], [0.1111111111111111, \"#46039f\"], [0.2222222222222222, \"#7201a8\"], [0.3333333333333333, \"#9c179e\"], [0.4444444444444444, \"#bd3786\"], [0.5555555555555556, \"#d8576b\"], [0.6666666666666666, \"#ed7953\"], [0.7777777777777778, \"#fb9f3a\"], [0.8888888888888888, \"#fdca26\"], [1.0, \"#f0f921\"]], \"sequentialminus\": [[0.0, \"#0d0887\"], [0.1111111111111111, \"#46039f\"], [0.2222222222222222, \"#7201a8\"], [0.3333333333333333, \"#9c179e\"], [0.4444444444444444, \"#bd3786\"], [0.5555555555555556, \"#d8576b\"], [0.6666666666666666, \"#ed7953\"], [0.7777777777777778, \"#fb9f3a\"], [0.8888888888888888, \"#fdca26\"], [1.0, \"#f0f921\"]]}, \"colorway\": [\"#636efa\", \"#EF553B\", \"#00cc96\", \"#ab63fa\", \"#FFA15A\", \"#19d3f3\", \"#FF6692\", \"#B6E880\", \"#FF97FF\", \"#FECB52\"], \"font\": {\"color\": \"#2a3f5f\"}, \"geo\": {\"bgcolor\": \"white\", \"lakecolor\": \"white\", \"landcolor\": \"#E5ECF6\", \"showlakes\": true, \"showland\": true, \"subunitcolor\": \"white\"}, \"hoverlabel\": {\"align\": \"left\"}, \"hovermode\": \"closest\", \"mapbox\": {\"style\": \"light\"}, \"paper_bgcolor\": \"white\", \"plot_bgcolor\": \"#E5ECF6\", \"polar\": {\"angularaxis\": {\"gridcolor\": \"white\", \"linecolor\": \"white\", \"ticks\": \"\"}, \"bgcolor\": \"#E5ECF6\", \"radialaxis\": {\"gridcolor\": \"white\", \"linecolor\": \"white\", \"ticks\": \"\"}}, \"scene\": {\"xaxis\": {\"backgroundcolor\": \"#E5ECF6\", \"gridcolor\": \"white\", \"gridwidth\": 2, \"linecolor\": \"white\", \"showbackground\": true, \"ticks\": \"\", \"zerolinecolor\": \"white\"}, \"yaxis\": {\"backgroundcolor\": \"#E5ECF6\", \"gridcolor\": \"white\", \"gridwidth\": 2, \"linecolor\": \"white\", \"showbackground\": true, \"ticks\": \"\", \"zerolinecolor\": \"white\"}, \"zaxis\": {\"backgroundcolor\": \"#E5ECF6\", \"gridcolor\": \"white\", \"gridwidth\": 2, \"linecolor\": \"white\", \"showbackground\": true, \"ticks\": \"\", \"zerolinecolor\": \"white\"}}, \"shapedefaults\": {\"line\": {\"color\": \"#2a3f5f\"}}, \"ternary\": {\"aaxis\": {\"gridcolor\": \"white\", \"linecolor\": \"white\", \"ticks\": \"\"}, \"baxis\": {\"gridcolor\": \"white\", \"linecolor\": \"white\", \"ticks\": \"\"}, \"bgcolor\": \"#E5ECF6\", \"caxis\": {\"gridcolor\": \"white\", \"linecolor\": \"white\", \"ticks\": \"\"}}, \"title\": {\"x\": 0.05}, \"xaxis\": {\"automargin\": true, \"gridcolor\": \"white\", \"linecolor\": \"white\", \"ticks\": \"\", \"title\": {\"standoff\": 15}, \"zerolinecolor\": \"white\", \"zerolinewidth\": 2}, \"yaxis\": {\"automargin\": true, \"gridcolor\": \"white\", \"linecolor\": \"white\", \"ticks\": \"\", \"title\": {\"standoff\": 15}, \"zerolinecolor\": \"white\", \"zerolinewidth\": 2}}}, \"width\": 500},\n",
              "                        {\"responsive\": true}\n",
              "                    ).then(function(){\n",
              "                            \n",
              "var gd = document.getElementById('7f707e27-30b4-4bfa-8007-303e3a55427a');\n",
              "var x = new MutationObserver(function (mutations, observer) {{\n",
              "        var display = window.getComputedStyle(gd).display;\n",
              "        if (!display || display === 'none') {{\n",
              "            console.log([gd, 'removed!']);\n",
              "            Plotly.purge(gd);\n",
              "            observer.disconnect();\n",
              "        }}\n",
              "}});\n",
              "\n",
              "// Listen for the removal of the full notebook cells\n",
              "var notebookContainer = gd.closest('#notebook-container');\n",
              "if (notebookContainer) {{\n",
              "    x.observe(notebookContainer, {childList: true});\n",
              "}}\n",
              "\n",
              "// Listen for the clearing of the current output cell\n",
              "var outputEl = gd.closest('.output');\n",
              "if (outputEl) {{\n",
              "    x.observe(outputEl, {childList: true});\n",
              "}}\n",
              "\n",
              "                        })\n",
              "                };\n",
              "                \n",
              "            </script>\n",
              "        </div>\n",
              "</body>\n",
              "</html>"
            ]
          },
          "metadata": {
            "tags": []
          }
        }
      ]
    },
    {
      "cell_type": "code",
      "metadata": {
        "colab": {
          "base_uri": "https://localhost:8080/"
        },
        "id": "sXHJjd_fa_j8",
        "outputId": "d890fec2-a7f7-4284-d946-853f52704de6"
      },
      "source": [
        "loss, accuracy = model.evaluate(test)\n",
        "print(accuracy)"
      ],
      "execution_count": null,
      "outputs": [
        {
          "output_type": "stream",
          "text": [
            "7/7 [==============================] - 5s 679ms/step - loss: 0.4949 - acc: 0.8333\n",
            "0.8333333134651184\n"
          ],
          "name": "stdout"
        }
      ]
    },
    {
      "cell_type": "code",
      "metadata": {
        "id": "fu3w2qGobAIh"
      },
      "source": [
        ""
      ],
      "execution_count": null,
      "outputs": []
    }
  ]
}