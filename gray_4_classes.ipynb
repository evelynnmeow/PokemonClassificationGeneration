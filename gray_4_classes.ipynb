{
  "nbformat": 4,
  "nbformat_minor": 0,
  "metadata": {
    "colab": {
      "name": "gray_4_classes.ipynb",
      "provenance": [],
      "collapsed_sections": [],
      "authorship_tag": "ABX9TyMgyLAxil8Vhx8x7SazZHUn"
    },
    "kernelspec": {
      "name": "python3",
      "display_name": "Python 3"
    },
    "accelerator": "GPU"
  },
  "cells": [
    {
      "cell_type": "code",
      "metadata": {
        "colab": {
          "base_uri": "https://localhost:8080/",
          "height": 17
        },
        "id": "6bTjp78tjLxm",
        "outputId": "809d620f-68d1-4502-f37b-13c6ee2227e5"
      },
      "source": [
        "# Pokemon type classification \n",
        "# Part 4\n",
        "# JM \n",
        "# This notebook uses cnn to predict 4 classes of Pokemon based on their shaper\n",
        "import numpy as np \n",
        "import pandas as pd \n",
        "import matplotlib.pyplot as plt\n",
        "import plotly.graph_objects as go\n",
        "from plotly.offline import init_notebook_mode, iplot\n",
        "import plotly.express as px\n",
        "init_notebook_mode(connected=True)\n",
        "from google.colab import drive\n",
        "import re\n",
        "import os\n",
        "from shutil import copyfile\n",
        "from sklearn.model_selection import train_test_split\n",
        "from shutil import copyfile, copy2\n",
        "from keras.preprocessing.image import ImageDataGenerator\n",
        "import keras\n",
        "from tensorflow.keras.preprocessing import image \n",
        "import tensorflow as tf"
      ],
      "execution_count": null,
      "outputs": [
        {
          "output_type": "display_data",
          "data": {
            "text/html": [
              "        <script type=\"text/javascript\">\n",
              "        window.PlotlyConfig = {MathJaxConfig: 'local'};\n",
              "        if (window.MathJax) {MathJax.Hub.Config({SVG: {font: \"STIX-Web\"}});}\n",
              "        if (typeof require !== 'undefined') {\n",
              "        require.undef(\"plotly\");\n",
              "        requirejs.config({\n",
              "            paths: {\n",
              "                'plotly': ['https://cdn.plot.ly/plotly-latest.min']\n",
              "            }\n",
              "        });\n",
              "        require(['plotly'], function(Plotly) {\n",
              "            window._Plotly = Plotly;\n",
              "        });\n",
              "        }\n",
              "        </script>\n",
              "        "
            ]
          },
          "metadata": {
            "tags": []
          }
        }
      ]
    },
    {
      "cell_type": "code",
      "metadata": {
        "colab": {
          "base_uri": "https://localhost:8080/"
        },
        "id": "H1UtrVpujQib",
        "outputId": "7932036e-4ae9-4060-9795-df7e9bbc0be9"
      },
      "source": [
        "drive.mount(\"/content/drive\", force_remount=True)"
      ],
      "execution_count": null,
      "outputs": [
        {
          "output_type": "stream",
          "text": [
            "Mounted at /content/drive\n"
          ],
          "name": "stdout"
        }
      ]
    },
    {
      "cell_type": "code",
      "metadata": {
        "colab": {
          "base_uri": "https://localhost:8080/"
        },
        "id": "0fBia6lAjblh",
        "outputId": "dca240e8-fec0-4c01-c920-2c91b6da555f"
      },
      "source": [
        "%cd /content/drive/My Drive/Pokemon/Pokemon/"
      ],
      "execution_count": null,
      "outputs": [
        {
          "output_type": "stream",
          "text": [
            "/content/drive/My Drive/Pokemon/Pokemon\n"
          ],
          "name": "stdout"
        }
      ]
    },
    {
      "cell_type": "code",
      "metadata": {
        "id": "lv_Q2hBijcgq"
      },
      "source": [
        "# read in the dataset\n",
        "pokemons = pd.read_csv('pokemon-images-and-types/pokemon.csv')\n",
        "numbers = []\n",
        "for i in range(1,pokemons.shape[0]+1):\n",
        "    numbers.append(i)\n",
        "pokemons['pkn'] = numbers\n",
        "IMG_DIR = 'pokemon-images-dataset/pokemon'\n",
        "from os import listdir\n",
        "from os.path import isfile, join\n",
        "onlyfiles = [f for f in listdir(IMG_DIR) if isfile(join(IMG_DIR, f))]"
      ],
      "execution_count": null,
      "outputs": []
    },
    {
      "cell_type": "code",
      "metadata": {
        "colab": {
          "base_uri": "https://localhost:8080/",
          "height": 204
        },
        "id": "asmtSVQ8jcoi",
        "outputId": "8a813918-6000-48d7-bf78-f8d08063895a"
      },
      "source": [
        "# merge the dataset\n",
        "dataframe_img = pd.DataFrame([])\n",
        "images = []\n",
        "pokemon_number = []\n",
        "for img in onlyfiles:\n",
        "    if not re.search('-', img):\n",
        "        pkn = img.split('.')\n",
        "        n = re.sub(\"[^0-9]\", \"\", pkn[0])\n",
        "        path = IMG_DIR +'/' +str(img)\n",
        "        images.append(path)\n",
        "        pokemon_number.append(n)\n",
        "dataframe_img['images'] = images\n",
        "dataframe_img['pkn'] = pokemon_number\n",
        "dataframe_img['pkn'] = dataframe_img['pkn'].astype(int)\n",
        "dataframe_img['pkn'] = dataframe_img['pkn'].astype(int)\n",
        "result = pokemons.merge(dataframe_img, left_on='pkn', right_on='pkn')\n",
        "result.head()"
      ],
      "execution_count": null,
      "outputs": [
        {
          "output_type": "execute_result",
          "data": {
            "text/html": [
              "<div>\n",
              "<style scoped>\n",
              "    .dataframe tbody tr th:only-of-type {\n",
              "        vertical-align: middle;\n",
              "    }\n",
              "\n",
              "    .dataframe tbody tr th {\n",
              "        vertical-align: top;\n",
              "    }\n",
              "\n",
              "    .dataframe thead th {\n",
              "        text-align: right;\n",
              "    }\n",
              "</style>\n",
              "<table border=\"1\" class=\"dataframe\">\n",
              "  <thead>\n",
              "    <tr style=\"text-align: right;\">\n",
              "      <th></th>\n",
              "      <th>Name</th>\n",
              "      <th>Type1</th>\n",
              "      <th>Type2</th>\n",
              "      <th>pkn</th>\n",
              "      <th>images</th>\n",
              "    </tr>\n",
              "  </thead>\n",
              "  <tbody>\n",
              "    <tr>\n",
              "      <th>0</th>\n",
              "      <td>bulbasaur</td>\n",
              "      <td>Grass</td>\n",
              "      <td>Poison</td>\n",
              "      <td>1</td>\n",
              "      <td>pokemon-images-dataset/pokemon/1.png</td>\n",
              "    </tr>\n",
              "    <tr>\n",
              "      <th>1</th>\n",
              "      <td>ivysaur</td>\n",
              "      <td>Grass</td>\n",
              "      <td>Poison</td>\n",
              "      <td>2</td>\n",
              "      <td>pokemon-images-dataset/pokemon/2.png</td>\n",
              "    </tr>\n",
              "    <tr>\n",
              "      <th>2</th>\n",
              "      <td>venusaur</td>\n",
              "      <td>Grass</td>\n",
              "      <td>Poison</td>\n",
              "      <td>3</td>\n",
              "      <td>pokemon-images-dataset/pokemon/3.png</td>\n",
              "    </tr>\n",
              "    <tr>\n",
              "      <th>3</th>\n",
              "      <td>charmander</td>\n",
              "      <td>Fire</td>\n",
              "      <td>NaN</td>\n",
              "      <td>4</td>\n",
              "      <td>pokemon-images-dataset/pokemon/4.png</td>\n",
              "    </tr>\n",
              "    <tr>\n",
              "      <th>4</th>\n",
              "      <td>charmeleon</td>\n",
              "      <td>Fire</td>\n",
              "      <td>NaN</td>\n",
              "      <td>5</td>\n",
              "      <td>pokemon-images-dataset/pokemon/5.png</td>\n",
              "    </tr>\n",
              "  </tbody>\n",
              "</table>\n",
              "</div>"
            ],
            "text/plain": [
              "         Name  Type1   Type2  pkn                                images\n",
              "0   bulbasaur  Grass  Poison    1  pokemon-images-dataset/pokemon/1.png\n",
              "1     ivysaur  Grass  Poison    2  pokemon-images-dataset/pokemon/2.png\n",
              "2    venusaur  Grass  Poison    3  pokemon-images-dataset/pokemon/3.png\n",
              "3  charmander   Fire     NaN    4  pokemon-images-dataset/pokemon/4.png\n",
              "4  charmeleon   Fire     NaN    5  pokemon-images-dataset/pokemon/5.png"
            ]
          },
          "metadata": {
            "tags": []
          },
          "execution_count": 5
        }
      ]
    },
    {
      "cell_type": "code",
      "metadata": {
        "id": "Vd4MdTKujcuP"
      },
      "source": [
        "# We will be focusing on water, grass, electric, fire\n",
        "select = ['Water', 'Fire', 'Grass', 'Electric']\n",
        "result = result[result['Type1'].isin(select)]"
      ],
      "execution_count": null,
      "outputs": []
    },
    {
      "cell_type": "code",
      "metadata": {
        "id": "RstDi-RNjcxI"
      },
      "source": [
        "# train, test, validation split\n",
        "\n",
        "X_train, X_test, y_train, y_test = train_test_split(\n",
        "    result, result['Type1'],test_size = 0.4, random_state=919)\n",
        "\n",
        "X_test, X_val, y_test, y_val = train_test_split(\n",
        "    X_test, y_test, test_size = 0.5, random_state = 919)"
      ],
      "execution_count": null,
      "outputs": []
    },
    {
      "cell_type": "code",
      "metadata": {
        "colab": {
          "base_uri": "https://localhost:8080/"
        },
        "id": "Zsgu2B6qjcz5",
        "outputId": "db75147e-4f53-4346-c4a7-111f97feace9"
      },
      "source": [
        "# training set\n",
        "datagen = image.ImageDataGenerator()\n",
        "trainDf = pd.DataFrame(X_train) \n",
        "trainDf[\"Type1\"] = y_train \n",
        "train = datagen.flow_from_dataframe(trainDf, x_col = \"images\", y_col = \"Type1\", color_mode=\"grayscale\") "
      ],
      "execution_count": null,
      "outputs": [
        {
          "output_type": "stream",
          "text": [
            "Found 149 validated image filenames belonging to 4 classes.\n"
          ],
          "name": "stdout"
        }
      ]
    },
    {
      "cell_type": "code",
      "metadata": {
        "colab": {
          "base_uri": "https://localhost:8080/"
        },
        "id": "O62WEUmIjc2m",
        "outputId": "0faaa157-d2c8-479a-d1ed-12faaff91f3b"
      },
      "source": [
        "# test set\n",
        "testDf = pd.DataFrame(X_test) \n",
        "testDf[\"Type1\"] = y_test \n",
        "test = datagen.flow_from_dataframe(testDf, x_col = \"images\", y_col = \"Type1\", color_mode=\"grayscale\",) "
      ],
      "execution_count": null,
      "outputs": [
        {
          "output_type": "stream",
          "text": [
            "Found 50 validated image filenames belonging to 4 classes.\n"
          ],
          "name": "stdout"
        }
      ]
    },
    {
      "cell_type": "code",
      "metadata": {
        "colab": {
          "base_uri": "https://localhost:8080/"
        },
        "id": "baX_uX-Fjc5H",
        "outputId": "93d904eb-68a7-4f68-fef9-9d9b3318dba1"
      },
      "source": [
        "# validation set\n",
        "valDf = pd.DataFrame(X_val) \n",
        "valDf[\"Type1\"] = y_val \n",
        "val = datagen.flow_from_dataframe(valDf, x_col = \"images\", y_col = \"Type1\", color_mode=\"grayscale\",) "
      ],
      "execution_count": null,
      "outputs": [
        {
          "output_type": "stream",
          "text": [
            "Found 50 validated image filenames belonging to 4 classes.\n"
          ],
          "name": "stdout"
        }
      ]
    },
    {
      "cell_type": "code",
      "metadata": {
        "colab": {
          "base_uri": "https://localhost:8080/"
        },
        "id": "XnWkaqYKjc7u",
        "outputId": "5bab47ca-9582-4070-f917-b726d05ff206"
      },
      "source": [
        "# CNN model for 4 classes\n",
        "from keras.models import Sequential\n",
        "from keras.layers import Conv2D, MaxPooling2D, Dropout, Flatten, Dense, Activation, BatchNormalization, Lambda\n",
        "from keras.preprocessing.image import ImageDataGenerator\n",
        "import tensorflow as tf\n",
        "def cnn_model_4():\n",
        "    model = Sequential()\n",
        "    IMAGE_WIDTH = 256\n",
        "    IMAGE_HEIGHT = 256\n",
        "    IMAGE_CHANNELS = 1\n",
        "    model.add(Lambda(lambda x: x, input_shape=(IMAGE_WIDTH, IMAGE_HEIGHT, IMAGE_CHANNELS)))\n",
        "    model.add(Conv2D(32, (2, 2), activation='relu'))\n",
        "    model.add(BatchNormalization())\n",
        "    model.add(MaxPooling2D(pool_size=(3, 3)))\n",
        "    model.add(Dropout(0.25))\n",
        "\n",
        "    model.add(Conv2D(64, (2, 2), activation='relu'))\n",
        "    model.add(BatchNormalization())\n",
        "    model.add(MaxPooling2D(pool_size=(3, 3)))\n",
        "    model.add(Dropout(0.25))\n",
        "\n",
        "    model.add(Conv2D(128, (2, 2), activation='relu'))\n",
        "    model.add(BatchNormalization())\n",
        "    model.add(MaxPooling2D(pool_size=(3, 3)))\n",
        "    model.add(Dropout(0.25))\n",
        "\n",
        "    model.add(Conv2D(256, (2, 2), activation='relu'))\n",
        "    model.add(BatchNormalization())\n",
        "    model.add(MaxPooling2D(pool_size=(3, 3)))\n",
        "    model.add(Dropout(0.25))\n",
        "\n",
        "    \n",
        "\n",
        "    model.add(Flatten())\n",
        "    model.add(Dense(1024, activation='relu'))\n",
        "    model.add(BatchNormalization())\n",
        "    model.add(Dropout(0.25))\n",
        "    model.add(Dense(512, activation='relu'))\n",
        "    model.add(BatchNormalization())\n",
        "    model.add(Dropout(0.25))\n",
        "    model.add(Dense(128, activation='relu'))\n",
        "    model.add(BatchNormalization())\n",
        "    model.add(Dropout(0.25))\n",
        "    model.add(Dense(64, activation='relu'))\n",
        "    model.add(BatchNormalization())\n",
        "    model.add(Dropout(0.25))\n",
        "    model.add(Dense(4, activation='softmax')) \n",
        "\n",
        "    model.compile(loss='categorical_crossentropy', optimizer='adam', metrics=['acc'])\n",
        "\n",
        "    model.summary()\n",
        "    return model\n",
        "model = cnn_model_4()\n",
        "model.summary()\n",
        "history = model.fit(train, epochs=70, validation_data=val)"
      ],
      "execution_count": null,
      "outputs": [
        {
          "output_type": "stream",
          "text": [
            "Model: \"sequential\"\n",
            "_________________________________________________________________\n",
            "Layer (type)                 Output Shape              Param #   \n",
            "=================================================================\n",
            "lambda (Lambda)              (None, 256, 256, 1)       0         \n",
            "_________________________________________________________________\n",
            "conv2d (Conv2D)              (None, 255, 255, 32)      160       \n",
            "_________________________________________________________________\n",
            "batch_normalization (BatchNo (None, 255, 255, 32)      128       \n",
            "_________________________________________________________________\n",
            "max_pooling2d (MaxPooling2D) (None, 85, 85, 32)        0         \n",
            "_________________________________________________________________\n",
            "dropout (Dropout)            (None, 85, 85, 32)        0         \n",
            "_________________________________________________________________\n",
            "conv2d_1 (Conv2D)            (None, 84, 84, 64)        8256      \n",
            "_________________________________________________________________\n",
            "batch_normalization_1 (Batch (None, 84, 84, 64)        256       \n",
            "_________________________________________________________________\n",
            "max_pooling2d_1 (MaxPooling2 (None, 28, 28, 64)        0         \n",
            "_________________________________________________________________\n",
            "dropout_1 (Dropout)          (None, 28, 28, 64)        0         \n",
            "_________________________________________________________________\n",
            "conv2d_2 (Conv2D)            (None, 27, 27, 128)       32896     \n",
            "_________________________________________________________________\n",
            "batch_normalization_2 (Batch (None, 27, 27, 128)       512       \n",
            "_________________________________________________________________\n",
            "max_pooling2d_2 (MaxPooling2 (None, 9, 9, 128)         0         \n",
            "_________________________________________________________________\n",
            "dropout_2 (Dropout)          (None, 9, 9, 128)         0         \n",
            "_________________________________________________________________\n",
            "conv2d_3 (Conv2D)            (None, 8, 8, 256)         131328    \n",
            "_________________________________________________________________\n",
            "batch_normalization_3 (Batch (None, 8, 8, 256)         1024      \n",
            "_________________________________________________________________\n",
            "max_pooling2d_3 (MaxPooling2 (None, 2, 2, 256)         0         \n",
            "_________________________________________________________________\n",
            "dropout_3 (Dropout)          (None, 2, 2, 256)         0         \n",
            "_________________________________________________________________\n",
            "flatten (Flatten)            (None, 1024)              0         \n",
            "_________________________________________________________________\n",
            "dense (Dense)                (None, 1024)              1049600   \n",
            "_________________________________________________________________\n",
            "batch_normalization_4 (Batch (None, 1024)              4096      \n",
            "_________________________________________________________________\n",
            "dropout_4 (Dropout)          (None, 1024)              0         \n",
            "_________________________________________________________________\n",
            "dense_1 (Dense)              (None, 512)               524800    \n",
            "_________________________________________________________________\n",
            "batch_normalization_5 (Batch (None, 512)               2048      \n",
            "_________________________________________________________________\n",
            "dropout_5 (Dropout)          (None, 512)               0         \n",
            "_________________________________________________________________\n",
            "dense_2 (Dense)              (None, 128)               65664     \n",
            "_________________________________________________________________\n",
            "batch_normalization_6 (Batch (None, 128)               512       \n",
            "_________________________________________________________________\n",
            "dropout_6 (Dropout)          (None, 128)               0         \n",
            "_________________________________________________________________\n",
            "dense_3 (Dense)              (None, 64)                8256      \n",
            "_________________________________________________________________\n",
            "batch_normalization_7 (Batch (None, 64)                256       \n",
            "_________________________________________________________________\n",
            "dropout_7 (Dropout)          (None, 64)                0         \n",
            "_________________________________________________________________\n",
            "dense_4 (Dense)              (None, 4)                 260       \n",
            "=================================================================\n",
            "Total params: 1,830,052\n",
            "Trainable params: 1,825,636\n",
            "Non-trainable params: 4,416\n",
            "_________________________________________________________________\n",
            "Model: \"sequential\"\n",
            "_________________________________________________________________\n",
            "Layer (type)                 Output Shape              Param #   \n",
            "=================================================================\n",
            "lambda (Lambda)              (None, 256, 256, 1)       0         \n",
            "_________________________________________________________________\n",
            "conv2d (Conv2D)              (None, 255, 255, 32)      160       \n",
            "_________________________________________________________________\n",
            "batch_normalization (BatchNo (None, 255, 255, 32)      128       \n",
            "_________________________________________________________________\n",
            "max_pooling2d (MaxPooling2D) (None, 85, 85, 32)        0         \n",
            "_________________________________________________________________\n",
            "dropout (Dropout)            (None, 85, 85, 32)        0         \n",
            "_________________________________________________________________\n",
            "conv2d_1 (Conv2D)            (None, 84, 84, 64)        8256      \n",
            "_________________________________________________________________\n",
            "batch_normalization_1 (Batch (None, 84, 84, 64)        256       \n",
            "_________________________________________________________________\n",
            "max_pooling2d_1 (MaxPooling2 (None, 28, 28, 64)        0         \n",
            "_________________________________________________________________\n",
            "dropout_1 (Dropout)          (None, 28, 28, 64)        0         \n",
            "_________________________________________________________________\n",
            "conv2d_2 (Conv2D)            (None, 27, 27, 128)       32896     \n",
            "_________________________________________________________________\n",
            "batch_normalization_2 (Batch (None, 27, 27, 128)       512       \n",
            "_________________________________________________________________\n",
            "max_pooling2d_2 (MaxPooling2 (None, 9, 9, 128)         0         \n",
            "_________________________________________________________________\n",
            "dropout_2 (Dropout)          (None, 9, 9, 128)         0         \n",
            "_________________________________________________________________\n",
            "conv2d_3 (Conv2D)            (None, 8, 8, 256)         131328    \n",
            "_________________________________________________________________\n",
            "batch_normalization_3 (Batch (None, 8, 8, 256)         1024      \n",
            "_________________________________________________________________\n",
            "max_pooling2d_3 (MaxPooling2 (None, 2, 2, 256)         0         \n",
            "_________________________________________________________________\n",
            "dropout_3 (Dropout)          (None, 2, 2, 256)         0         \n",
            "_________________________________________________________________\n",
            "flatten (Flatten)            (None, 1024)              0         \n",
            "_________________________________________________________________\n",
            "dense (Dense)                (None, 1024)              1049600   \n",
            "_________________________________________________________________\n",
            "batch_normalization_4 (Batch (None, 1024)              4096      \n",
            "_________________________________________________________________\n",
            "dropout_4 (Dropout)          (None, 1024)              0         \n",
            "_________________________________________________________________\n",
            "dense_1 (Dense)              (None, 512)               524800    \n",
            "_________________________________________________________________\n",
            "batch_normalization_5 (Batch (None, 512)               2048      \n",
            "_________________________________________________________________\n",
            "dropout_5 (Dropout)          (None, 512)               0         \n",
            "_________________________________________________________________\n",
            "dense_2 (Dense)              (None, 128)               65664     \n",
            "_________________________________________________________________\n",
            "batch_normalization_6 (Batch (None, 128)               512       \n",
            "_________________________________________________________________\n",
            "dropout_6 (Dropout)          (None, 128)               0         \n",
            "_________________________________________________________________\n",
            "dense_3 (Dense)              (None, 64)                8256      \n",
            "_________________________________________________________________\n",
            "batch_normalization_7 (Batch (None, 64)                256       \n",
            "_________________________________________________________________\n",
            "dropout_7 (Dropout)          (None, 64)                0         \n",
            "_________________________________________________________________\n",
            "dense_4 (Dense)              (None, 4)                 260       \n",
            "=================================================================\n",
            "Total params: 1,830,052\n",
            "Trainable params: 1,825,636\n",
            "Non-trainable params: 4,416\n",
            "_________________________________________________________________\n",
            "Epoch 1/70\n",
            "5/5 [==============================] - 31s 6s/step - loss: 2.0674 - acc: 0.2483 - val_loss: 2.9386 - val_acc: 0.2000\n",
            "Epoch 2/70\n",
            "5/5 [==============================] - 1s 134ms/step - loss: 2.0243 - acc: 0.2819 - val_loss: 3.1229 - val_acc: 0.2200\n",
            "Epoch 3/70\n",
            "5/5 [==============================] - 1s 135ms/step - loss: 1.7411 - acc: 0.3154 - val_loss: 5.0397 - val_acc: 0.2200\n",
            "Epoch 4/70\n",
            "5/5 [==============================] - 1s 144ms/step - loss: 2.0577 - acc: 0.2819 - val_loss: 6.1717 - val_acc: 0.2200\n",
            "Epoch 5/70\n",
            "5/5 [==============================] - 1s 128ms/step - loss: 1.8369 - acc: 0.3356 - val_loss: 5.2126 - val_acc: 0.2200\n",
            "Epoch 6/70\n",
            "5/5 [==============================] - 1s 133ms/step - loss: 1.7185 - acc: 0.2953 - val_loss: 3.9522 - val_acc: 0.2200\n",
            "Epoch 7/70\n",
            "5/5 [==============================] - 1s 136ms/step - loss: 1.6896 - acc: 0.3758 - val_loss: 3.3330 - val_acc: 0.2200\n",
            "Epoch 8/70\n",
            "5/5 [==============================] - 1s 126ms/step - loss: 1.6376 - acc: 0.3087 - val_loss: 3.6396 - val_acc: 0.2200\n",
            "Epoch 9/70\n",
            "5/5 [==============================] - 1s 139ms/step - loss: 1.5773 - acc: 0.3423 - val_loss: 3.8696 - val_acc: 0.2400\n",
            "Epoch 10/70\n",
            "5/5 [==============================] - 1s 132ms/step - loss: 1.5869 - acc: 0.3758 - val_loss: 3.8479 - val_acc: 0.2600\n",
            "Epoch 11/70\n",
            "5/5 [==============================] - 1s 127ms/step - loss: 1.5055 - acc: 0.3826 - val_loss: 3.2032 - val_acc: 0.3200\n",
            "Epoch 12/70\n",
            "5/5 [==============================] - 1s 139ms/step - loss: 1.4857 - acc: 0.3691 - val_loss: 3.1437 - val_acc: 0.2800\n",
            "Epoch 13/70\n",
            "5/5 [==============================] - 1s 134ms/step - loss: 1.5422 - acc: 0.3691 - val_loss: 2.5128 - val_acc: 0.3600\n",
            "Epoch 14/70\n",
            "5/5 [==============================] - 1s 132ms/step - loss: 1.4338 - acc: 0.3691 - val_loss: 2.2237 - val_acc: 0.3200\n",
            "Epoch 15/70\n",
            "5/5 [==============================] - 1s 134ms/step - loss: 1.4058 - acc: 0.3893 - val_loss: 1.7669 - val_acc: 0.3400\n",
            "Epoch 16/70\n",
            "5/5 [==============================] - 1s 141ms/step - loss: 1.2709 - acc: 0.4497 - val_loss: 1.5747 - val_acc: 0.3200\n",
            "Epoch 17/70\n",
            "5/5 [==============================] - 1s 131ms/step - loss: 1.3007 - acc: 0.4631 - val_loss: 1.5358 - val_acc: 0.2800\n",
            "Epoch 18/70\n",
            "5/5 [==============================] - 1s 127ms/step - loss: 1.3398 - acc: 0.4362 - val_loss: 1.5191 - val_acc: 0.3200\n",
            "Epoch 19/70\n",
            "5/5 [==============================] - 1s 125ms/step - loss: 1.3100 - acc: 0.4899 - val_loss: 1.5065 - val_acc: 0.3000\n",
            "Epoch 20/70\n",
            "5/5 [==============================] - 1s 131ms/step - loss: 1.3511 - acc: 0.4631 - val_loss: 1.5074 - val_acc: 0.3400\n",
            "Epoch 21/70\n",
            "5/5 [==============================] - 1s 129ms/step - loss: 1.2180 - acc: 0.4430 - val_loss: 1.5424 - val_acc: 0.3000\n",
            "Epoch 22/70\n",
            "5/5 [==============================] - 1s 130ms/step - loss: 1.2590 - acc: 0.5101 - val_loss: 1.5911 - val_acc: 0.2400\n",
            "Epoch 23/70\n",
            "5/5 [==============================] - 1s 132ms/step - loss: 1.1878 - acc: 0.4698 - val_loss: 1.6540 - val_acc: 0.2200\n",
            "Epoch 24/70\n",
            "5/5 [==============================] - 1s 131ms/step - loss: 1.0796 - acc: 0.5503 - val_loss: 1.7180 - val_acc: 0.2200\n",
            "Epoch 25/70\n",
            "5/5 [==============================] - 1s 135ms/step - loss: 1.1693 - acc: 0.4631 - val_loss: 1.7918 - val_acc: 0.1400\n",
            "Epoch 26/70\n",
            "5/5 [==============================] - 1s 131ms/step - loss: 1.1723 - acc: 0.4698 - val_loss: 1.8338 - val_acc: 0.1200\n",
            "Epoch 27/70\n",
            "5/5 [==============================] - 1s 131ms/step - loss: 1.3343 - acc: 0.4295 - val_loss: 1.8136 - val_acc: 0.1400\n",
            "Epoch 28/70\n",
            "5/5 [==============================] - 1s 141ms/step - loss: 1.0495 - acc: 0.5235 - val_loss: 1.8535 - val_acc: 0.2600\n",
            "Epoch 29/70\n",
            "5/5 [==============================] - 1s 129ms/step - loss: 1.1489 - acc: 0.5034 - val_loss: 1.9812 - val_acc: 0.2600\n",
            "Epoch 30/70\n",
            "5/5 [==============================] - 1s 128ms/step - loss: 1.1729 - acc: 0.5235 - val_loss: 1.9311 - val_acc: 0.3000\n",
            "Epoch 31/70\n",
            "5/5 [==============================] - 1s 131ms/step - loss: 0.9977 - acc: 0.6174 - val_loss: 1.9096 - val_acc: 0.3000\n",
            "Epoch 32/70\n",
            "5/5 [==============================] - 1s 129ms/step - loss: 1.0914 - acc: 0.5436 - val_loss: 1.8173 - val_acc: 0.3000\n",
            "Epoch 33/70\n",
            "5/5 [==============================] - 1s 130ms/step - loss: 1.0304 - acc: 0.6040 - val_loss: 1.7305 - val_acc: 0.3200\n",
            "Epoch 34/70\n",
            "5/5 [==============================] - 1s 130ms/step - loss: 1.0579 - acc: 0.5503 - val_loss: 1.7068 - val_acc: 0.3200\n",
            "Epoch 35/70\n",
            "5/5 [==============================] - 1s 129ms/step - loss: 1.0306 - acc: 0.5638 - val_loss: 1.7967 - val_acc: 0.2600\n",
            "Epoch 36/70\n",
            "5/5 [==============================] - 1s 129ms/step - loss: 1.0854 - acc: 0.4966 - val_loss: 1.9051 - val_acc: 0.2400\n",
            "Epoch 37/70\n",
            "5/5 [==============================] - 1s 128ms/step - loss: 0.8723 - acc: 0.6242 - val_loss: 2.0539 - val_acc: 0.2800\n",
            "Epoch 38/70\n",
            "5/5 [==============================] - 1s 129ms/step - loss: 0.9625 - acc: 0.5638 - val_loss: 2.2397 - val_acc: 0.2600\n",
            "Epoch 39/70\n",
            "5/5 [==============================] - 1s 141ms/step - loss: 0.8517 - acc: 0.6443 - val_loss: 2.4477 - val_acc: 0.2600\n",
            "Epoch 40/70\n",
            "5/5 [==============================] - 1s 129ms/step - loss: 0.9380 - acc: 0.6242 - val_loss: 2.5955 - val_acc: 0.2200\n",
            "Epoch 41/70\n",
            "5/5 [==============================] - 1s 133ms/step - loss: 0.9713 - acc: 0.5973 - val_loss: 2.5789 - val_acc: 0.2200\n",
            "Epoch 42/70\n",
            "5/5 [==============================] - 1s 128ms/step - loss: 0.9317 - acc: 0.5839 - val_loss: 2.3563 - val_acc: 0.2200\n",
            "Epoch 43/70\n",
            "5/5 [==============================] - 1s 139ms/step - loss: 0.8635 - acc: 0.6846 - val_loss: 2.5276 - val_acc: 0.2200\n",
            "Epoch 44/70\n",
            "5/5 [==============================] - 1s 139ms/step - loss: 0.8343 - acc: 0.6443 - val_loss: 2.8055 - val_acc: 0.2200\n",
            "Epoch 45/70\n",
            "5/5 [==============================] - 1s 144ms/step - loss: 0.7856 - acc: 0.7114 - val_loss: 3.0464 - val_acc: 0.2400\n",
            "Epoch 46/70\n",
            "5/5 [==============================] - 1s 141ms/step - loss: 0.8045 - acc: 0.6980 - val_loss: 3.2086 - val_acc: 0.2200\n",
            "Epoch 47/70\n",
            "5/5 [==============================] - 1s 134ms/step - loss: 0.8605 - acc: 0.6577 - val_loss: 3.2265 - val_acc: 0.2000\n",
            "Epoch 48/70\n",
            "5/5 [==============================] - 1s 131ms/step - loss: 0.8156 - acc: 0.6443 - val_loss: 3.0476 - val_acc: 0.2200\n",
            "Epoch 49/70\n",
            "5/5 [==============================] - 1s 128ms/step - loss: 0.7395 - acc: 0.7248 - val_loss: 2.7911 - val_acc: 0.2600\n",
            "Epoch 50/70\n",
            "5/5 [==============================] - 1s 138ms/step - loss: 0.7433 - acc: 0.6980 - val_loss: 2.8405 - val_acc: 0.2200\n",
            "Epoch 51/70\n",
            "5/5 [==============================] - 1s 130ms/step - loss: 0.8671 - acc: 0.6376 - val_loss: 3.1489 - val_acc: 0.2400\n",
            "Epoch 52/70\n",
            "5/5 [==============================] - 1s 133ms/step - loss: 0.7504 - acc: 0.6711 - val_loss: 3.1538 - val_acc: 0.2400\n",
            "Epoch 53/70\n",
            "5/5 [==============================] - 1s 131ms/step - loss: 0.6475 - acc: 0.7315 - val_loss: 3.2288 - val_acc: 0.2800\n",
            "Epoch 54/70\n",
            "5/5 [==============================] - 1s 130ms/step - loss: 0.7197 - acc: 0.7383 - val_loss: 3.3616 - val_acc: 0.2600\n",
            "Epoch 55/70\n",
            "5/5 [==============================] - 1s 129ms/step - loss: 0.7843 - acc: 0.6846 - val_loss: 3.4892 - val_acc: 0.2600\n",
            "Epoch 56/70\n",
            "5/5 [==============================] - 1s 129ms/step - loss: 0.5871 - acc: 0.7651 - val_loss: 3.4603 - val_acc: 0.2600\n",
            "Epoch 57/70\n",
            "5/5 [==============================] - 1s 132ms/step - loss: 0.6929 - acc: 0.7047 - val_loss: 3.4085 - val_acc: 0.3000\n",
            "Epoch 58/70\n",
            "5/5 [==============================] - 1s 133ms/step - loss: 0.5927 - acc: 0.7852 - val_loss: 3.4362 - val_acc: 0.3000\n",
            "Epoch 59/70\n",
            "5/5 [==============================] - 1s 144ms/step - loss: 0.6284 - acc: 0.7987 - val_loss: 3.3794 - val_acc: 0.3000\n",
            "Epoch 60/70\n",
            "5/5 [==============================] - 1s 132ms/step - loss: 0.6499 - acc: 0.7517 - val_loss: 3.2382 - val_acc: 0.2600\n",
            "Epoch 61/70\n",
            "5/5 [==============================] - 1s 132ms/step - loss: 0.5785 - acc: 0.7517 - val_loss: 3.0724 - val_acc: 0.2400\n",
            "Epoch 62/70\n",
            "5/5 [==============================] - 1s 132ms/step - loss: 0.5716 - acc: 0.7651 - val_loss: 3.0610 - val_acc: 0.1800\n",
            "Epoch 63/70\n",
            "5/5 [==============================] - 1s 145ms/step - loss: 0.6106 - acc: 0.7584 - val_loss: 3.0381 - val_acc: 0.1800\n",
            "Epoch 64/70\n",
            "5/5 [==============================] - 1s 129ms/step - loss: 0.5441 - acc: 0.7718 - val_loss: 3.1289 - val_acc: 0.2400\n",
            "Epoch 65/70\n",
            "5/5 [==============================] - 1s 131ms/step - loss: 0.5816 - acc: 0.7718 - val_loss: 3.2348 - val_acc: 0.2400\n",
            "Epoch 66/70\n",
            "5/5 [==============================] - 1s 131ms/step - loss: 0.5419 - acc: 0.8121 - val_loss: 3.5967 - val_acc: 0.2200\n",
            "Epoch 67/70\n",
            "5/5 [==============================] - 1s 142ms/step - loss: 0.5549 - acc: 0.8054 - val_loss: 3.7070 - val_acc: 0.2000\n",
            "Epoch 68/70\n",
            "5/5 [==============================] - 1s 130ms/step - loss: 0.5364 - acc: 0.7584 - val_loss: 3.6110 - val_acc: 0.2200\n",
            "Epoch 69/70\n",
            "5/5 [==============================] - 1s 132ms/step - loss: 0.5184 - acc: 0.7919 - val_loss: 3.4566 - val_acc: 0.2600\n",
            "Epoch 70/70\n",
            "5/5 [==============================] - 1s 128ms/step - loss: 0.4459 - acc: 0.8255 - val_loss: 3.5480 - val_acc: 0.2200\n"
          ],
          "name": "stdout"
        }
      ]
    },
    {
      "cell_type": "code",
      "metadata": {
        "id": "EeEZ3r06jc-L"
      },
      "source": [
        "predict = model.predict(test)"
      ],
      "execution_count": null,
      "outputs": []
    },
    {
      "cell_type": "code",
      "metadata": {
        "id": "q7tu6jmsjdA6",
        "colab": {
          "base_uri": "https://localhost:8080/",
          "height": 417
        },
        "outputId": "12f29159-5e36-424a-d0eb-784fc645ef22"
      },
      "source": [
        "# plot model performance\n",
        "import plotly.io as pio\n",
        "pio.renderers.default = 'colab'\n",
        "fig = go.Figure()\n",
        "epochs = []\n",
        "for i in range(len(history.history['acc'])):\n",
        "    epochs.append(i)\n",
        "fig.add_trace(go.Scatter(x=epochs,y=history.history['acc'], mode='lines',name='Training Accuracy'))\n",
        "fig.add_trace(go.Scatter(x=epochs,y=history.history['val_acc'], mode='lines',name='Validation Accuracy'))\n",
        "\n",
        "fig.update_layout(\n",
        "    {\n",
        "        'plot_bgcolor': 'rgba(0, 0, 0, 0)',\n",
        "        'paper_bgcolor': 'rgba(0, 0, 0, 0)',\n",
        "        'width': 500, \n",
        "        'height': 400,\n",
        "        'title': \"4-class CNN Model Performance (Gray Scale) \"\n",
        "\n",
        "})\n",
        "fig.update_xaxes(title_text='Number of Epoches')\n",
        "fig.update_yaxes(title_text='Accuracy')\n",
        "\n",
        "fig.show()"
      ],
      "execution_count": null,
      "outputs": [
        {
          "output_type": "display_data",
          "data": {
            "text/html": [
              "<html>\n",
              "<head><meta charset=\"utf-8\" /></head>\n",
              "<body>\n",
              "    <div>\n",
              "            <script src=\"https://cdnjs.cloudflare.com/ajax/libs/mathjax/2.7.5/MathJax.js?config=TeX-AMS-MML_SVG\"></script><script type=\"text/javascript\">if (window.MathJax) {MathJax.Hub.Config({SVG: {font: \"STIX-Web\"}});}</script>\n",
              "                <script type=\"text/javascript\">window.PlotlyConfig = {MathJaxConfig: 'local'};</script>\n",
              "        <script src=\"https://cdn.plot.ly/plotly-latest.min.js\"></script>    \n",
              "            <div id=\"63e7e7aa-e652-49fb-bd62-db009db05cac\" class=\"plotly-graph-div\" style=\"height:400px; width:500px;\"></div>\n",
              "            <script type=\"text/javascript\">\n",
              "                \n",
              "                    window.PLOTLYENV=window.PLOTLYENV || {};\n",
              "                    \n",
              "                if (document.getElementById(\"63e7e7aa-e652-49fb-bd62-db009db05cac\")) {\n",
              "                    Plotly.newPlot(\n",
              "                        '63e7e7aa-e652-49fb-bd62-db009db05cac',\n",
              "                        [{\"mode\": \"lines\", \"name\": \"Training Accuracy\", \"type\": \"scatter\", \"x\": [0, 1, 2, 3, 4, 5, 6, 7, 8, 9, 10, 11, 12, 13, 14, 15, 16, 17, 18, 19, 20, 21, 22, 23, 24, 25, 26, 27, 28, 29, 30, 31, 32, 33, 34, 35, 36, 37, 38, 39, 40, 41, 42, 43, 44, 45, 46, 47, 48, 49, 50, 51, 52, 53, 54, 55, 56, 57, 58, 59, 60, 61, 62, 63, 64, 65, 66, 67, 68, 69], \"y\": [0.24832214415073395, 0.281879186630249, 0.3154362440109253, 0.281879186630249, 0.33557048439979553, 0.29530200362205505, 0.3758389353752136, 0.3087248206138611, 0.34228187799453735, 0.3758389353752136, 0.38255032896995544, 0.3691275119781494, 0.3691275119781494, 0.3691275119781494, 0.38926175236701965, 0.449664443731308, 0.463087260723114, 0.43624159693717957, 0.4899328947067261, 0.463087260723114, 0.4429530203342438, 0.5100671052932739, 0.46979865431785583, 0.5503355860710144, 0.463087260723114, 0.46979865431785583, 0.42953020334243774, 0.5234899520874023, 0.5033556818962097, 0.5234899520874023, 0.6174496412277222, 0.5436241626739502, 0.6040268540382385, 0.5503355860710144, 0.563758373260498, 0.4966442883014679, 0.6241610646247864, 0.563758373260498, 0.6442952752113342, 0.6241610646247864, 0.5973154306411743, 0.5838926434516907, 0.6845637559890747, 0.6442952752113342, 0.7114093899726868, 0.6979866027832031, 0.6577181220054626, 0.6442952752113342, 0.7248322367668152, 0.6979866027832031, 0.6375839114189148, 0.6711409687995911, 0.7315436005592346, 0.7382550239562988, 0.6845637559890747, 0.7651006579399109, 0.7046979665756226, 0.7852349281311035, 0.7986577153205872, 0.7516778707504272, 0.7516778707504272, 0.7651006579399109, 0.7583892345428467, 0.7718120813369751, 0.7718120813369751, 0.8120805621147156, 0.8053691387176514, 0.7583892345428467, 0.791946291923523, 0.8255033493041992]}, {\"mode\": \"lines\", \"name\": \"Validation Accuracy\", \"type\": \"scatter\", \"x\": [0, 1, 2, 3, 4, 5, 6, 7, 8, 9, 10, 11, 12, 13, 14, 15, 16, 17, 18, 19, 20, 21, 22, 23, 24, 25, 26, 27, 28, 29, 30, 31, 32, 33, 34, 35, 36, 37, 38, 39, 40, 41, 42, 43, 44, 45, 46, 47, 48, 49, 50, 51, 52, 53, 54, 55, 56, 57, 58, 59, 60, 61, 62, 63, 64, 65, 66, 67, 68, 69], \"y\": [0.20000000298023224, 0.2199999988079071, 0.2199999988079071, 0.2199999988079071, 0.2199999988079071, 0.2199999988079071, 0.2199999988079071, 0.2199999988079071, 0.23999999463558197, 0.25999999046325684, 0.3199999928474426, 0.2800000011920929, 0.36000001430511475, 0.3199999928474426, 0.3400000035762787, 0.3199999928474426, 0.2800000011920929, 0.3199999928474426, 0.30000001192092896, 0.3400000035762787, 0.30000001192092896, 0.23999999463558197, 0.2199999988079071, 0.2199999988079071, 0.14000000059604645, 0.11999999731779099, 0.14000000059604645, 0.25999999046325684, 0.25999999046325684, 0.30000001192092896, 0.30000001192092896, 0.30000001192092896, 0.3199999928474426, 0.3199999928474426, 0.25999999046325684, 0.23999999463558197, 0.2800000011920929, 0.25999999046325684, 0.25999999046325684, 0.2199999988079071, 0.2199999988079071, 0.2199999988079071, 0.2199999988079071, 0.2199999988079071, 0.23999999463558197, 0.2199999988079071, 0.20000000298023224, 0.2199999988079071, 0.25999999046325684, 0.2199999988079071, 0.23999999463558197, 0.23999999463558197, 0.2800000011920929, 0.25999999046325684, 0.25999999046325684, 0.25999999046325684, 0.30000001192092896, 0.30000001192092896, 0.30000001192092896, 0.25999999046325684, 0.23999999463558197, 0.18000000715255737, 0.18000000715255737, 0.23999999463558197, 0.23999999463558197, 0.2199999988079071, 0.20000000298023224, 0.2199999988079071, 0.25999999046325684, 0.2199999988079071]}],\n",
              "                        {\"height\": 400, \"paper_bgcolor\": \"rgba(0, 0, 0, 0)\", \"plot_bgcolor\": \"rgba(0, 0, 0, 0)\", \"template\": {\"data\": {\"bar\": [{\"error_x\": {\"color\": \"#2a3f5f\"}, \"error_y\": {\"color\": \"#2a3f5f\"}, \"marker\": {\"line\": {\"color\": \"#E5ECF6\", \"width\": 0.5}}, \"type\": \"bar\"}], \"barpolar\": [{\"marker\": {\"line\": {\"color\": \"#E5ECF6\", \"width\": 0.5}}, \"type\": \"barpolar\"}], \"carpet\": [{\"aaxis\": {\"endlinecolor\": \"#2a3f5f\", \"gridcolor\": \"white\", \"linecolor\": \"white\", \"minorgridcolor\": \"white\", \"startlinecolor\": \"#2a3f5f\"}, \"baxis\": {\"endlinecolor\": \"#2a3f5f\", \"gridcolor\": \"white\", \"linecolor\": \"white\", \"minorgridcolor\": \"white\", \"startlinecolor\": \"#2a3f5f\"}, \"type\": \"carpet\"}], \"choropleth\": [{\"colorbar\": {\"outlinewidth\": 0, \"ticks\": \"\"}, \"type\": \"choropleth\"}], \"contour\": [{\"colorbar\": {\"outlinewidth\": 0, \"ticks\": \"\"}, \"colorscale\": [[0.0, \"#0d0887\"], [0.1111111111111111, \"#46039f\"], [0.2222222222222222, \"#7201a8\"], [0.3333333333333333, \"#9c179e\"], [0.4444444444444444, \"#bd3786\"], [0.5555555555555556, \"#d8576b\"], [0.6666666666666666, \"#ed7953\"], [0.7777777777777778, \"#fb9f3a\"], [0.8888888888888888, \"#fdca26\"], [1.0, \"#f0f921\"]], \"type\": \"contour\"}], \"contourcarpet\": [{\"colorbar\": {\"outlinewidth\": 0, \"ticks\": \"\"}, \"type\": \"contourcarpet\"}], \"heatmap\": [{\"colorbar\": {\"outlinewidth\": 0, \"ticks\": \"\"}, \"colorscale\": [[0.0, \"#0d0887\"], [0.1111111111111111, \"#46039f\"], [0.2222222222222222, \"#7201a8\"], [0.3333333333333333, \"#9c179e\"], [0.4444444444444444, \"#bd3786\"], [0.5555555555555556, \"#d8576b\"], [0.6666666666666666, \"#ed7953\"], [0.7777777777777778, \"#fb9f3a\"], [0.8888888888888888, \"#fdca26\"], [1.0, \"#f0f921\"]], \"type\": \"heatmap\"}], \"heatmapgl\": [{\"colorbar\": {\"outlinewidth\": 0, \"ticks\": \"\"}, \"colorscale\": [[0.0, \"#0d0887\"], [0.1111111111111111, \"#46039f\"], [0.2222222222222222, \"#7201a8\"], [0.3333333333333333, \"#9c179e\"], [0.4444444444444444, \"#bd3786\"], [0.5555555555555556, \"#d8576b\"], [0.6666666666666666, \"#ed7953\"], [0.7777777777777778, \"#fb9f3a\"], [0.8888888888888888, \"#fdca26\"], [1.0, \"#f0f921\"]], \"type\": \"heatmapgl\"}], \"histogram\": [{\"marker\": {\"colorbar\": {\"outlinewidth\": 0, \"ticks\": \"\"}}, \"type\": \"histogram\"}], \"histogram2d\": [{\"colorbar\": {\"outlinewidth\": 0, \"ticks\": \"\"}, \"colorscale\": [[0.0, \"#0d0887\"], [0.1111111111111111, \"#46039f\"], [0.2222222222222222, \"#7201a8\"], [0.3333333333333333, \"#9c179e\"], [0.4444444444444444, \"#bd3786\"], [0.5555555555555556, \"#d8576b\"], [0.6666666666666666, \"#ed7953\"], [0.7777777777777778, \"#fb9f3a\"], [0.8888888888888888, \"#fdca26\"], [1.0, \"#f0f921\"]], \"type\": \"histogram2d\"}], \"histogram2dcontour\": [{\"colorbar\": {\"outlinewidth\": 0, \"ticks\": \"\"}, \"colorscale\": [[0.0, \"#0d0887\"], [0.1111111111111111, \"#46039f\"], [0.2222222222222222, \"#7201a8\"], [0.3333333333333333, \"#9c179e\"], [0.4444444444444444, \"#bd3786\"], [0.5555555555555556, \"#d8576b\"], [0.6666666666666666, \"#ed7953\"], [0.7777777777777778, \"#fb9f3a\"], [0.8888888888888888, \"#fdca26\"], [1.0, \"#f0f921\"]], \"type\": \"histogram2dcontour\"}], \"mesh3d\": [{\"colorbar\": {\"outlinewidth\": 0, \"ticks\": \"\"}, \"type\": \"mesh3d\"}], \"parcoords\": [{\"line\": {\"colorbar\": {\"outlinewidth\": 0, \"ticks\": \"\"}}, \"type\": \"parcoords\"}], \"pie\": [{\"automargin\": true, \"type\": \"pie\"}], \"scatter\": [{\"marker\": {\"colorbar\": {\"outlinewidth\": 0, \"ticks\": \"\"}}, \"type\": \"scatter\"}], \"scatter3d\": [{\"line\": {\"colorbar\": {\"outlinewidth\": 0, \"ticks\": \"\"}}, \"marker\": {\"colorbar\": {\"outlinewidth\": 0, \"ticks\": \"\"}}, \"type\": \"scatter3d\"}], \"scattercarpet\": [{\"marker\": {\"colorbar\": {\"outlinewidth\": 0, \"ticks\": \"\"}}, \"type\": \"scattercarpet\"}], \"scattergeo\": [{\"marker\": {\"colorbar\": {\"outlinewidth\": 0, \"ticks\": \"\"}}, \"type\": \"scattergeo\"}], \"scattergl\": [{\"marker\": {\"colorbar\": {\"outlinewidth\": 0, \"ticks\": \"\"}}, \"type\": \"scattergl\"}], \"scattermapbox\": [{\"marker\": {\"colorbar\": {\"outlinewidth\": 0, \"ticks\": \"\"}}, \"type\": \"scattermapbox\"}], \"scatterpolar\": [{\"marker\": {\"colorbar\": {\"outlinewidth\": 0, \"ticks\": \"\"}}, \"type\": \"scatterpolar\"}], \"scatterpolargl\": [{\"marker\": {\"colorbar\": {\"outlinewidth\": 0, \"ticks\": \"\"}}, \"type\": \"scatterpolargl\"}], \"scatterternary\": [{\"marker\": {\"colorbar\": {\"outlinewidth\": 0, \"ticks\": \"\"}}, \"type\": \"scatterternary\"}], \"surface\": [{\"colorbar\": {\"outlinewidth\": 0, \"ticks\": \"\"}, \"colorscale\": [[0.0, \"#0d0887\"], [0.1111111111111111, \"#46039f\"], [0.2222222222222222, \"#7201a8\"], [0.3333333333333333, \"#9c179e\"], [0.4444444444444444, \"#bd3786\"], [0.5555555555555556, \"#d8576b\"], [0.6666666666666666, \"#ed7953\"], [0.7777777777777778, \"#fb9f3a\"], [0.8888888888888888, \"#fdca26\"], [1.0, \"#f0f921\"]], \"type\": \"surface\"}], \"table\": [{\"cells\": {\"fill\": {\"color\": \"#EBF0F8\"}, \"line\": {\"color\": \"white\"}}, \"header\": {\"fill\": {\"color\": \"#C8D4E3\"}, \"line\": {\"color\": \"white\"}}, \"type\": \"table\"}]}, \"layout\": {\"annotationdefaults\": {\"arrowcolor\": \"#2a3f5f\", \"arrowhead\": 0, \"arrowwidth\": 1}, \"coloraxis\": {\"colorbar\": {\"outlinewidth\": 0, \"ticks\": \"\"}}, \"colorscale\": {\"diverging\": [[0, \"#8e0152\"], [0.1, \"#c51b7d\"], [0.2, \"#de77ae\"], [0.3, \"#f1b6da\"], [0.4, \"#fde0ef\"], [0.5, \"#f7f7f7\"], [0.6, \"#e6f5d0\"], [0.7, \"#b8e186\"], [0.8, \"#7fbc41\"], [0.9, \"#4d9221\"], [1, \"#276419\"]], \"sequential\": [[0.0, \"#0d0887\"], [0.1111111111111111, \"#46039f\"], [0.2222222222222222, \"#7201a8\"], [0.3333333333333333, \"#9c179e\"], [0.4444444444444444, \"#bd3786\"], [0.5555555555555556, \"#d8576b\"], [0.6666666666666666, \"#ed7953\"], [0.7777777777777778, \"#fb9f3a\"], [0.8888888888888888, \"#fdca26\"], [1.0, \"#f0f921\"]], \"sequentialminus\": [[0.0, \"#0d0887\"], [0.1111111111111111, \"#46039f\"], [0.2222222222222222, \"#7201a8\"], [0.3333333333333333, \"#9c179e\"], [0.4444444444444444, \"#bd3786\"], [0.5555555555555556, \"#d8576b\"], [0.6666666666666666, \"#ed7953\"], [0.7777777777777778, \"#fb9f3a\"], [0.8888888888888888, \"#fdca26\"], [1.0, \"#f0f921\"]]}, \"colorway\": [\"#636efa\", \"#EF553B\", \"#00cc96\", \"#ab63fa\", \"#FFA15A\", \"#19d3f3\", \"#FF6692\", \"#B6E880\", \"#FF97FF\", \"#FECB52\"], \"font\": {\"color\": \"#2a3f5f\"}, \"geo\": {\"bgcolor\": \"white\", \"lakecolor\": \"white\", \"landcolor\": \"#E5ECF6\", \"showlakes\": true, \"showland\": true, \"subunitcolor\": \"white\"}, \"hoverlabel\": {\"align\": \"left\"}, \"hovermode\": \"closest\", \"mapbox\": {\"style\": \"light\"}, \"paper_bgcolor\": \"white\", \"plot_bgcolor\": \"#E5ECF6\", \"polar\": {\"angularaxis\": {\"gridcolor\": \"white\", \"linecolor\": \"white\", \"ticks\": \"\"}, \"bgcolor\": \"#E5ECF6\", \"radialaxis\": {\"gridcolor\": \"white\", \"linecolor\": \"white\", \"ticks\": \"\"}}, \"scene\": {\"xaxis\": {\"backgroundcolor\": \"#E5ECF6\", \"gridcolor\": \"white\", \"gridwidth\": 2, \"linecolor\": \"white\", \"showbackground\": true, \"ticks\": \"\", \"zerolinecolor\": \"white\"}, \"yaxis\": {\"backgroundcolor\": \"#E5ECF6\", \"gridcolor\": \"white\", \"gridwidth\": 2, \"linecolor\": \"white\", \"showbackground\": true, \"ticks\": \"\", \"zerolinecolor\": \"white\"}, \"zaxis\": {\"backgroundcolor\": \"#E5ECF6\", \"gridcolor\": \"white\", \"gridwidth\": 2, \"linecolor\": \"white\", \"showbackground\": true, \"ticks\": \"\", \"zerolinecolor\": \"white\"}}, \"shapedefaults\": {\"line\": {\"color\": \"#2a3f5f\"}}, \"ternary\": {\"aaxis\": {\"gridcolor\": \"white\", \"linecolor\": \"white\", \"ticks\": \"\"}, \"baxis\": {\"gridcolor\": \"white\", \"linecolor\": \"white\", \"ticks\": \"\"}, \"bgcolor\": \"#E5ECF6\", \"caxis\": {\"gridcolor\": \"white\", \"linecolor\": \"white\", \"ticks\": \"\"}}, \"title\": {\"x\": 0.05}, \"xaxis\": {\"automargin\": true, \"gridcolor\": \"white\", \"linecolor\": \"white\", \"ticks\": \"\", \"title\": {\"standoff\": 15}, \"zerolinecolor\": \"white\", \"zerolinewidth\": 2}, \"yaxis\": {\"automargin\": true, \"gridcolor\": \"white\", \"linecolor\": \"white\", \"ticks\": \"\", \"title\": {\"standoff\": 15}, \"zerolinecolor\": \"white\", \"zerolinewidth\": 2}}}, \"title\": {\"text\": \"4-class CNN Model Performance (Gray Scale) \"}, \"width\": 500, \"xaxis\": {\"title\": {\"text\": \"Number of Epoches\"}}, \"yaxis\": {\"title\": {\"text\": \"Accuracy\"}}},\n",
              "                        {\"responsive\": true}\n",
              "                    ).then(function(){\n",
              "                            \n",
              "var gd = document.getElementById('63e7e7aa-e652-49fb-bd62-db009db05cac');\n",
              "var x = new MutationObserver(function (mutations, observer) {{\n",
              "        var display = window.getComputedStyle(gd).display;\n",
              "        if (!display || display === 'none') {{\n",
              "            console.log([gd, 'removed!']);\n",
              "            Plotly.purge(gd);\n",
              "            observer.disconnect();\n",
              "        }}\n",
              "}});\n",
              "\n",
              "// Listen for the removal of the full notebook cells\n",
              "var notebookContainer = gd.closest('#notebook-container');\n",
              "if (notebookContainer) {{\n",
              "    x.observe(notebookContainer, {childList: true});\n",
              "}}\n",
              "\n",
              "// Listen for the clearing of the current output cell\n",
              "var outputEl = gd.closest('.output');\n",
              "if (outputEl) {{\n",
              "    x.observe(outputEl, {childList: true});\n",
              "}}\n",
              "\n",
              "                        })\n",
              "                };\n",
              "                \n",
              "            </script>\n",
              "        </div>\n",
              "</body>\n",
              "</html>"
            ]
          },
          "metadata": {
            "tags": []
          }
        }
      ]
    },
    {
      "cell_type": "code",
      "metadata": {
        "id": "lFJtN1NNjdGT"
      },
      "source": [
        ""
      ],
      "execution_count": null,
      "outputs": []
    },
    {
      "cell_type": "code",
      "metadata": {
        "id": "hKVCyppJjdIr"
      },
      "source": [
        ""
      ],
      "execution_count": null,
      "outputs": []
    }
  ]
}